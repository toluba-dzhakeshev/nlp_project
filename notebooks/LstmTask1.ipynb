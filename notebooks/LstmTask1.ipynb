{
  "nbformat": 4,
  "nbformat_minor": 0,
  "metadata": {
    "colab": {
      "provenance": [],
      "gpuType": "T4"
    },
    "kernelspec": {
      "name": "python3",
      "display_name": "Python 3"
    },
    "language_info": {
      "name": "python"
    },
    "accelerator": "GPU"
  },
  "cells": [
    {
      "cell_type": "code",
      "source": [
        "!pip install torchutils\n",
        "!pip install torchmetrics\n",
        "!pip install pymorphy3"
      ],
      "metadata": {
        "colab": {
          "base_uri": "https://localhost:8080/"
        },
        "collapsed": true,
        "id": "Ceu46vP20jMK",
        "outputId": "2cbdd1e8-5f35-4126-e139-e910b124f8d6"
      },
      "execution_count": 1,
      "outputs": [
        {
          "output_type": "stream",
          "name": "stdout",
          "text": [
            "Collecting torchutils\n",
            "  Downloading torchutils-0.0.4-py3-none-any.whl.metadata (11 kB)\n",
            "Requirement already satisfied: torch>=1.0.0 in /usr/local/lib/python3.10/dist-packages (from torchutils) (2.3.1+cu121)\n",
            "Requirement already satisfied: numpy>=1.16.2 in /usr/local/lib/python3.10/dist-packages (from torchutils) (1.26.4)\n",
            "Requirement already satisfied: matplotlib>=3.0.3 in /usr/local/lib/python3.10/dist-packages (from torchutils) (3.7.1)\n",
            "Requirement already satisfied: contourpy>=1.0.1 in /usr/local/lib/python3.10/dist-packages (from matplotlib>=3.0.3->torchutils) (1.2.1)\n",
            "Requirement already satisfied: cycler>=0.10 in /usr/local/lib/python3.10/dist-packages (from matplotlib>=3.0.3->torchutils) (0.12.1)\n",
            "Requirement already satisfied: fonttools>=4.22.0 in /usr/local/lib/python3.10/dist-packages (from matplotlib>=3.0.3->torchutils) (4.53.1)\n",
            "Requirement already satisfied: kiwisolver>=1.0.1 in /usr/local/lib/python3.10/dist-packages (from matplotlib>=3.0.3->torchutils) (1.4.5)\n",
            "Requirement already satisfied: packaging>=20.0 in /usr/local/lib/python3.10/dist-packages (from matplotlib>=3.0.3->torchutils) (24.1)\n",
            "Requirement already satisfied: pillow>=6.2.0 in /usr/local/lib/python3.10/dist-packages (from matplotlib>=3.0.3->torchutils) (9.4.0)\n",
            "Requirement already satisfied: pyparsing>=2.3.1 in /usr/local/lib/python3.10/dist-packages (from matplotlib>=3.0.3->torchutils) (3.1.2)\n",
            "Requirement already satisfied: python-dateutil>=2.7 in /usr/local/lib/python3.10/dist-packages (from matplotlib>=3.0.3->torchutils) (2.8.2)\n",
            "Requirement already satisfied: filelock in /usr/local/lib/python3.10/dist-packages (from torch>=1.0.0->torchutils) (3.15.4)\n",
            "Requirement already satisfied: typing-extensions>=4.8.0 in /usr/local/lib/python3.10/dist-packages (from torch>=1.0.0->torchutils) (4.12.2)\n",
            "Requirement already satisfied: sympy in /usr/local/lib/python3.10/dist-packages (from torch>=1.0.0->torchutils) (1.13.1)\n",
            "Requirement already satisfied: networkx in /usr/local/lib/python3.10/dist-packages (from torch>=1.0.0->torchutils) (3.3)\n",
            "Requirement already satisfied: jinja2 in /usr/local/lib/python3.10/dist-packages (from torch>=1.0.0->torchutils) (3.1.4)\n",
            "Requirement already satisfied: fsspec in /usr/local/lib/python3.10/dist-packages (from torch>=1.0.0->torchutils) (2024.6.1)\n",
            "Collecting nvidia-cuda-nvrtc-cu12==12.1.105 (from torch>=1.0.0->torchutils)\n",
            "  Using cached nvidia_cuda_nvrtc_cu12-12.1.105-py3-none-manylinux1_x86_64.whl.metadata (1.5 kB)\n",
            "Collecting nvidia-cuda-runtime-cu12==12.1.105 (from torch>=1.0.0->torchutils)\n",
            "  Using cached nvidia_cuda_runtime_cu12-12.1.105-py3-none-manylinux1_x86_64.whl.metadata (1.5 kB)\n",
            "Collecting nvidia-cuda-cupti-cu12==12.1.105 (from torch>=1.0.0->torchutils)\n",
            "  Using cached nvidia_cuda_cupti_cu12-12.1.105-py3-none-manylinux1_x86_64.whl.metadata (1.6 kB)\n",
            "Collecting nvidia-cudnn-cu12==8.9.2.26 (from torch>=1.0.0->torchutils)\n",
            "  Using cached nvidia_cudnn_cu12-8.9.2.26-py3-none-manylinux1_x86_64.whl.metadata (1.6 kB)\n",
            "Collecting nvidia-cublas-cu12==12.1.3.1 (from torch>=1.0.0->torchutils)\n",
            "  Using cached nvidia_cublas_cu12-12.1.3.1-py3-none-manylinux1_x86_64.whl.metadata (1.5 kB)\n",
            "Collecting nvidia-cufft-cu12==11.0.2.54 (from torch>=1.0.0->torchutils)\n",
            "  Using cached nvidia_cufft_cu12-11.0.2.54-py3-none-manylinux1_x86_64.whl.metadata (1.5 kB)\n",
            "Collecting nvidia-curand-cu12==10.3.2.106 (from torch>=1.0.0->torchutils)\n",
            "  Using cached nvidia_curand_cu12-10.3.2.106-py3-none-manylinux1_x86_64.whl.metadata (1.5 kB)\n",
            "Collecting nvidia-cusolver-cu12==11.4.5.107 (from torch>=1.0.0->torchutils)\n",
            "  Using cached nvidia_cusolver_cu12-11.4.5.107-py3-none-manylinux1_x86_64.whl.metadata (1.6 kB)\n",
            "Collecting nvidia-cusparse-cu12==12.1.0.106 (from torch>=1.0.0->torchutils)\n",
            "  Using cached nvidia_cusparse_cu12-12.1.0.106-py3-none-manylinux1_x86_64.whl.metadata (1.6 kB)\n",
            "Collecting nvidia-nccl-cu12==2.20.5 (from torch>=1.0.0->torchutils)\n",
            "  Using cached nvidia_nccl_cu12-2.20.5-py3-none-manylinux2014_x86_64.whl.metadata (1.8 kB)\n",
            "Collecting nvidia-nvtx-cu12==12.1.105 (from torch>=1.0.0->torchutils)\n",
            "  Using cached nvidia_nvtx_cu12-12.1.105-py3-none-manylinux1_x86_64.whl.metadata (1.7 kB)\n",
            "Requirement already satisfied: triton==2.3.1 in /usr/local/lib/python3.10/dist-packages (from torch>=1.0.0->torchutils) (2.3.1)\n",
            "Collecting nvidia-nvjitlink-cu12 (from nvidia-cusolver-cu12==11.4.5.107->torch>=1.0.0->torchutils)\n",
            "  Using cached nvidia_nvjitlink_cu12-12.6.20-py3-none-manylinux2014_x86_64.whl.metadata (1.5 kB)\n",
            "Requirement already satisfied: six>=1.5 in /usr/local/lib/python3.10/dist-packages (from python-dateutil>=2.7->matplotlib>=3.0.3->torchutils) (1.16.0)\n",
            "Requirement already satisfied: MarkupSafe>=2.0 in /usr/local/lib/python3.10/dist-packages (from jinja2->torch>=1.0.0->torchutils) (2.1.5)\n",
            "Requirement already satisfied: mpmath<1.4,>=1.1.0 in /usr/local/lib/python3.10/dist-packages (from sympy->torch>=1.0.0->torchutils) (1.3.0)\n",
            "Downloading torchutils-0.0.4-py3-none-any.whl (20 kB)\n",
            "Using cached nvidia_cublas_cu12-12.1.3.1-py3-none-manylinux1_x86_64.whl (410.6 MB)\n",
            "Using cached nvidia_cuda_cupti_cu12-12.1.105-py3-none-manylinux1_x86_64.whl (14.1 MB)\n",
            "Using cached nvidia_cuda_nvrtc_cu12-12.1.105-py3-none-manylinux1_x86_64.whl (23.7 MB)\n",
            "Using cached nvidia_cuda_runtime_cu12-12.1.105-py3-none-manylinux1_x86_64.whl (823 kB)\n",
            "Using cached nvidia_cudnn_cu12-8.9.2.26-py3-none-manylinux1_x86_64.whl (731.7 MB)\n",
            "Using cached nvidia_cufft_cu12-11.0.2.54-py3-none-manylinux1_x86_64.whl (121.6 MB)\n",
            "Using cached nvidia_curand_cu12-10.3.2.106-py3-none-manylinux1_x86_64.whl (56.5 MB)\n",
            "Using cached nvidia_cusolver_cu12-11.4.5.107-py3-none-manylinux1_x86_64.whl (124.2 MB)\n",
            "Using cached nvidia_cusparse_cu12-12.1.0.106-py3-none-manylinux1_x86_64.whl (196.0 MB)\n",
            "Using cached nvidia_nccl_cu12-2.20.5-py3-none-manylinux2014_x86_64.whl (176.2 MB)\n",
            "Using cached nvidia_nvtx_cu12-12.1.105-py3-none-manylinux1_x86_64.whl (99 kB)\n",
            "Using cached nvidia_nvjitlink_cu12-12.6.20-py3-none-manylinux2014_x86_64.whl (19.7 MB)\n",
            "Installing collected packages: nvidia-nvtx-cu12, nvidia-nvjitlink-cu12, nvidia-nccl-cu12, nvidia-curand-cu12, nvidia-cufft-cu12, nvidia-cuda-runtime-cu12, nvidia-cuda-nvrtc-cu12, nvidia-cuda-cupti-cu12, nvidia-cublas-cu12, nvidia-cusparse-cu12, nvidia-cudnn-cu12, nvidia-cusolver-cu12, torchutils\n",
            "Successfully installed nvidia-cublas-cu12-12.1.3.1 nvidia-cuda-cupti-cu12-12.1.105 nvidia-cuda-nvrtc-cu12-12.1.105 nvidia-cuda-runtime-cu12-12.1.105 nvidia-cudnn-cu12-8.9.2.26 nvidia-cufft-cu12-11.0.2.54 nvidia-curand-cu12-10.3.2.106 nvidia-cusolver-cu12-11.4.5.107 nvidia-cusparse-cu12-12.1.0.106 nvidia-nccl-cu12-2.20.5 nvidia-nvjitlink-cu12-12.6.20 nvidia-nvtx-cu12-12.1.105 torchutils-0.0.4\n",
            "Collecting torchmetrics\n",
            "  Downloading torchmetrics-1.4.1-py3-none-any.whl.metadata (20 kB)\n",
            "Requirement already satisfied: numpy>1.20.0 in /usr/local/lib/python3.10/dist-packages (from torchmetrics) (1.26.4)\n",
            "Requirement already satisfied: packaging>17.1 in /usr/local/lib/python3.10/dist-packages (from torchmetrics) (24.1)\n",
            "Requirement already satisfied: torch>=1.10.0 in /usr/local/lib/python3.10/dist-packages (from torchmetrics) (2.3.1+cu121)\n",
            "Collecting lightning-utilities>=0.8.0 (from torchmetrics)\n",
            "  Downloading lightning_utilities-0.11.6-py3-none-any.whl.metadata (5.2 kB)\n",
            "Requirement already satisfied: setuptools in /usr/local/lib/python3.10/dist-packages (from lightning-utilities>=0.8.0->torchmetrics) (71.0.4)\n",
            "Requirement already satisfied: typing-extensions in /usr/local/lib/python3.10/dist-packages (from lightning-utilities>=0.8.0->torchmetrics) (4.12.2)\n",
            "Requirement already satisfied: filelock in /usr/local/lib/python3.10/dist-packages (from torch>=1.10.0->torchmetrics) (3.15.4)\n",
            "Requirement already satisfied: sympy in /usr/local/lib/python3.10/dist-packages (from torch>=1.10.0->torchmetrics) (1.13.1)\n",
            "Requirement already satisfied: networkx in /usr/local/lib/python3.10/dist-packages (from torch>=1.10.0->torchmetrics) (3.3)\n",
            "Requirement already satisfied: jinja2 in /usr/local/lib/python3.10/dist-packages (from torch>=1.10.0->torchmetrics) (3.1.4)\n",
            "Requirement already satisfied: fsspec in /usr/local/lib/python3.10/dist-packages (from torch>=1.10.0->torchmetrics) (2024.6.1)\n",
            "Requirement already satisfied: nvidia-cuda-nvrtc-cu12==12.1.105 in /usr/local/lib/python3.10/dist-packages (from torch>=1.10.0->torchmetrics) (12.1.105)\n",
            "Requirement already satisfied: nvidia-cuda-runtime-cu12==12.1.105 in /usr/local/lib/python3.10/dist-packages (from torch>=1.10.0->torchmetrics) (12.1.105)\n",
            "Requirement already satisfied: nvidia-cuda-cupti-cu12==12.1.105 in /usr/local/lib/python3.10/dist-packages (from torch>=1.10.0->torchmetrics) (12.1.105)\n",
            "Requirement already satisfied: nvidia-cudnn-cu12==8.9.2.26 in /usr/local/lib/python3.10/dist-packages (from torch>=1.10.0->torchmetrics) (8.9.2.26)\n",
            "Requirement already satisfied: nvidia-cublas-cu12==12.1.3.1 in /usr/local/lib/python3.10/dist-packages (from torch>=1.10.0->torchmetrics) (12.1.3.1)\n",
            "Requirement already satisfied: nvidia-cufft-cu12==11.0.2.54 in /usr/local/lib/python3.10/dist-packages (from torch>=1.10.0->torchmetrics) (11.0.2.54)\n",
            "Requirement already satisfied: nvidia-curand-cu12==10.3.2.106 in /usr/local/lib/python3.10/dist-packages (from torch>=1.10.0->torchmetrics) (10.3.2.106)\n",
            "Requirement already satisfied: nvidia-cusolver-cu12==11.4.5.107 in /usr/local/lib/python3.10/dist-packages (from torch>=1.10.0->torchmetrics) (11.4.5.107)\n",
            "Requirement already satisfied: nvidia-cusparse-cu12==12.1.0.106 in /usr/local/lib/python3.10/dist-packages (from torch>=1.10.0->torchmetrics) (12.1.0.106)\n",
            "Requirement already satisfied: nvidia-nccl-cu12==2.20.5 in /usr/local/lib/python3.10/dist-packages (from torch>=1.10.0->torchmetrics) (2.20.5)\n",
            "Requirement already satisfied: nvidia-nvtx-cu12==12.1.105 in /usr/local/lib/python3.10/dist-packages (from torch>=1.10.0->torchmetrics) (12.1.105)\n",
            "Requirement already satisfied: triton==2.3.1 in /usr/local/lib/python3.10/dist-packages (from torch>=1.10.0->torchmetrics) (2.3.1)\n",
            "Requirement already satisfied: nvidia-nvjitlink-cu12 in /usr/local/lib/python3.10/dist-packages (from nvidia-cusolver-cu12==11.4.5.107->torch>=1.10.0->torchmetrics) (12.6.20)\n",
            "Requirement already satisfied: MarkupSafe>=2.0 in /usr/local/lib/python3.10/dist-packages (from jinja2->torch>=1.10.0->torchmetrics) (2.1.5)\n",
            "Requirement already satisfied: mpmath<1.4,>=1.1.0 in /usr/local/lib/python3.10/dist-packages (from sympy->torch>=1.10.0->torchmetrics) (1.3.0)\n",
            "Downloading torchmetrics-1.4.1-py3-none-any.whl (866 kB)\n",
            "\u001b[2K   \u001b[90m━━━━━━━━━━━━━━━━━━━━━━━━━━━━━━━━━━━━━━━━\u001b[0m \u001b[32m866.2/866.2 kB\u001b[0m \u001b[31m22.3 MB/s\u001b[0m eta \u001b[36m0:00:00\u001b[0m\n",
            "\u001b[?25hDownloading lightning_utilities-0.11.6-py3-none-any.whl (26 kB)\n",
            "Installing collected packages: lightning-utilities, torchmetrics\n",
            "Successfully installed lightning-utilities-0.11.6 torchmetrics-1.4.1\n",
            "Collecting pymorphy3\n",
            "  Downloading pymorphy3-2.0.2-py3-none-any.whl.metadata (1.8 kB)\n",
            "Collecting dawg-python>=0.7.1 (from pymorphy3)\n",
            "  Downloading DAWG_Python-0.7.2-py2.py3-none-any.whl.metadata (7.0 kB)\n",
            "Collecting pymorphy3-dicts-ru (from pymorphy3)\n",
            "  Downloading pymorphy3_dicts_ru-2.4.417150.4580142-py2.py3-none-any.whl.metadata (2.0 kB)\n",
            "Downloading pymorphy3-2.0.2-py3-none-any.whl (53 kB)\n",
            "\u001b[2K   \u001b[90m━━━━━━━━━━━━━━━━━━━━━━━━━━━━━━━━━━━━━━━━\u001b[0m \u001b[32m53.8/53.8 kB\u001b[0m \u001b[31m3.5 MB/s\u001b[0m eta \u001b[36m0:00:00\u001b[0m\n",
            "\u001b[?25hDownloading DAWG_Python-0.7.2-py2.py3-none-any.whl (11 kB)\n",
            "Downloading pymorphy3_dicts_ru-2.4.417150.4580142-py2.py3-none-any.whl (8.4 MB)\n",
            "\u001b[2K   \u001b[90m━━━━━━━━━━━━━━━━━━━━━━━━━━━━━━━━━━━━━━━━\u001b[0m \u001b[32m8.4/8.4 MB\u001b[0m \u001b[31m90.3 MB/s\u001b[0m eta \u001b[36m0:00:00\u001b[0m\n",
            "\u001b[?25hInstalling collected packages: pymorphy3-dicts-ru, dawg-python, pymorphy3\n",
            "Successfully installed dawg-python-0.7.2 pymorphy3-2.0.2 pymorphy3-dicts-ru-2.4.417150.4580142\n"
          ]
        }
      ]
    },
    {
      "cell_type": "code",
      "execution_count": 2,
      "metadata": {
        "id": "iLKk5vz3vuc-"
      },
      "outputs": [],
      "source": [
        "%load_ext autoreload\n",
        "%autoreload 2"
      ]
    },
    {
      "cell_type": "code",
      "source": [
        "import os\n",
        "import numpy as np\n",
        "import pandas as pd\n",
        "\n",
        "import matplotlib.pyplot as plt\n",
        "\n",
        "import re\n",
        "import string\n",
        "from collections import Counter\n",
        "\n",
        "from nltk.corpus import stopwords\n",
        "\n",
        "from sklearn.model_selection import train_test_split\n",
        "from tqdm.notebook import tqdm\n",
        "\n",
        "import torch\n",
        "from torch.utils.data import DataLoader, TensorDataset\n",
        "import torch.nn as nn\n",
        "import torchutils as tu\n",
        "from torchmetrics.classification import BinaryAccuracy\n",
        "\n",
        "import sklearn\n",
        "sklearn.set_config(transform_output='pandas')\n",
        "\n",
        "import pymorphy3\n",
        "import json\n",
        "\n",
        "import time\n",
        "\n",
        "from dataclasses import dataclass\n",
        "from typing import Union\n",
        "import nltk"
      ],
      "metadata": {
        "id": "Zd0B5CmVwa3j"
      },
      "execution_count": 9,
      "outputs": []
    },
    {
      "cell_type": "code",
      "source": [
        "nltk.download('stopwords')"
      ],
      "metadata": {
        "colab": {
          "base_uri": "https://localhost:8080/"
        },
        "id": "-8Q0XF_m2oLj",
        "outputId": "934aa380-8ccd-4b11-d48f-f3ac2036e068"
      },
      "execution_count": 10,
      "outputs": [
        {
          "output_type": "stream",
          "name": "stderr",
          "text": [
            "[nltk_data] Downloading package stopwords to /root/nltk_data...\n",
            "[nltk_data]   Unzipping corpora/stopwords.zip.\n"
          ]
        },
        {
          "output_type": "execute_result",
          "data": {
            "text/plain": [
              "True"
            ]
          },
          "metadata": {},
          "execution_count": 10
        }
      ]
    },
    {
      "cell_type": "code",
      "source": [
        "russian_stop_words = pd.read_csv('stopwords-ru.txt', header=None)\n",
        "russian_stop_words = set(russian_stop_words[0])"
      ],
      "metadata": {
        "id": "sYQWeQf_wdD5"
      },
      "execution_count": 11,
      "outputs": []
    },
    {
      "cell_type": "code",
      "source": [
        "stop_words = set(set(stopwords.words('english')).union(russian_stop_words))"
      ],
      "metadata": {
        "id": "o8LWGgEn0B4p"
      },
      "execution_count": 12,
      "outputs": []
    },
    {
      "cell_type": "code",
      "source": [
        "data = []\n",
        "with open('healthcare_facilities_reviews.jsonl', 'r') as file:\n",
        "    for line in file:\n",
        "        data.append(json.loads(line))\n",
        "\n",
        "df = pd.DataFrame(data)\n",
        "df = df[['content', 'sentiment']]\n",
        "df.head()"
      ],
      "metadata": {
        "id": "X1IdByG6ww3m",
        "colab": {
          "base_uri": "https://localhost:8080/",
          "height": 206
        },
        "outputId": "49b2bd08-4922-400f-c173-900616558a49"
      },
      "execution_count": 13,
      "outputs": [
        {
          "output_type": "execute_result",
          "data": {
            "text/plain": [
              "                                             content sentiment\n",
              "0  Огромное спасибо за чудесное удаление двух зуб...  positive\n",
              "1  Хочу выразить особую благодарность замечательн...  positive\n",
              "2  Добрый вечер! Хотелось бы поблагодарить сотруд...  positive\n",
              "3  Женщины советского образца в регистратуре не и...  negative\n",
              "4  У меня с детства очень плохие зубы (тонкая и х...  positive"
            ],
            "text/html": [
              "\n",
              "  <div id=\"df-77f22f44-fac6-450f-a7b4-cdeacbcfa903\" class=\"colab-df-container\">\n",
              "    <div>\n",
              "<style scoped>\n",
              "    .dataframe tbody tr th:only-of-type {\n",
              "        vertical-align: middle;\n",
              "    }\n",
              "\n",
              "    .dataframe tbody tr th {\n",
              "        vertical-align: top;\n",
              "    }\n",
              "\n",
              "    .dataframe thead th {\n",
              "        text-align: right;\n",
              "    }\n",
              "</style>\n",
              "<table border=\"1\" class=\"dataframe\">\n",
              "  <thead>\n",
              "    <tr style=\"text-align: right;\">\n",
              "      <th></th>\n",
              "      <th>content</th>\n",
              "      <th>sentiment</th>\n",
              "    </tr>\n",
              "  </thead>\n",
              "  <tbody>\n",
              "    <tr>\n",
              "      <th>0</th>\n",
              "      <td>Огромное спасибо за чудесное удаление двух зуб...</td>\n",
              "      <td>positive</td>\n",
              "    </tr>\n",
              "    <tr>\n",
              "      <th>1</th>\n",
              "      <td>Хочу выразить особую благодарность замечательн...</td>\n",
              "      <td>positive</td>\n",
              "    </tr>\n",
              "    <tr>\n",
              "      <th>2</th>\n",
              "      <td>Добрый вечер! Хотелось бы поблагодарить сотруд...</td>\n",
              "      <td>positive</td>\n",
              "    </tr>\n",
              "    <tr>\n",
              "      <th>3</th>\n",
              "      <td>Женщины советского образца в регистратуре не и...</td>\n",
              "      <td>negative</td>\n",
              "    </tr>\n",
              "    <tr>\n",
              "      <th>4</th>\n",
              "      <td>У меня с детства очень плохие зубы (тонкая и х...</td>\n",
              "      <td>positive</td>\n",
              "    </tr>\n",
              "  </tbody>\n",
              "</table>\n",
              "</div>\n",
              "    <div class=\"colab-df-buttons\">\n",
              "\n",
              "  <div class=\"colab-df-container\">\n",
              "    <button class=\"colab-df-convert\" onclick=\"convertToInteractive('df-77f22f44-fac6-450f-a7b4-cdeacbcfa903')\"\n",
              "            title=\"Convert this dataframe to an interactive table.\"\n",
              "            style=\"display:none;\">\n",
              "\n",
              "  <svg xmlns=\"http://www.w3.org/2000/svg\" height=\"24px\" viewBox=\"0 -960 960 960\">\n",
              "    <path d=\"M120-120v-720h720v720H120Zm60-500h600v-160H180v160Zm220 220h160v-160H400v160Zm0 220h160v-160H400v160ZM180-400h160v-160H180v160Zm440 0h160v-160H620v160ZM180-180h160v-160H180v160Zm440 0h160v-160H620v160Z\"/>\n",
              "  </svg>\n",
              "    </button>\n",
              "\n",
              "  <style>\n",
              "    .colab-df-container {\n",
              "      display:flex;\n",
              "      gap: 12px;\n",
              "    }\n",
              "\n",
              "    .colab-df-convert {\n",
              "      background-color: #E8F0FE;\n",
              "      border: none;\n",
              "      border-radius: 50%;\n",
              "      cursor: pointer;\n",
              "      display: none;\n",
              "      fill: #1967D2;\n",
              "      height: 32px;\n",
              "      padding: 0 0 0 0;\n",
              "      width: 32px;\n",
              "    }\n",
              "\n",
              "    .colab-df-convert:hover {\n",
              "      background-color: #E2EBFA;\n",
              "      box-shadow: 0px 1px 2px rgba(60, 64, 67, 0.3), 0px 1px 3px 1px rgba(60, 64, 67, 0.15);\n",
              "      fill: #174EA6;\n",
              "    }\n",
              "\n",
              "    .colab-df-buttons div {\n",
              "      margin-bottom: 4px;\n",
              "    }\n",
              "\n",
              "    [theme=dark] .colab-df-convert {\n",
              "      background-color: #3B4455;\n",
              "      fill: #D2E3FC;\n",
              "    }\n",
              "\n",
              "    [theme=dark] .colab-df-convert:hover {\n",
              "      background-color: #434B5C;\n",
              "      box-shadow: 0px 1px 3px 1px rgba(0, 0, 0, 0.15);\n",
              "      filter: drop-shadow(0px 1px 2px rgba(0, 0, 0, 0.3));\n",
              "      fill: #FFFFFF;\n",
              "    }\n",
              "  </style>\n",
              "\n",
              "    <script>\n",
              "      const buttonEl =\n",
              "        document.querySelector('#df-77f22f44-fac6-450f-a7b4-cdeacbcfa903 button.colab-df-convert');\n",
              "      buttonEl.style.display =\n",
              "        google.colab.kernel.accessAllowed ? 'block' : 'none';\n",
              "\n",
              "      async function convertToInteractive(key) {\n",
              "        const element = document.querySelector('#df-77f22f44-fac6-450f-a7b4-cdeacbcfa903');\n",
              "        const dataTable =\n",
              "          await google.colab.kernel.invokeFunction('convertToInteractive',\n",
              "                                                    [key], {});\n",
              "        if (!dataTable) return;\n",
              "\n",
              "        const docLinkHtml = 'Like what you see? Visit the ' +\n",
              "          '<a target=\"_blank\" href=https://colab.research.google.com/notebooks/data_table.ipynb>data table notebook</a>'\n",
              "          + ' to learn more about interactive tables.';\n",
              "        element.innerHTML = '';\n",
              "        dataTable['output_type'] = 'display_data';\n",
              "        await google.colab.output.renderOutput(dataTable, element);\n",
              "        const docLink = document.createElement('div');\n",
              "        docLink.innerHTML = docLinkHtml;\n",
              "        element.appendChild(docLink);\n",
              "      }\n",
              "    </script>\n",
              "  </div>\n",
              "\n",
              "\n",
              "<div id=\"df-4b6d5bd0-0f7f-4e58-a548-beca586dd1b6\">\n",
              "  <button class=\"colab-df-quickchart\" onclick=\"quickchart('df-4b6d5bd0-0f7f-4e58-a548-beca586dd1b6')\"\n",
              "            title=\"Suggest charts\"\n",
              "            style=\"display:none;\">\n",
              "\n",
              "<svg xmlns=\"http://www.w3.org/2000/svg\" height=\"24px\"viewBox=\"0 0 24 24\"\n",
              "     width=\"24px\">\n",
              "    <g>\n",
              "        <path d=\"M19 3H5c-1.1 0-2 .9-2 2v14c0 1.1.9 2 2 2h14c1.1 0 2-.9 2-2V5c0-1.1-.9-2-2-2zM9 17H7v-7h2v7zm4 0h-2V7h2v10zm4 0h-2v-4h2v4z\"/>\n",
              "    </g>\n",
              "</svg>\n",
              "  </button>\n",
              "\n",
              "<style>\n",
              "  .colab-df-quickchart {\n",
              "      --bg-color: #E8F0FE;\n",
              "      --fill-color: #1967D2;\n",
              "      --hover-bg-color: #E2EBFA;\n",
              "      --hover-fill-color: #174EA6;\n",
              "      --disabled-fill-color: #AAA;\n",
              "      --disabled-bg-color: #DDD;\n",
              "  }\n",
              "\n",
              "  [theme=dark] .colab-df-quickchart {\n",
              "      --bg-color: #3B4455;\n",
              "      --fill-color: #D2E3FC;\n",
              "      --hover-bg-color: #434B5C;\n",
              "      --hover-fill-color: #FFFFFF;\n",
              "      --disabled-bg-color: #3B4455;\n",
              "      --disabled-fill-color: #666;\n",
              "  }\n",
              "\n",
              "  .colab-df-quickchart {\n",
              "    background-color: var(--bg-color);\n",
              "    border: none;\n",
              "    border-radius: 50%;\n",
              "    cursor: pointer;\n",
              "    display: none;\n",
              "    fill: var(--fill-color);\n",
              "    height: 32px;\n",
              "    padding: 0;\n",
              "    width: 32px;\n",
              "  }\n",
              "\n",
              "  .colab-df-quickchart:hover {\n",
              "    background-color: var(--hover-bg-color);\n",
              "    box-shadow: 0 1px 2px rgba(60, 64, 67, 0.3), 0 1px 3px 1px rgba(60, 64, 67, 0.15);\n",
              "    fill: var(--button-hover-fill-color);\n",
              "  }\n",
              "\n",
              "  .colab-df-quickchart-complete:disabled,\n",
              "  .colab-df-quickchart-complete:disabled:hover {\n",
              "    background-color: var(--disabled-bg-color);\n",
              "    fill: var(--disabled-fill-color);\n",
              "    box-shadow: none;\n",
              "  }\n",
              "\n",
              "  .colab-df-spinner {\n",
              "    border: 2px solid var(--fill-color);\n",
              "    border-color: transparent;\n",
              "    border-bottom-color: var(--fill-color);\n",
              "    animation:\n",
              "      spin 1s steps(1) infinite;\n",
              "  }\n",
              "\n",
              "  @keyframes spin {\n",
              "    0% {\n",
              "      border-color: transparent;\n",
              "      border-bottom-color: var(--fill-color);\n",
              "      border-left-color: var(--fill-color);\n",
              "    }\n",
              "    20% {\n",
              "      border-color: transparent;\n",
              "      border-left-color: var(--fill-color);\n",
              "      border-top-color: var(--fill-color);\n",
              "    }\n",
              "    30% {\n",
              "      border-color: transparent;\n",
              "      border-left-color: var(--fill-color);\n",
              "      border-top-color: var(--fill-color);\n",
              "      border-right-color: var(--fill-color);\n",
              "    }\n",
              "    40% {\n",
              "      border-color: transparent;\n",
              "      border-right-color: var(--fill-color);\n",
              "      border-top-color: var(--fill-color);\n",
              "    }\n",
              "    60% {\n",
              "      border-color: transparent;\n",
              "      border-right-color: var(--fill-color);\n",
              "    }\n",
              "    80% {\n",
              "      border-color: transparent;\n",
              "      border-right-color: var(--fill-color);\n",
              "      border-bottom-color: var(--fill-color);\n",
              "    }\n",
              "    90% {\n",
              "      border-color: transparent;\n",
              "      border-bottom-color: var(--fill-color);\n",
              "    }\n",
              "  }\n",
              "</style>\n",
              "\n",
              "  <script>\n",
              "    async function quickchart(key) {\n",
              "      const quickchartButtonEl =\n",
              "        document.querySelector('#' + key + ' button');\n",
              "      quickchartButtonEl.disabled = true;  // To prevent multiple clicks.\n",
              "      quickchartButtonEl.classList.add('colab-df-spinner');\n",
              "      try {\n",
              "        const charts = await google.colab.kernel.invokeFunction(\n",
              "            'suggestCharts', [key], {});\n",
              "      } catch (error) {\n",
              "        console.error('Error during call to suggestCharts:', error);\n",
              "      }\n",
              "      quickchartButtonEl.classList.remove('colab-df-spinner');\n",
              "      quickchartButtonEl.classList.add('colab-df-quickchart-complete');\n",
              "    }\n",
              "    (() => {\n",
              "      let quickchartButtonEl =\n",
              "        document.querySelector('#df-4b6d5bd0-0f7f-4e58-a548-beca586dd1b6 button');\n",
              "      quickchartButtonEl.style.display =\n",
              "        google.colab.kernel.accessAllowed ? 'block' : 'none';\n",
              "    })();\n",
              "  </script>\n",
              "</div>\n",
              "\n",
              "    </div>\n",
              "  </div>\n"
            ],
            "application/vnd.google.colaboratory.intrinsic+json": {
              "type": "dataframe",
              "variable_name": "df",
              "summary": "{\n  \"name\": \"df\",\n  \"rows\": 70597,\n  \"fields\": [\n    {\n      \"column\": \"content\",\n      \"properties\": {\n        \"dtype\": \"string\",\n        \"num_unique_values\": 70388,\n        \"samples\": [\n          \"\\u0425\\u043e\\u0447\\u0443 \\u0432\\u044b\\u0440\\u0430\\u0437\\u0438\\u0442\\u044c \\u0441\\u0435\\u0440\\u0434\\u0435\\u0447\\u043d\\u0443\\u044e \\u0431\\u043b\\u0430\\u0433\\u043e\\u0434\\u0430\\u0440\\u043d\\u043e\\u0441\\u0442\\u044c \\u043a\\u043e\\u043b\\u043b\\u0435\\u043a\\u0442\\u0438\\u0432\\u0443 \\u0433\\u0438\\u043d\\u0435\\u043a\\u043e\\u043b\\u043e\\u0433\\u0438\\u0447\\u0435\\u0441\\u043a\\u043e\\u0433\\u043e \\u043e\\u0442\\u0434\\u0435\\u043b\\u0435\\u043d\\u0438\\u044f \\u0424\\u0413\\u0411\\u0423 \\u0413\\u041d\\u0426 \\u0424\\u041c\\u0411\\u0426 \\u0438\\u043c \\u0410. \\u0418. \\u0411\\u0443\\u0440\\u043d\\u0430\\u0437\\u044f\\u043d\\u0430 \\u0424\\u041c\\u0411\\u0410 \\u0437\\u0430 \\u0447\\u0443\\u0442\\u043a\\u043e\\u0441\\u0442\\u044c, \\u043f\\u043e\\u043d\\u0438\\u043c\\u0430\\u043d\\u0438\\u0435, \\u0442\\u0430\\u043a\\u0442 \\u0438 \\u0432\\u044b\\u0441\\u043e\\u043a\\u0438\\u0439 \\u043f\\u0440\\u043e\\u0444\\u0435\\u0441\\u0441\\u0438\\u043e\\u043d\\u0430\\u043b\\u0438\\u0437\\u043c. \\u0412 \\u043e\\u0442\\u0434\\u0435\\u043b\\u0435\\u043d\\u0438\\u0438, \\u0440\\u0443\\u043a\\u043e\\u0432\\u043e\\u0434\\u0438\\u043c\\u044b\\u043c \\u0411\\u0443\\u0448\\u043a\\u043e\\u0432\\u043e\\u0439 \\u041e\\u043b\\u044c\\u0433\\u043e\\u0439 \\u041d\\u0438\\u043a\\u043e\\u043b\\u0430\\u0435\\u0432\\u043d\\u043e\\u0439, \\u0440\\u0430\\u0431\\u043e\\u0442\\u0430\\u0435\\u0442 \\u043a\\u043e\\u043b\\u043b\\u0435\\u043a\\u0442\\u0438\\u0432 \\u0432\\u044b\\u0441\\u043e\\u043a\\u043e\\u0433\\u043e \\u043f\\u0440\\u043e\\u0444\\u0435\\u0441\\u0441\\u0438\\u043e\\u043d\\u0430\\u043b\\u044c\\u043d\\u043e\\u0433\\u043e \\u043c\\u0430\\u0441\\u0442\\u0435\\u0440\\u0441\\u0442\\u0432\\u0430, \\u0431\\u043e\\u043b\\u044c\\u0448\\u043e\\u0433\\u043e \\u0447\\u0443\\u0432\\u0441\\u0442\\u0432\\u0430 \\u043e\\u0442\\u0432\\u0435\\u0442\\u0441\\u0442\\u0432\\u0435\\u043d\\u043d\\u043e\\u0441\\u0442\\u0438, \\u043d\\u0430\\u0434\\u0435\\u043b\\u0435\\u043d\\u043d\\u044b\\u0439 \\u0441\\u0435\\u0440\\u0434\\u0435\\u0447\\u043d\\u043e\\u0441\\u0442\\u044c\\u044e \\u0438 \\u0434\\u0443\\u0448\\u0435\\u0432\\u043d\\u043e\\u0439 \\u0442\\u0435\\u043f\\u043b\\u043e\\u0442\\u043e\\u0439 \\u043a \\u043a\\u0430\\u0436\\u0434\\u043e\\u043c\\u0443 \\u0431\\u043e\\u043b\\u044c\\u043d\\u043e\\u043c\\u0443. \\u0412\\u043d\\u0438\\u043c\\u0430\\u0442\\u0435\\u043b\\u044c\\u043d\\u043e\\u0435, \\u0434\\u043e\\u0431\\u0440\\u043e\\u0436\\u0435\\u043b\\u0430\\u0442\\u0435\\u043b\\u044c\\u043d\\u043e\\u0435 \\u043e\\u0442\\u043d\\u043e\\u0448\\u0435\\u043d\\u0438\\u0435 \\u043a \\u043f\\u0430\\u0446\\u0438\\u0435\\u043d\\u0442\\u0430\\u043c, \\u0443\\u043c\\u0435\\u043d\\u0438\\u0435 \\u0432\\u0441\\u0435\\u043b\\u0438\\u0442\\u044c \\u0443\\u0432\\u0435\\u0440\\u0435\\u043d\\u043d\\u043e\\u0441\\u0442\\u044c \\u0432 \\u0431\\u0443\\u0434\\u0443\\u0449\\u0435\\u0435, \\u043d\\u0430\\u0434\\u0435\\u0436\\u0434\\u0443 \\u043d\\u0430 \\u0441\\u043a\\u043e\\u0440\\u043e\\u0435 \\u0432\\u044b\\u0437\\u0434\\u043e\\u0440\\u043e\\u0432\\u043b\\u0435\\u043d\\u0438\\u0435, \\u043e\\u0442\\u043b\\u0438\\u0447\\u0438\\u0442\\u0435\\u043b\\u044c\\u043d\\u0430\\u044f \\u0447\\u0435\\u0440\\u0442\\u0430 \\u0432\\u0441\\u0435\\u0445 \\u0441\\u043e\\u0442\\u0440\\u0443\\u0434\\u043d\\u0438\\u043a\\u043e\\u0432 \\u044d\\u0442\\u043e\\u0433\\u043e \\u043e\\u0442\\u0434\\u0435\\u043b\\u0435\\u043d\\u0438\\u044f. \\u0420\\u0443\\u0441\\u0430\\u043a\\u043e\\u0432\\u0430 \\u041b. \\u041d.\",\n          \"\\u041f\\u0440\\u043e\\u043f\\u0438\\u0441\\u0430\\u043d\\u044b \\u0432 \\u041a\\u0440\\u0430\\u0441\\u043d\\u043e\\u0437\\u043d\\u0430\\u043c\\u0435\\u043d\\u0441\\u043a\\u0435, \\u0436\\u0438\\u0432\\u0435\\u043c \\u0432 \\u0413\\u043e\\u0440\\u043a\\u0430\\u0445. \\u0420\\u0435\\u0448\\u0438\\u043b\\u0438 5 \\u043c\\u0435\\u0441. \\u0440\\u0435\\u0431\\u0435\\u043d\\u043a\\u0430 \\u043f\\u0440\\u0438\\u043a\\u0440\\u0435\\u043f\\u0438\\u0442\\u044c \\u0432 \\u0413\\u043e\\u0440\\u043a\\u0430\\u0445, \\u0447\\u0442\\u043e\\u0431 \\u043c\\u0435\\u043d\\u044c\\u0448\\u0435 \\u0435\\u0437\\u0434\\u0438\\u0442\\u044c, \\u0430 \\u043f\\u043e\\u043b\\u0443\\u0447\\u0430\\u0435\\u0442\\u0441\\u044f \\u0432\\u0441\\u0435 \\u0440\\u0430\\u0432\\u043d\\u043e \\u0435\\u0437\\u0434\\u0438\\u0442\\u044c \\u043d\\u0430\\u0434\\u043e \\u0432 \\u044d\\u0442\\u0443 \\u043f\\u043e\\u043b\\u0438\\u043a\\u043b\\u0438\\u043d\\u0438\\u043a\\u0443. \\u041e\\u0444\\u043e\\u0440\\u043c\\u0438\\u043b\\u0438\\u0441\\u044c. \\u041a\\u0430\\u0436\\u0434\\u044b\\u0439 \\u0440\\u0430\\u0437 \\u043a\\u043e\\u0433\\u0434\\u0430 \\u043f\\u0440\\u0438\\u0435\\u0437\\u0436\\u0430\\u0435\\u043c - \\u043d\\u0430\\u043c \\u0448\\u0432\\u044b\\u0440\\u044f\\u044e\\u0442 \\u043f\\u043e\\u043b\\u0438\\u0441 \\u043e\\u0431\\u0440\\u0430\\u0442\\u043d\\u043e \\u0438 \\u0433\\u043e\\u0432\\u043e\\u0440\\u044f\\u0442 \\u041a\\u0440\\u0430\\u0441\\u043d\\u043e\\u0437\\u043d\\u0430\\u043c\\u0435\\u043d\\u0441\\u043a \\u043d\\u0435 \\u043e\\u0431\\u0441\\u043b\\u0443\\u0436\\u0438\\u0432\\u0430\\u0435\\u043c. \\u0420\\u0435\\u0431\\u0435\\u043d\\u043a\\u0443 \\u0434\\u0430\\u043b\\u0438 \\u043d\\u0430\\u043f\\u0440\\u0430\\u0432\\u043b\\u0435\\u043d\\u0438\\u0435 \\u043a \\u0433\\u0438\\u043d\\u0435\\u043a\\u043e\\u043b\\u043e\\u0433\\u0443, \\u043d\\u0435 \\u043c\\u043e\\u0436\\u0435\\u043c \\u043f\\u0440\\u043e\\u0439\\u0442\\u0438 \\u0443\\u0436\\u0435 3 \\u043c\\u0435\\u0441. \\u0414\\u043e \\u0433\\u043e\\u0434\\u0430 \\u0442\\u043e\\u043b\\u044c\\u043a\\u043e 4 \\u0441\\u0443\\u0431\\u0431\\u043e\\u0442\\u0430 \\u043c\\u0435\\u0441\\u044f\\u0446\\u0430. \\u041f\\u0440\\u0438\\u0435\\u0437\\u0436\\u0430\\u043b\\u0438 \\u0438 \\u043a 7 \\u0443\\u0442\\u0440\\u0430, \\u0441\\u0442\\u043e\\u044f\\u043b\\u0438 \\u0432 \\u043e\\u0447\\u0435\\u0440\\u0435\\u0434\\u0438 \\u0437\\u0430 \\u0442\\u0430\\u043b\\u043e\\u043d\\u0430\\u043c\\u0438, \\u0430 \\u0432\\u0440\\u0430\\u0447\\u0438 \\u0441\\u0430\\u043c\\u043e\\u0435 \\u0438\\u043d\\u0442\\u0435\\u0440\\u0435\\u0441\\u043d\\u043e\\u0435 \\u0441 9 \\u0440\\u0430\\u0431\\u043e\\u0442\\u0430\\u044e\\u0442 \\u0438\\u043b\\u0438 \\u0432\\u043e \\u0432\\u0442\\u043e\\u0440\\u043e\\u0439 \\u043f\\u043e\\u043b\\u043e\\u0432\\u0438\\u043d\\u0435 \\u0434\\u043d\\u044f. \\u042f \\u0441\\u0447\\u0438\\u0442\\u0430\\u044e \\u044d\\u0442\\u043e \\u043f\\u0440\\u043e\\u0441\\u0442\\u043e \\u0438\\u0437\\u0434\\u0435\\u0432\\u0430\\u0442\\u0435\\u043b\\u044c\\u0441\\u0442\\u0432\\u043e \\u043d\\u0430\\u0434 \\u043b\\u044e\\u0434\\u044c\\u043c\\u0438! \\u0423\\u0436\\u0430\\u0441\\u043d\\u0430\\u044f \\u0431\\u043e\\u043b\\u044c\\u043d\\u0438\\u0446\\u0430, \\u0431\\u0443\\u0434\\u0435\\u043c \\u043e\\u0442\\u043a\\u0440\\u0435\\u043f\\u043b\\u044f\\u0442\\u044c\\u0441\\u044f. \\u0421\\u043b\\u0430\\u0432\\u0430 \\u0411\\u043e\\u0433\\u0443, \\u0447\\u0442\\u043e \\u043c\\u044b \\u0436\\u0438\\u0432\\u0435\\u043c \\u043d\\u0435 \\u0432 \\u041e\\u0434\\u0438\\u043d\\u0446\\u043e\\u0432\\u043e.\",\n          \"\\u041e\\u0433\\u0440\\u043e\\u043c\\u043d\\u043e\\u0435 \\u0441\\u043f\\u0430\\u0441\\u0438\\u0431\\u043e \\u0434\\u043e\\u043a\\u0442\\u043e\\u0440\\u0443 \\u041a\\u0430\\u0431\\u0430\\u043d\\u043e\\u0432\\u0443, \\u043d\\u0435 \\u043f\\u044c\\u044e \\u0443\\u0436\\u0435 6 \\u043b\\u0435\\u0442 (\\u0434\\u0432\\u0430 \\u0440\\u0430\\u0437\\u0430 \\u043f\\u043e 3 \\u0433\\u043e\\u0434\\u0430), \\u0438 \\u0435\\u0449\\u0435 \\u043f\\u043e\\u0441\\u043b\\u0435\\u0434\\u043d\\u0438\\u0439 \\u0440\\u0430\\u0437 \\u0437\\u0430\\u043a\\u043e\\u0434\\u0438\\u0440\\u043e\\u0432\\u0430\\u043b\\u0441\\u044f \\u043e\\u0442 \\u043e\\u0436\\u0438\\u0440\\u0435\\u043d\\u0438\\u044f, \\u0441\\u043a\\u0438\\u043d\\u0443\\u043b \\u0437\\u0430 \\u043c\\u0435\\u0441\\u044f\\u0446 12 \\u043a\\u0433. \\u0418 \\u044d\\u0442\\u043e \\u043d\\u0435 \\u043f\\u0440\\u0435\\u0434\\u0435\\u043b!\"\n        ],\n        \"semantic_type\": \"\",\n        \"description\": \"\"\n      }\n    },\n    {\n      \"column\": \"sentiment\",\n      \"properties\": {\n        \"dtype\": \"category\",\n        \"num_unique_values\": 2,\n        \"samples\": [\n          \"negative\",\n          \"positive\"\n        ],\n        \"semantic_type\": \"\",\n        \"description\": \"\"\n      }\n    }\n  ]\n}"
            }
          },
          "metadata": {},
          "execution_count": 13
        }
      ]
    },
    {
      "cell_type": "code",
      "source": [
        "def data_preprocessing(text: str) -> str:\n",
        "    text = text.lower()\n",
        "    text = re.sub(\"<.*?>\", \"\", text)  # html tags\n",
        "    text = \"\".join([c for c in text if c not in string.punctuation])\n",
        "    splitted_text = [word for word in text.split() if word not in stop_words]\n",
        "    text = \" \".join(splitted_text)\n",
        "    return text\n",
        "\n",
        "\n",
        "df[\"cleaned_content\"] = df[\"content\"].apply(data_preprocessing)\n",
        "df.head()"
      ],
      "metadata": {
        "id": "0BvbgvH-xXNQ",
        "colab": {
          "base_uri": "https://localhost:8080/",
          "height": 206
        },
        "outputId": "d063d564-86cf-41bc-ea0b-91c47c624713"
      },
      "execution_count": 15,
      "outputs": [
        {
          "output_type": "execute_result",
          "data": {
            "text/plain": [
              "                                             content sentiment  \\\n",
              "0  Огромное спасибо за чудесное удаление двух зуб...  positive   \n",
              "1  Хочу выразить особую благодарность замечательн...  positive   \n",
              "2  Добрый вечер! Хотелось бы поблагодарить сотруд...  positive   \n",
              "3  Женщины советского образца в регистратуре не и...  negative   \n",
              "4  У меня с детства очень плохие зубы (тонкая и х...  positive   \n",
              "\n",
              "                                     cleaned_content  \n",
              "0  огромное чудесное удаление зубов мудрости мгно...  \n",
              "1  хочу выразить особую благодарность замечательн...  \n",
              "2  добрый хотелось поблагодарить сотрудников рент...  \n",
              "3  женщины советского образца регистратуре имеют ...  \n",
              "4  детства плохие зубы тонкая хрупкая эмаль криви...  "
            ],
            "text/html": [
              "\n",
              "  <div id=\"df-a0073626-9603-4a68-a27b-4c39fafe361c\" class=\"colab-df-container\">\n",
              "    <div>\n",
              "<style scoped>\n",
              "    .dataframe tbody tr th:only-of-type {\n",
              "        vertical-align: middle;\n",
              "    }\n",
              "\n",
              "    .dataframe tbody tr th {\n",
              "        vertical-align: top;\n",
              "    }\n",
              "\n",
              "    .dataframe thead th {\n",
              "        text-align: right;\n",
              "    }\n",
              "</style>\n",
              "<table border=\"1\" class=\"dataframe\">\n",
              "  <thead>\n",
              "    <tr style=\"text-align: right;\">\n",
              "      <th></th>\n",
              "      <th>content</th>\n",
              "      <th>sentiment</th>\n",
              "      <th>cleaned_content</th>\n",
              "    </tr>\n",
              "  </thead>\n",
              "  <tbody>\n",
              "    <tr>\n",
              "      <th>0</th>\n",
              "      <td>Огромное спасибо за чудесное удаление двух зуб...</td>\n",
              "      <td>positive</td>\n",
              "      <td>огромное чудесное удаление зубов мудрости мгно...</td>\n",
              "    </tr>\n",
              "    <tr>\n",
              "      <th>1</th>\n",
              "      <td>Хочу выразить особую благодарность замечательн...</td>\n",
              "      <td>positive</td>\n",
              "      <td>хочу выразить особую благодарность замечательн...</td>\n",
              "    </tr>\n",
              "    <tr>\n",
              "      <th>2</th>\n",
              "      <td>Добрый вечер! Хотелось бы поблагодарить сотруд...</td>\n",
              "      <td>positive</td>\n",
              "      <td>добрый хотелось поблагодарить сотрудников рент...</td>\n",
              "    </tr>\n",
              "    <tr>\n",
              "      <th>3</th>\n",
              "      <td>Женщины советского образца в регистратуре не и...</td>\n",
              "      <td>negative</td>\n",
              "      <td>женщины советского образца регистратуре имеют ...</td>\n",
              "    </tr>\n",
              "    <tr>\n",
              "      <th>4</th>\n",
              "      <td>У меня с детства очень плохие зубы (тонкая и х...</td>\n",
              "      <td>positive</td>\n",
              "      <td>детства плохие зубы тонкая хрупкая эмаль криви...</td>\n",
              "    </tr>\n",
              "  </tbody>\n",
              "</table>\n",
              "</div>\n",
              "    <div class=\"colab-df-buttons\">\n",
              "\n",
              "  <div class=\"colab-df-container\">\n",
              "    <button class=\"colab-df-convert\" onclick=\"convertToInteractive('df-a0073626-9603-4a68-a27b-4c39fafe361c')\"\n",
              "            title=\"Convert this dataframe to an interactive table.\"\n",
              "            style=\"display:none;\">\n",
              "\n",
              "  <svg xmlns=\"http://www.w3.org/2000/svg\" height=\"24px\" viewBox=\"0 -960 960 960\">\n",
              "    <path d=\"M120-120v-720h720v720H120Zm60-500h600v-160H180v160Zm220 220h160v-160H400v160Zm0 220h160v-160H400v160ZM180-400h160v-160H180v160Zm440 0h160v-160H620v160ZM180-180h160v-160H180v160Zm440 0h160v-160H620v160Z\"/>\n",
              "  </svg>\n",
              "    </button>\n",
              "\n",
              "  <style>\n",
              "    .colab-df-container {\n",
              "      display:flex;\n",
              "      gap: 12px;\n",
              "    }\n",
              "\n",
              "    .colab-df-convert {\n",
              "      background-color: #E8F0FE;\n",
              "      border: none;\n",
              "      border-radius: 50%;\n",
              "      cursor: pointer;\n",
              "      display: none;\n",
              "      fill: #1967D2;\n",
              "      height: 32px;\n",
              "      padding: 0 0 0 0;\n",
              "      width: 32px;\n",
              "    }\n",
              "\n",
              "    .colab-df-convert:hover {\n",
              "      background-color: #E2EBFA;\n",
              "      box-shadow: 0px 1px 2px rgba(60, 64, 67, 0.3), 0px 1px 3px 1px rgba(60, 64, 67, 0.15);\n",
              "      fill: #174EA6;\n",
              "    }\n",
              "\n",
              "    .colab-df-buttons div {\n",
              "      margin-bottom: 4px;\n",
              "    }\n",
              "\n",
              "    [theme=dark] .colab-df-convert {\n",
              "      background-color: #3B4455;\n",
              "      fill: #D2E3FC;\n",
              "    }\n",
              "\n",
              "    [theme=dark] .colab-df-convert:hover {\n",
              "      background-color: #434B5C;\n",
              "      box-shadow: 0px 1px 3px 1px rgba(0, 0, 0, 0.15);\n",
              "      filter: drop-shadow(0px 1px 2px rgba(0, 0, 0, 0.3));\n",
              "      fill: #FFFFFF;\n",
              "    }\n",
              "  </style>\n",
              "\n",
              "    <script>\n",
              "      const buttonEl =\n",
              "        document.querySelector('#df-a0073626-9603-4a68-a27b-4c39fafe361c button.colab-df-convert');\n",
              "      buttonEl.style.display =\n",
              "        google.colab.kernel.accessAllowed ? 'block' : 'none';\n",
              "\n",
              "      async function convertToInteractive(key) {\n",
              "        const element = document.querySelector('#df-a0073626-9603-4a68-a27b-4c39fafe361c');\n",
              "        const dataTable =\n",
              "          await google.colab.kernel.invokeFunction('convertToInteractive',\n",
              "                                                    [key], {});\n",
              "        if (!dataTable) return;\n",
              "\n",
              "        const docLinkHtml = 'Like what you see? Visit the ' +\n",
              "          '<a target=\"_blank\" href=https://colab.research.google.com/notebooks/data_table.ipynb>data table notebook</a>'\n",
              "          + ' to learn more about interactive tables.';\n",
              "        element.innerHTML = '';\n",
              "        dataTable['output_type'] = 'display_data';\n",
              "        await google.colab.output.renderOutput(dataTable, element);\n",
              "        const docLink = document.createElement('div');\n",
              "        docLink.innerHTML = docLinkHtml;\n",
              "        element.appendChild(docLink);\n",
              "      }\n",
              "    </script>\n",
              "  </div>\n",
              "\n",
              "\n",
              "<div id=\"df-df03260a-f258-474e-ab17-7809f80b636b\">\n",
              "  <button class=\"colab-df-quickchart\" onclick=\"quickchart('df-df03260a-f258-474e-ab17-7809f80b636b')\"\n",
              "            title=\"Suggest charts\"\n",
              "            style=\"display:none;\">\n",
              "\n",
              "<svg xmlns=\"http://www.w3.org/2000/svg\" height=\"24px\"viewBox=\"0 0 24 24\"\n",
              "     width=\"24px\">\n",
              "    <g>\n",
              "        <path d=\"M19 3H5c-1.1 0-2 .9-2 2v14c0 1.1.9 2 2 2h14c1.1 0 2-.9 2-2V5c0-1.1-.9-2-2-2zM9 17H7v-7h2v7zm4 0h-2V7h2v10zm4 0h-2v-4h2v4z\"/>\n",
              "    </g>\n",
              "</svg>\n",
              "  </button>\n",
              "\n",
              "<style>\n",
              "  .colab-df-quickchart {\n",
              "      --bg-color: #E8F0FE;\n",
              "      --fill-color: #1967D2;\n",
              "      --hover-bg-color: #E2EBFA;\n",
              "      --hover-fill-color: #174EA6;\n",
              "      --disabled-fill-color: #AAA;\n",
              "      --disabled-bg-color: #DDD;\n",
              "  }\n",
              "\n",
              "  [theme=dark] .colab-df-quickchart {\n",
              "      --bg-color: #3B4455;\n",
              "      --fill-color: #D2E3FC;\n",
              "      --hover-bg-color: #434B5C;\n",
              "      --hover-fill-color: #FFFFFF;\n",
              "      --disabled-bg-color: #3B4455;\n",
              "      --disabled-fill-color: #666;\n",
              "  }\n",
              "\n",
              "  .colab-df-quickchart {\n",
              "    background-color: var(--bg-color);\n",
              "    border: none;\n",
              "    border-radius: 50%;\n",
              "    cursor: pointer;\n",
              "    display: none;\n",
              "    fill: var(--fill-color);\n",
              "    height: 32px;\n",
              "    padding: 0;\n",
              "    width: 32px;\n",
              "  }\n",
              "\n",
              "  .colab-df-quickchart:hover {\n",
              "    background-color: var(--hover-bg-color);\n",
              "    box-shadow: 0 1px 2px rgba(60, 64, 67, 0.3), 0 1px 3px 1px rgba(60, 64, 67, 0.15);\n",
              "    fill: var(--button-hover-fill-color);\n",
              "  }\n",
              "\n",
              "  .colab-df-quickchart-complete:disabled,\n",
              "  .colab-df-quickchart-complete:disabled:hover {\n",
              "    background-color: var(--disabled-bg-color);\n",
              "    fill: var(--disabled-fill-color);\n",
              "    box-shadow: none;\n",
              "  }\n",
              "\n",
              "  .colab-df-spinner {\n",
              "    border: 2px solid var(--fill-color);\n",
              "    border-color: transparent;\n",
              "    border-bottom-color: var(--fill-color);\n",
              "    animation:\n",
              "      spin 1s steps(1) infinite;\n",
              "  }\n",
              "\n",
              "  @keyframes spin {\n",
              "    0% {\n",
              "      border-color: transparent;\n",
              "      border-bottom-color: var(--fill-color);\n",
              "      border-left-color: var(--fill-color);\n",
              "    }\n",
              "    20% {\n",
              "      border-color: transparent;\n",
              "      border-left-color: var(--fill-color);\n",
              "      border-top-color: var(--fill-color);\n",
              "    }\n",
              "    30% {\n",
              "      border-color: transparent;\n",
              "      border-left-color: var(--fill-color);\n",
              "      border-top-color: var(--fill-color);\n",
              "      border-right-color: var(--fill-color);\n",
              "    }\n",
              "    40% {\n",
              "      border-color: transparent;\n",
              "      border-right-color: var(--fill-color);\n",
              "      border-top-color: var(--fill-color);\n",
              "    }\n",
              "    60% {\n",
              "      border-color: transparent;\n",
              "      border-right-color: var(--fill-color);\n",
              "    }\n",
              "    80% {\n",
              "      border-color: transparent;\n",
              "      border-right-color: var(--fill-color);\n",
              "      border-bottom-color: var(--fill-color);\n",
              "    }\n",
              "    90% {\n",
              "      border-color: transparent;\n",
              "      border-bottom-color: var(--fill-color);\n",
              "    }\n",
              "  }\n",
              "</style>\n",
              "\n",
              "  <script>\n",
              "    async function quickchart(key) {\n",
              "      const quickchartButtonEl =\n",
              "        document.querySelector('#' + key + ' button');\n",
              "      quickchartButtonEl.disabled = true;  // To prevent multiple clicks.\n",
              "      quickchartButtonEl.classList.add('colab-df-spinner');\n",
              "      try {\n",
              "        const charts = await google.colab.kernel.invokeFunction(\n",
              "            'suggestCharts', [key], {});\n",
              "      } catch (error) {\n",
              "        console.error('Error during call to suggestCharts:', error);\n",
              "      }\n",
              "      quickchartButtonEl.classList.remove('colab-df-spinner');\n",
              "      quickchartButtonEl.classList.add('colab-df-quickchart-complete');\n",
              "    }\n",
              "    (() => {\n",
              "      let quickchartButtonEl =\n",
              "        document.querySelector('#df-df03260a-f258-474e-ab17-7809f80b636b button');\n",
              "      quickchartButtonEl.style.display =\n",
              "        google.colab.kernel.accessAllowed ? 'block' : 'none';\n",
              "    })();\n",
              "  </script>\n",
              "</div>\n",
              "\n",
              "    </div>\n",
              "  </div>\n"
            ],
            "application/vnd.google.colaboratory.intrinsic+json": {
              "type": "dataframe",
              "variable_name": "df",
              "summary": "{\n  \"name\": \"df\",\n  \"rows\": 70597,\n  \"fields\": [\n    {\n      \"column\": \"content\",\n      \"properties\": {\n        \"dtype\": \"string\",\n        \"num_unique_values\": 70388,\n        \"samples\": [\n          \"\\u0425\\u043e\\u0447\\u0443 \\u0432\\u044b\\u0440\\u0430\\u0437\\u0438\\u0442\\u044c \\u0441\\u0435\\u0440\\u0434\\u0435\\u0447\\u043d\\u0443\\u044e \\u0431\\u043b\\u0430\\u0433\\u043e\\u0434\\u0430\\u0440\\u043d\\u043e\\u0441\\u0442\\u044c \\u043a\\u043e\\u043b\\u043b\\u0435\\u043a\\u0442\\u0438\\u0432\\u0443 \\u0433\\u0438\\u043d\\u0435\\u043a\\u043e\\u043b\\u043e\\u0433\\u0438\\u0447\\u0435\\u0441\\u043a\\u043e\\u0433\\u043e \\u043e\\u0442\\u0434\\u0435\\u043b\\u0435\\u043d\\u0438\\u044f \\u0424\\u0413\\u0411\\u0423 \\u0413\\u041d\\u0426 \\u0424\\u041c\\u0411\\u0426 \\u0438\\u043c \\u0410. \\u0418. \\u0411\\u0443\\u0440\\u043d\\u0430\\u0437\\u044f\\u043d\\u0430 \\u0424\\u041c\\u0411\\u0410 \\u0437\\u0430 \\u0447\\u0443\\u0442\\u043a\\u043e\\u0441\\u0442\\u044c, \\u043f\\u043e\\u043d\\u0438\\u043c\\u0430\\u043d\\u0438\\u0435, \\u0442\\u0430\\u043a\\u0442 \\u0438 \\u0432\\u044b\\u0441\\u043e\\u043a\\u0438\\u0439 \\u043f\\u0440\\u043e\\u0444\\u0435\\u0441\\u0441\\u0438\\u043e\\u043d\\u0430\\u043b\\u0438\\u0437\\u043c. \\u0412 \\u043e\\u0442\\u0434\\u0435\\u043b\\u0435\\u043d\\u0438\\u0438, \\u0440\\u0443\\u043a\\u043e\\u0432\\u043e\\u0434\\u0438\\u043c\\u044b\\u043c \\u0411\\u0443\\u0448\\u043a\\u043e\\u0432\\u043e\\u0439 \\u041e\\u043b\\u044c\\u0433\\u043e\\u0439 \\u041d\\u0438\\u043a\\u043e\\u043b\\u0430\\u0435\\u0432\\u043d\\u043e\\u0439, \\u0440\\u0430\\u0431\\u043e\\u0442\\u0430\\u0435\\u0442 \\u043a\\u043e\\u043b\\u043b\\u0435\\u043a\\u0442\\u0438\\u0432 \\u0432\\u044b\\u0441\\u043e\\u043a\\u043e\\u0433\\u043e \\u043f\\u0440\\u043e\\u0444\\u0435\\u0441\\u0441\\u0438\\u043e\\u043d\\u0430\\u043b\\u044c\\u043d\\u043e\\u0433\\u043e \\u043c\\u0430\\u0441\\u0442\\u0435\\u0440\\u0441\\u0442\\u0432\\u0430, \\u0431\\u043e\\u043b\\u044c\\u0448\\u043e\\u0433\\u043e \\u0447\\u0443\\u0432\\u0441\\u0442\\u0432\\u0430 \\u043e\\u0442\\u0432\\u0435\\u0442\\u0441\\u0442\\u0432\\u0435\\u043d\\u043d\\u043e\\u0441\\u0442\\u0438, \\u043d\\u0430\\u0434\\u0435\\u043b\\u0435\\u043d\\u043d\\u044b\\u0439 \\u0441\\u0435\\u0440\\u0434\\u0435\\u0447\\u043d\\u043e\\u0441\\u0442\\u044c\\u044e \\u0438 \\u0434\\u0443\\u0448\\u0435\\u0432\\u043d\\u043e\\u0439 \\u0442\\u0435\\u043f\\u043b\\u043e\\u0442\\u043e\\u0439 \\u043a \\u043a\\u0430\\u0436\\u0434\\u043e\\u043c\\u0443 \\u0431\\u043e\\u043b\\u044c\\u043d\\u043e\\u043c\\u0443. \\u0412\\u043d\\u0438\\u043c\\u0430\\u0442\\u0435\\u043b\\u044c\\u043d\\u043e\\u0435, \\u0434\\u043e\\u0431\\u0440\\u043e\\u0436\\u0435\\u043b\\u0430\\u0442\\u0435\\u043b\\u044c\\u043d\\u043e\\u0435 \\u043e\\u0442\\u043d\\u043e\\u0448\\u0435\\u043d\\u0438\\u0435 \\u043a \\u043f\\u0430\\u0446\\u0438\\u0435\\u043d\\u0442\\u0430\\u043c, \\u0443\\u043c\\u0435\\u043d\\u0438\\u0435 \\u0432\\u0441\\u0435\\u043b\\u0438\\u0442\\u044c \\u0443\\u0432\\u0435\\u0440\\u0435\\u043d\\u043d\\u043e\\u0441\\u0442\\u044c \\u0432 \\u0431\\u0443\\u0434\\u0443\\u0449\\u0435\\u0435, \\u043d\\u0430\\u0434\\u0435\\u0436\\u0434\\u0443 \\u043d\\u0430 \\u0441\\u043a\\u043e\\u0440\\u043e\\u0435 \\u0432\\u044b\\u0437\\u0434\\u043e\\u0440\\u043e\\u0432\\u043b\\u0435\\u043d\\u0438\\u0435, \\u043e\\u0442\\u043b\\u0438\\u0447\\u0438\\u0442\\u0435\\u043b\\u044c\\u043d\\u0430\\u044f \\u0447\\u0435\\u0440\\u0442\\u0430 \\u0432\\u0441\\u0435\\u0445 \\u0441\\u043e\\u0442\\u0440\\u0443\\u0434\\u043d\\u0438\\u043a\\u043e\\u0432 \\u044d\\u0442\\u043e\\u0433\\u043e \\u043e\\u0442\\u0434\\u0435\\u043b\\u0435\\u043d\\u0438\\u044f. \\u0420\\u0443\\u0441\\u0430\\u043a\\u043e\\u0432\\u0430 \\u041b. \\u041d.\",\n          \"\\u041f\\u0440\\u043e\\u043f\\u0438\\u0441\\u0430\\u043d\\u044b \\u0432 \\u041a\\u0440\\u0430\\u0441\\u043d\\u043e\\u0437\\u043d\\u0430\\u043c\\u0435\\u043d\\u0441\\u043a\\u0435, \\u0436\\u0438\\u0432\\u0435\\u043c \\u0432 \\u0413\\u043e\\u0440\\u043a\\u0430\\u0445. \\u0420\\u0435\\u0448\\u0438\\u043b\\u0438 5 \\u043c\\u0435\\u0441. \\u0440\\u0435\\u0431\\u0435\\u043d\\u043a\\u0430 \\u043f\\u0440\\u0438\\u043a\\u0440\\u0435\\u043f\\u0438\\u0442\\u044c \\u0432 \\u0413\\u043e\\u0440\\u043a\\u0430\\u0445, \\u0447\\u0442\\u043e\\u0431 \\u043c\\u0435\\u043d\\u044c\\u0448\\u0435 \\u0435\\u0437\\u0434\\u0438\\u0442\\u044c, \\u0430 \\u043f\\u043e\\u043b\\u0443\\u0447\\u0430\\u0435\\u0442\\u0441\\u044f \\u0432\\u0441\\u0435 \\u0440\\u0430\\u0432\\u043d\\u043e \\u0435\\u0437\\u0434\\u0438\\u0442\\u044c \\u043d\\u0430\\u0434\\u043e \\u0432 \\u044d\\u0442\\u0443 \\u043f\\u043e\\u043b\\u0438\\u043a\\u043b\\u0438\\u043d\\u0438\\u043a\\u0443. \\u041e\\u0444\\u043e\\u0440\\u043c\\u0438\\u043b\\u0438\\u0441\\u044c. \\u041a\\u0430\\u0436\\u0434\\u044b\\u0439 \\u0440\\u0430\\u0437 \\u043a\\u043e\\u0433\\u0434\\u0430 \\u043f\\u0440\\u0438\\u0435\\u0437\\u0436\\u0430\\u0435\\u043c - \\u043d\\u0430\\u043c \\u0448\\u0432\\u044b\\u0440\\u044f\\u044e\\u0442 \\u043f\\u043e\\u043b\\u0438\\u0441 \\u043e\\u0431\\u0440\\u0430\\u0442\\u043d\\u043e \\u0438 \\u0433\\u043e\\u0432\\u043e\\u0440\\u044f\\u0442 \\u041a\\u0440\\u0430\\u0441\\u043d\\u043e\\u0437\\u043d\\u0430\\u043c\\u0435\\u043d\\u0441\\u043a \\u043d\\u0435 \\u043e\\u0431\\u0441\\u043b\\u0443\\u0436\\u0438\\u0432\\u0430\\u0435\\u043c. \\u0420\\u0435\\u0431\\u0435\\u043d\\u043a\\u0443 \\u0434\\u0430\\u043b\\u0438 \\u043d\\u0430\\u043f\\u0440\\u0430\\u0432\\u043b\\u0435\\u043d\\u0438\\u0435 \\u043a \\u0433\\u0438\\u043d\\u0435\\u043a\\u043e\\u043b\\u043e\\u0433\\u0443, \\u043d\\u0435 \\u043c\\u043e\\u0436\\u0435\\u043c \\u043f\\u0440\\u043e\\u0439\\u0442\\u0438 \\u0443\\u0436\\u0435 3 \\u043c\\u0435\\u0441. \\u0414\\u043e \\u0433\\u043e\\u0434\\u0430 \\u0442\\u043e\\u043b\\u044c\\u043a\\u043e 4 \\u0441\\u0443\\u0431\\u0431\\u043e\\u0442\\u0430 \\u043c\\u0435\\u0441\\u044f\\u0446\\u0430. \\u041f\\u0440\\u0438\\u0435\\u0437\\u0436\\u0430\\u043b\\u0438 \\u0438 \\u043a 7 \\u0443\\u0442\\u0440\\u0430, \\u0441\\u0442\\u043e\\u044f\\u043b\\u0438 \\u0432 \\u043e\\u0447\\u0435\\u0440\\u0435\\u0434\\u0438 \\u0437\\u0430 \\u0442\\u0430\\u043b\\u043e\\u043d\\u0430\\u043c\\u0438, \\u0430 \\u0432\\u0440\\u0430\\u0447\\u0438 \\u0441\\u0430\\u043c\\u043e\\u0435 \\u0438\\u043d\\u0442\\u0435\\u0440\\u0435\\u0441\\u043d\\u043e\\u0435 \\u0441 9 \\u0440\\u0430\\u0431\\u043e\\u0442\\u0430\\u044e\\u0442 \\u0438\\u043b\\u0438 \\u0432\\u043e \\u0432\\u0442\\u043e\\u0440\\u043e\\u0439 \\u043f\\u043e\\u043b\\u043e\\u0432\\u0438\\u043d\\u0435 \\u0434\\u043d\\u044f. \\u042f \\u0441\\u0447\\u0438\\u0442\\u0430\\u044e \\u044d\\u0442\\u043e \\u043f\\u0440\\u043e\\u0441\\u0442\\u043e \\u0438\\u0437\\u0434\\u0435\\u0432\\u0430\\u0442\\u0435\\u043b\\u044c\\u0441\\u0442\\u0432\\u043e \\u043d\\u0430\\u0434 \\u043b\\u044e\\u0434\\u044c\\u043c\\u0438! \\u0423\\u0436\\u0430\\u0441\\u043d\\u0430\\u044f \\u0431\\u043e\\u043b\\u044c\\u043d\\u0438\\u0446\\u0430, \\u0431\\u0443\\u0434\\u0435\\u043c \\u043e\\u0442\\u043a\\u0440\\u0435\\u043f\\u043b\\u044f\\u0442\\u044c\\u0441\\u044f. \\u0421\\u043b\\u0430\\u0432\\u0430 \\u0411\\u043e\\u0433\\u0443, \\u0447\\u0442\\u043e \\u043c\\u044b \\u0436\\u0438\\u0432\\u0435\\u043c \\u043d\\u0435 \\u0432 \\u041e\\u0434\\u0438\\u043d\\u0446\\u043e\\u0432\\u043e.\",\n          \"\\u041e\\u0433\\u0440\\u043e\\u043c\\u043d\\u043e\\u0435 \\u0441\\u043f\\u0430\\u0441\\u0438\\u0431\\u043e \\u0434\\u043e\\u043a\\u0442\\u043e\\u0440\\u0443 \\u041a\\u0430\\u0431\\u0430\\u043d\\u043e\\u0432\\u0443, \\u043d\\u0435 \\u043f\\u044c\\u044e \\u0443\\u0436\\u0435 6 \\u043b\\u0435\\u0442 (\\u0434\\u0432\\u0430 \\u0440\\u0430\\u0437\\u0430 \\u043f\\u043e 3 \\u0433\\u043e\\u0434\\u0430), \\u0438 \\u0435\\u0449\\u0435 \\u043f\\u043e\\u0441\\u043b\\u0435\\u0434\\u043d\\u0438\\u0439 \\u0440\\u0430\\u0437 \\u0437\\u0430\\u043a\\u043e\\u0434\\u0438\\u0440\\u043e\\u0432\\u0430\\u043b\\u0441\\u044f \\u043e\\u0442 \\u043e\\u0436\\u0438\\u0440\\u0435\\u043d\\u0438\\u044f, \\u0441\\u043a\\u0438\\u043d\\u0443\\u043b \\u0437\\u0430 \\u043c\\u0435\\u0441\\u044f\\u0446 12 \\u043a\\u0433. \\u0418 \\u044d\\u0442\\u043e \\u043d\\u0435 \\u043f\\u0440\\u0435\\u0434\\u0435\\u043b!\"\n        ],\n        \"semantic_type\": \"\",\n        \"description\": \"\"\n      }\n    },\n    {\n      \"column\": \"sentiment\",\n      \"properties\": {\n        \"dtype\": \"category\",\n        \"num_unique_values\": 2,\n        \"samples\": [\n          \"negative\",\n          \"positive\"\n        ],\n        \"semantic_type\": \"\",\n        \"description\": \"\"\n      }\n    },\n    {\n      \"column\": \"cleaned_content\",\n      \"properties\": {\n        \"dtype\": \"string\",\n        \"num_unique_values\": 70242,\n        \"samples\": [\n          \"\\u0445\\u043e\\u0447\\u0435\\u0442\\u0441\\u044f \\u043f\\u043e\\u0431\\u043b\\u0430\\u0433\\u043e\\u0434\\u0430\\u0440\\u0438\\u0442\\u044c \\u0447\\u0435\\u0440\\u0442\\u044e\\u043a\\u0430 \\u0432\\u0438\\u0442\\u0430\\u043b\\u0438\\u044f \\u0431\\u043e\\u0440\\u0438\\u0441\\u043e\\u0432\\u0438\\u0447\\u0430 \\u043f\\u0440\\u043e\\u0444\\u0435\\u0441\\u0441\\u0438\\u043e\\u043d\\u0430\\u043b\\u0438\\u0437\\u043c \\u0447\\u0443\\u0442\\u043a\\u043e\\u0435 \\u043e\\u0442\\u043d\\u043e\\u0448\\u0435\\u043d\\u0438\\u0435 \\u0434\\u0435\\u0442\\u044f\\u043c \\u0432\\u043d\\u0438\\u043c\\u0430\\u043d\\u0438\\u0435 \\u0432\\u044b\\u043f\\u043e\\u043b\\u043d\\u0435\\u043d\\u043d\\u0443\\u044e \\u043e\\u043f\\u0435\\u0440\\u0430\\u0446\\u0438\\u044e \\u0440\\u0435\\u0431\\u0451\\u043d\\u043e\\u043a \\u043f\\u043e\\u043d\\u044f\\u043b \\u043e\\u043f\\u0435\\u0440\\u0430\\u0446\\u0438\\u044f \\u043f\\u043e\\u0437\\u0430\\u0434\\u0438 \\u043d\\u0430\\u0440\\u043a\\u043e\\u0437 \\u043d\\u0438\\u043a\\u0430\\u043a\\u0438\\u0445 \\u043d\\u0435\\u043f\\u0440\\u0438\\u044f\\u0442\\u043d\\u044b\\u0445 \\u043e\\u0449\\u0443\\u0449\\u0435\\u043d\\u0438\\u0439 \\u043e\\u0433\\u0440\\u043e\\u043c\\u043d\\u043e\\u0435 \\u043c\\u0435\\u0434\\u043f\\u0435\\u0440\\u0441\\u043e\\u043d\\u0430\\u043b\\u0443 \\u0438\\u043d\\u0441\\u0442\\u0438\\u0442\\u0443\\u0442\\u0430 \\u0437\\u0430\\u0431\\u043e\\u0442\\u0438\\u0442\\u0441\\u044f \\u043d\\u0430\\u0448\\u0438\\u0445 \\u0434\\u0435\\u0442\\u044f\\u0445 \\u043f\\u043e\\u043c\\u043e\\u0433\\u0430\\u0435\\u0442 \\u043c\\u043e\\u0440\\u0430\\u043b\\u044c\\u043d\\u043e \\u0444\\u0438\\u0437\\u0438\\u0447\\u0435\\u0441\\u043a\\u0438 \\u043a\\u043e\\u0440\\u043c\\u0438\\u0442 \\u0436\\u0430\\u043b\\u0435\\u0435\\u0442 \\u043f\\u043e\\u0434\\u0431\\u0430\\u0434\\u0440\\u0438\\u0432\\u0430\\u0435\\u0442 \\u043f\\u043e\\u043f\\u0430\\u043b\\u0438 \\u0438\\u043d\\u0441\\u0442\\u0438\\u0442\\u0443\\u0442 \\u0443\\u0431\\u0435\\u0436\\u0434\\u0430\\u0435\\u043c\\u0441\\u044f \\u0443\\u0440\\u043e\\u0432\\u0435\\u043d\\u044c \\u0431\\u043e\\u043b\\u044c\\u043d\\u0438\\u0446\\u044b \\u0432\\u044b\\u0441\\u043e\\u043a \\u043f\\u0440\\u0438\\u044f\\u0442\\u043d\\u043e \\u043e\\u0441\\u043e\\u0437\\u043d\\u0430\\u0432\\u0430\\u0442\\u044c \\u043c\\u043e\\u043b\\u043e\\u0434\\u044b\\u0435 \\u0442\\u0430\\u043b\\u0430\\u043d\\u0442\\u043b\\u0438\\u0432\\u044b\\u0435 \\u0434\\u043e\\u043a\\u0442\\u043e\\u0440\\u0430 \\u0434\\u0443\\u0448\\u043e\\u0439 \\u043e\\u0442\\u043d\\u043e\\u0441\\u044f\\u0442\\u0441\\u044f \\u0440\\u0430\\u0431\\u043e\\u0442\\u0435 \\u0436\\u0435\\u043b\\u0430\\u0435\\u043c \\u0437\\u0434\\u043e\\u0440\\u043e\\u0432\\u044c\\u044f \\u043f\\u0440\\u043e\\u0444\\u0435\\u0441\\u0441\\u0438\\u043e\\u043d\\u0430\\u043b\\u044c\\u043d\\u044b\\u0445 \\u0443\\u0441\\u043f\\u0435\\u0445\\u043e\\u0432\",\n          \"\\u0445\\u043e\\u0447\\u0443 \\u0432\\u044b\\u0440\\u0430\\u0437\\u0438\\u0442\\u044c \\u043f\\u0440\\u0438\\u0437\\u043d\\u0430\\u0442\\u0435\\u043b\\u044c\\u043d\\u043e\\u0441\\u0442\\u044c \\u0441\\u0442\\u0430\\u0440\\u0438\\u043a\\u043e\\u0432\\u043e\\u0439 \\u043c\\u0430\\u0440\\u0438\\u043d\\u0435 \\u043d\\u0438\\u043a\\u043e\\u043b\\u0430\\u0435\\u0432\\u043d\\u0435 \\u0441\\u0442\\u0430\\u043b\\u043a\\u0438\\u0432\\u0430\\u043b\\u0430 \\u0440\\u0430\\u0437\\u0430 \\u043f\\u0440\\u0438\\u0448\\u043b\\u043e\\u0441\\u044c \\u043b\\u0435\\u0447\\u0438\\u0442\\u044c\\u0441\\u044f \\u043c\\u0438\\u043e\\u043c\\u0430 \\u043c\\u0430\\u0442\\u043a\\u0438 \\u0434\\u0438\\u0430\\u0433\\u043d\\u043e\\u0437 \\u043f\\u043e\\u0441\\u0442\\u0430\\u0432\\u043b\\u0435\\u043d \\u043f\\u0440\\u0430\\u0432\\u0438\\u043b\\u044c\\u043d\\u043e \\u043b\\u0435\\u0447\\u0435\\u043d\\u0438\\u0435 \\u043f\\u043e\\u043c\\u043e\\u0433\\u043b\\u043e \\u0443\\u0437\\u043d\\u0430\\u0432 \\u0431\\u0435\\u0440\\u0435\\u043c\\u0435\\u043d\\u043d\\u043e\\u0441\\u0442\\u0438 \\u0440\\u0435\\u0448\\u0438\\u043b\\u0430 \\u043a\\u043e\\u043d\\u0441\\u0443\\u043b\\u044c\\u0442\\u0430\\u0446\\u0438\\u044e \\u0431\\u0435\\u0440\\u0435\\u043c\\u0435\\u043d\\u043d\\u043e\\u0441\\u0442\\u044c \\u043f\\u0440\\u043e\\u0448\\u043b\\u0430 \\u043f\\u0440\\u043e\\u0431\\u043b\\u0435\\u043c \\u043c\\u0435\\u0441\\u044f\\u0446\\u0430 \\u0441\\u0447\\u0430\\u0441\\u0442\\u043b\\u0438\\u0432\\u0430\\u044f \\u043c\\u0430\\u043c\\u0430 \\u043c\\u0430\\u043b\\u0435\\u043d\\u044c\\u043a\\u043e\\u0433\\u043e \\u0441\\u0435\\u0440\\u0435\\u0436\\u0438 \\u0445\\u043e\\u0442\\u0435\\u043b\\u0430 \\u0430\\u0442\\u043c\\u043e\\u0441\\u0444\\u0435\\u0440\\u0430 \\u0441\\u043e\\u0437\\u0434\\u0430\\u043d\\u043d\\u0430\\u044f \\u043a\\u043e\\u043b\\u043b\\u0435\\u043a\\u0442\\u0438\\u0432\\u043e\\u043c \\u043c\\u0435\\u0434\\u0438\\u0446\\u0438\\u043d\\u0441\\u043a\\u043e\\u0433\\u043e \\u0446\\u0435\\u043d\\u0442\\u0440\\u0430 \\u0440\\u0430\\u0441\\u043f\\u043e\\u043b\\u0430\\u0433\\u0430\\u0435\\u0442 \\u0445\\u043e\\u0447\\u0435\\u0442\\u0441\\u044f \\u043e\\u0431\\u0440\\u0430\\u0449\\u0430\\u0442\\u044c\\u0441\\u044f \\u043f\\u043e\\u043c\\u043e\\u0449\\u044c\\u044e \\u0441\\u043b\\u0443\\u0447\\u0430\\u0435 \\u043d\\u0435\\u043e\\u0431\\u0445\\u043e\\u0434\\u0438\\u043c\\u043e\\u0441\\u0442\\u0438\"\n        ],\n        \"semantic_type\": \"\",\n        \"description\": \"\"\n      }\n    }\n  ]\n}"
            }
          },
          "metadata": {},
          "execution_count": 15
        }
      ]
    },
    {
      "cell_type": "code",
      "source": [
        "corpus = [word for text in df['cleaned_content'] for word in text.split()]\n",
        "count_words = Counter(corpus)\n",
        "\n",
        "sorted_words = count_words.most_common()"
      ],
      "metadata": {
        "id": "8dpwbmpqxZFC"
      },
      "execution_count": 16,
      "outputs": []
    },
    {
      "cell_type": "code",
      "source": [
        "sorted_words[-10:]"
      ],
      "metadata": {
        "id": "oZB1mpbHxkm1",
        "colab": {
          "base_uri": "https://localhost:8080/"
        },
        "outputId": "daa3b063-1a8e-4759-8d26-f65871875c91"
      },
      "execution_count": 17,
      "outputs": [
        {
          "output_type": "execute_result",
          "data": {
            "text/plain": [
              "[('эльасваду', 1),\n",
              " ('автошколой', 1),\n",
              " ('автошколами', 1),\n",
              " ('постсоюза', 1),\n",
              " ('крохотное', 1),\n",
              " ('фгуп', 1),\n",
              " ('врачасадиста', 1),\n",
              " ('№063260', 1),\n",
              " ('сертифакат', 1),\n",
              " ('№051925', 1)]"
            ]
          },
          "metadata": {},
          "execution_count": 17
        }
      ]
    },
    {
      "cell_type": "code",
      "source": [
        "def get_words_by_freq(sorted_words: list, n: int = 10) -> list:\n",
        "    return list(filter(lambda x: x[1] > n, sorted_words))"
      ],
      "metadata": {
        "id": "dBgzcpwJxmDQ"
      },
      "execution_count": 18,
      "outputs": []
    },
    {
      "cell_type": "code",
      "source": [
        "sorted_words = get_words_by_freq(sorted_words, 1000)"
      ],
      "metadata": {
        "id": "DLR258i3xqcP"
      },
      "execution_count": 19,
      "outputs": []
    },
    {
      "cell_type": "code",
      "source": [
        "sorted_words[-10:]"
      ],
      "metadata": {
        "id": "jimCLwEixtTT",
        "colab": {
          "base_uri": "https://localhost:8080/"
        },
        "outputId": "da911117-ec39-4973-bab2-56fae0ff82c6"
      },
      "execution_count": 20,
      "outputs": [
        {
          "output_type": "execute_result",
          "data": {
            "text/plain": [
              "[('решили', 1015),\n",
              " ('нашего', 1015),\n",
              " ('вполне', 1014),\n",
              " ('сутки', 1013),\n",
              " ('смогла', 1012),\n",
              " ('возможность', 1010),\n",
              " ('ощущение', 1009),\n",
              " ('диагнозом', 1007),\n",
              " ('стоимость', 1004),\n",
              " ('хирурга', 1003)]"
            ]
          },
          "metadata": {},
          "execution_count": 20
        }
      ]
    },
    {
      "cell_type": "code",
      "source": [
        "vocab_to_int = {w:i+1 for i, (w,c) in enumerate(sorted_words)}"
      ],
      "metadata": {
        "id": "SwmbFkKrxwrL"
      },
      "execution_count": 21,
      "outputs": []
    },
    {
      "cell_type": "code",
      "source": [
        "reviews_int = []\n",
        "for text in df['cleaned_content']:\n",
        "\n",
        "    r = [vocab_to_int[word] for word in text.split() if vocab_to_int.get(word)]\n",
        "    reviews_int.append(r)"
      ],
      "metadata": {
        "id": "hfD9vToVyCDr"
      },
      "execution_count": 24,
      "outputs": []
    },
    {
      "cell_type": "code",
      "source": [
        "df['sentiment'] = df['sentiment'].apply(lambda x: 1 if x == 'positive' else 0)"
      ],
      "metadata": {
        "id": "GUXeCgp4yG5k"
      },
      "execution_count": 25,
      "outputs": []
    },
    {
      "cell_type": "code",
      "source": [
        "review_len = [len(x) for x in reviews_int]\n",
        "df['Review len'] = review_len\n",
        "df.head()"
      ],
      "metadata": {
        "id": "iVMDeCjEy5Ry",
        "colab": {
          "base_uri": "https://localhost:8080/",
          "height": 206
        },
        "outputId": "80007e97-84e5-4475-8e4e-3d1ae5307d54"
      },
      "execution_count": 26,
      "outputs": [
        {
          "output_type": "execute_result",
          "data": {
            "text/plain": [
              "                                             content  sentiment  \\\n",
              "0  Огромное спасибо за чудесное удаление двух зуб...          1   \n",
              "1  Хочу выразить особую благодарность замечательн...          1   \n",
              "2  Добрый вечер! Хотелось бы поблагодарить сотруд...          1   \n",
              "3  Женщины советского образца в регистратуре не и...          0   \n",
              "4  У меня с детства очень плохие зубы (тонкая и х...          1   \n",
              "\n",
              "                                     cleaned_content  Review len  \n",
              "0  огромное чудесное удаление зубов мудрости мгно...           9  \n",
              "1  хочу выразить особую благодарность замечательн...           8  \n",
              "2  добрый хотелось поблагодарить сотрудников рент...          19  \n",
              "3  женщины советского образца регистратуре имеют ...          42  \n",
              "4  детства плохие зубы тонкая хрупкая эмаль криви...          15  "
            ],
            "text/html": [
              "\n",
              "  <div id=\"df-9c7a9ffe-b496-4e4a-9867-4e72e8cf2de4\" class=\"colab-df-container\">\n",
              "    <div>\n",
              "<style scoped>\n",
              "    .dataframe tbody tr th:only-of-type {\n",
              "        vertical-align: middle;\n",
              "    }\n",
              "\n",
              "    .dataframe tbody tr th {\n",
              "        vertical-align: top;\n",
              "    }\n",
              "\n",
              "    .dataframe thead th {\n",
              "        text-align: right;\n",
              "    }\n",
              "</style>\n",
              "<table border=\"1\" class=\"dataframe\">\n",
              "  <thead>\n",
              "    <tr style=\"text-align: right;\">\n",
              "      <th></th>\n",
              "      <th>content</th>\n",
              "      <th>sentiment</th>\n",
              "      <th>cleaned_content</th>\n",
              "      <th>Review len</th>\n",
              "    </tr>\n",
              "  </thead>\n",
              "  <tbody>\n",
              "    <tr>\n",
              "      <th>0</th>\n",
              "      <td>Огромное спасибо за чудесное удаление двух зуб...</td>\n",
              "      <td>1</td>\n",
              "      <td>огромное чудесное удаление зубов мудрости мгно...</td>\n",
              "      <td>9</td>\n",
              "    </tr>\n",
              "    <tr>\n",
              "      <th>1</th>\n",
              "      <td>Хочу выразить особую благодарность замечательн...</td>\n",
              "      <td>1</td>\n",
              "      <td>хочу выразить особую благодарность замечательн...</td>\n",
              "      <td>8</td>\n",
              "    </tr>\n",
              "    <tr>\n",
              "      <th>2</th>\n",
              "      <td>Добрый вечер! Хотелось бы поблагодарить сотруд...</td>\n",
              "      <td>1</td>\n",
              "      <td>добрый хотелось поблагодарить сотрудников рент...</td>\n",
              "      <td>19</td>\n",
              "    </tr>\n",
              "    <tr>\n",
              "      <th>3</th>\n",
              "      <td>Женщины советского образца в регистратуре не и...</td>\n",
              "      <td>0</td>\n",
              "      <td>женщины советского образца регистратуре имеют ...</td>\n",
              "      <td>42</td>\n",
              "    </tr>\n",
              "    <tr>\n",
              "      <th>4</th>\n",
              "      <td>У меня с детства очень плохие зубы (тонкая и х...</td>\n",
              "      <td>1</td>\n",
              "      <td>детства плохие зубы тонкая хрупкая эмаль криви...</td>\n",
              "      <td>15</td>\n",
              "    </tr>\n",
              "  </tbody>\n",
              "</table>\n",
              "</div>\n",
              "    <div class=\"colab-df-buttons\">\n",
              "\n",
              "  <div class=\"colab-df-container\">\n",
              "    <button class=\"colab-df-convert\" onclick=\"convertToInteractive('df-9c7a9ffe-b496-4e4a-9867-4e72e8cf2de4')\"\n",
              "            title=\"Convert this dataframe to an interactive table.\"\n",
              "            style=\"display:none;\">\n",
              "\n",
              "  <svg xmlns=\"http://www.w3.org/2000/svg\" height=\"24px\" viewBox=\"0 -960 960 960\">\n",
              "    <path d=\"M120-120v-720h720v720H120Zm60-500h600v-160H180v160Zm220 220h160v-160H400v160Zm0 220h160v-160H400v160ZM180-400h160v-160H180v160Zm440 0h160v-160H620v160ZM180-180h160v-160H180v160Zm440 0h160v-160H620v160Z\"/>\n",
              "  </svg>\n",
              "    </button>\n",
              "\n",
              "  <style>\n",
              "    .colab-df-container {\n",
              "      display:flex;\n",
              "      gap: 12px;\n",
              "    }\n",
              "\n",
              "    .colab-df-convert {\n",
              "      background-color: #E8F0FE;\n",
              "      border: none;\n",
              "      border-radius: 50%;\n",
              "      cursor: pointer;\n",
              "      display: none;\n",
              "      fill: #1967D2;\n",
              "      height: 32px;\n",
              "      padding: 0 0 0 0;\n",
              "      width: 32px;\n",
              "    }\n",
              "\n",
              "    .colab-df-convert:hover {\n",
              "      background-color: #E2EBFA;\n",
              "      box-shadow: 0px 1px 2px rgba(60, 64, 67, 0.3), 0px 1px 3px 1px rgba(60, 64, 67, 0.15);\n",
              "      fill: #174EA6;\n",
              "    }\n",
              "\n",
              "    .colab-df-buttons div {\n",
              "      margin-bottom: 4px;\n",
              "    }\n",
              "\n",
              "    [theme=dark] .colab-df-convert {\n",
              "      background-color: #3B4455;\n",
              "      fill: #D2E3FC;\n",
              "    }\n",
              "\n",
              "    [theme=dark] .colab-df-convert:hover {\n",
              "      background-color: #434B5C;\n",
              "      box-shadow: 0px 1px 3px 1px rgba(0, 0, 0, 0.15);\n",
              "      filter: drop-shadow(0px 1px 2px rgba(0, 0, 0, 0.3));\n",
              "      fill: #FFFFFF;\n",
              "    }\n",
              "  </style>\n",
              "\n",
              "    <script>\n",
              "      const buttonEl =\n",
              "        document.querySelector('#df-9c7a9ffe-b496-4e4a-9867-4e72e8cf2de4 button.colab-df-convert');\n",
              "      buttonEl.style.display =\n",
              "        google.colab.kernel.accessAllowed ? 'block' : 'none';\n",
              "\n",
              "      async function convertToInteractive(key) {\n",
              "        const element = document.querySelector('#df-9c7a9ffe-b496-4e4a-9867-4e72e8cf2de4');\n",
              "        const dataTable =\n",
              "          await google.colab.kernel.invokeFunction('convertToInteractive',\n",
              "                                                    [key], {});\n",
              "        if (!dataTable) return;\n",
              "\n",
              "        const docLinkHtml = 'Like what you see? Visit the ' +\n",
              "          '<a target=\"_blank\" href=https://colab.research.google.com/notebooks/data_table.ipynb>data table notebook</a>'\n",
              "          + ' to learn more about interactive tables.';\n",
              "        element.innerHTML = '';\n",
              "        dataTable['output_type'] = 'display_data';\n",
              "        await google.colab.output.renderOutput(dataTable, element);\n",
              "        const docLink = document.createElement('div');\n",
              "        docLink.innerHTML = docLinkHtml;\n",
              "        element.appendChild(docLink);\n",
              "      }\n",
              "    </script>\n",
              "  </div>\n",
              "\n",
              "\n",
              "<div id=\"df-296c34c3-0e7c-4328-9779-209e6f8a3046\">\n",
              "  <button class=\"colab-df-quickchart\" onclick=\"quickchart('df-296c34c3-0e7c-4328-9779-209e6f8a3046')\"\n",
              "            title=\"Suggest charts\"\n",
              "            style=\"display:none;\">\n",
              "\n",
              "<svg xmlns=\"http://www.w3.org/2000/svg\" height=\"24px\"viewBox=\"0 0 24 24\"\n",
              "     width=\"24px\">\n",
              "    <g>\n",
              "        <path d=\"M19 3H5c-1.1 0-2 .9-2 2v14c0 1.1.9 2 2 2h14c1.1 0 2-.9 2-2V5c0-1.1-.9-2-2-2zM9 17H7v-7h2v7zm4 0h-2V7h2v10zm4 0h-2v-4h2v4z\"/>\n",
              "    </g>\n",
              "</svg>\n",
              "  </button>\n",
              "\n",
              "<style>\n",
              "  .colab-df-quickchart {\n",
              "      --bg-color: #E8F0FE;\n",
              "      --fill-color: #1967D2;\n",
              "      --hover-bg-color: #E2EBFA;\n",
              "      --hover-fill-color: #174EA6;\n",
              "      --disabled-fill-color: #AAA;\n",
              "      --disabled-bg-color: #DDD;\n",
              "  }\n",
              "\n",
              "  [theme=dark] .colab-df-quickchart {\n",
              "      --bg-color: #3B4455;\n",
              "      --fill-color: #D2E3FC;\n",
              "      --hover-bg-color: #434B5C;\n",
              "      --hover-fill-color: #FFFFFF;\n",
              "      --disabled-bg-color: #3B4455;\n",
              "      --disabled-fill-color: #666;\n",
              "  }\n",
              "\n",
              "  .colab-df-quickchart {\n",
              "    background-color: var(--bg-color);\n",
              "    border: none;\n",
              "    border-radius: 50%;\n",
              "    cursor: pointer;\n",
              "    display: none;\n",
              "    fill: var(--fill-color);\n",
              "    height: 32px;\n",
              "    padding: 0;\n",
              "    width: 32px;\n",
              "  }\n",
              "\n",
              "  .colab-df-quickchart:hover {\n",
              "    background-color: var(--hover-bg-color);\n",
              "    box-shadow: 0 1px 2px rgba(60, 64, 67, 0.3), 0 1px 3px 1px rgba(60, 64, 67, 0.15);\n",
              "    fill: var(--button-hover-fill-color);\n",
              "  }\n",
              "\n",
              "  .colab-df-quickchart-complete:disabled,\n",
              "  .colab-df-quickchart-complete:disabled:hover {\n",
              "    background-color: var(--disabled-bg-color);\n",
              "    fill: var(--disabled-fill-color);\n",
              "    box-shadow: none;\n",
              "  }\n",
              "\n",
              "  .colab-df-spinner {\n",
              "    border: 2px solid var(--fill-color);\n",
              "    border-color: transparent;\n",
              "    border-bottom-color: var(--fill-color);\n",
              "    animation:\n",
              "      spin 1s steps(1) infinite;\n",
              "  }\n",
              "\n",
              "  @keyframes spin {\n",
              "    0% {\n",
              "      border-color: transparent;\n",
              "      border-bottom-color: var(--fill-color);\n",
              "      border-left-color: var(--fill-color);\n",
              "    }\n",
              "    20% {\n",
              "      border-color: transparent;\n",
              "      border-left-color: var(--fill-color);\n",
              "      border-top-color: var(--fill-color);\n",
              "    }\n",
              "    30% {\n",
              "      border-color: transparent;\n",
              "      border-left-color: var(--fill-color);\n",
              "      border-top-color: var(--fill-color);\n",
              "      border-right-color: var(--fill-color);\n",
              "    }\n",
              "    40% {\n",
              "      border-color: transparent;\n",
              "      border-right-color: var(--fill-color);\n",
              "      border-top-color: var(--fill-color);\n",
              "    }\n",
              "    60% {\n",
              "      border-color: transparent;\n",
              "      border-right-color: var(--fill-color);\n",
              "    }\n",
              "    80% {\n",
              "      border-color: transparent;\n",
              "      border-right-color: var(--fill-color);\n",
              "      border-bottom-color: var(--fill-color);\n",
              "    }\n",
              "    90% {\n",
              "      border-color: transparent;\n",
              "      border-bottom-color: var(--fill-color);\n",
              "    }\n",
              "  }\n",
              "</style>\n",
              "\n",
              "  <script>\n",
              "    async function quickchart(key) {\n",
              "      const quickchartButtonEl =\n",
              "        document.querySelector('#' + key + ' button');\n",
              "      quickchartButtonEl.disabled = true;  // To prevent multiple clicks.\n",
              "      quickchartButtonEl.classList.add('colab-df-spinner');\n",
              "      try {\n",
              "        const charts = await google.colab.kernel.invokeFunction(\n",
              "            'suggestCharts', [key], {});\n",
              "      } catch (error) {\n",
              "        console.error('Error during call to suggestCharts:', error);\n",
              "      }\n",
              "      quickchartButtonEl.classList.remove('colab-df-spinner');\n",
              "      quickchartButtonEl.classList.add('colab-df-quickchart-complete');\n",
              "    }\n",
              "    (() => {\n",
              "      let quickchartButtonEl =\n",
              "        document.querySelector('#df-296c34c3-0e7c-4328-9779-209e6f8a3046 button');\n",
              "      quickchartButtonEl.style.display =\n",
              "        google.colab.kernel.accessAllowed ? 'block' : 'none';\n",
              "    })();\n",
              "  </script>\n",
              "</div>\n",
              "\n",
              "    </div>\n",
              "  </div>\n"
            ],
            "application/vnd.google.colaboratory.intrinsic+json": {
              "type": "dataframe",
              "variable_name": "df",
              "summary": "{\n  \"name\": \"df\",\n  \"rows\": 70597,\n  \"fields\": [\n    {\n      \"column\": \"content\",\n      \"properties\": {\n        \"dtype\": \"string\",\n        \"num_unique_values\": 70388,\n        \"samples\": [\n          \"\\u0425\\u043e\\u0447\\u0443 \\u0432\\u044b\\u0440\\u0430\\u0437\\u0438\\u0442\\u044c \\u0441\\u0435\\u0440\\u0434\\u0435\\u0447\\u043d\\u0443\\u044e \\u0431\\u043b\\u0430\\u0433\\u043e\\u0434\\u0430\\u0440\\u043d\\u043e\\u0441\\u0442\\u044c \\u043a\\u043e\\u043b\\u043b\\u0435\\u043a\\u0442\\u0438\\u0432\\u0443 \\u0433\\u0438\\u043d\\u0435\\u043a\\u043e\\u043b\\u043e\\u0433\\u0438\\u0447\\u0435\\u0441\\u043a\\u043e\\u0433\\u043e \\u043e\\u0442\\u0434\\u0435\\u043b\\u0435\\u043d\\u0438\\u044f \\u0424\\u0413\\u0411\\u0423 \\u0413\\u041d\\u0426 \\u0424\\u041c\\u0411\\u0426 \\u0438\\u043c \\u0410. \\u0418. \\u0411\\u0443\\u0440\\u043d\\u0430\\u0437\\u044f\\u043d\\u0430 \\u0424\\u041c\\u0411\\u0410 \\u0437\\u0430 \\u0447\\u0443\\u0442\\u043a\\u043e\\u0441\\u0442\\u044c, \\u043f\\u043e\\u043d\\u0438\\u043c\\u0430\\u043d\\u0438\\u0435, \\u0442\\u0430\\u043a\\u0442 \\u0438 \\u0432\\u044b\\u0441\\u043e\\u043a\\u0438\\u0439 \\u043f\\u0440\\u043e\\u0444\\u0435\\u0441\\u0441\\u0438\\u043e\\u043d\\u0430\\u043b\\u0438\\u0437\\u043c. \\u0412 \\u043e\\u0442\\u0434\\u0435\\u043b\\u0435\\u043d\\u0438\\u0438, \\u0440\\u0443\\u043a\\u043e\\u0432\\u043e\\u0434\\u0438\\u043c\\u044b\\u043c \\u0411\\u0443\\u0448\\u043a\\u043e\\u0432\\u043e\\u0439 \\u041e\\u043b\\u044c\\u0433\\u043e\\u0439 \\u041d\\u0438\\u043a\\u043e\\u043b\\u0430\\u0435\\u0432\\u043d\\u043e\\u0439, \\u0440\\u0430\\u0431\\u043e\\u0442\\u0430\\u0435\\u0442 \\u043a\\u043e\\u043b\\u043b\\u0435\\u043a\\u0442\\u0438\\u0432 \\u0432\\u044b\\u0441\\u043e\\u043a\\u043e\\u0433\\u043e \\u043f\\u0440\\u043e\\u0444\\u0435\\u0441\\u0441\\u0438\\u043e\\u043d\\u0430\\u043b\\u044c\\u043d\\u043e\\u0433\\u043e \\u043c\\u0430\\u0441\\u0442\\u0435\\u0440\\u0441\\u0442\\u0432\\u0430, \\u0431\\u043e\\u043b\\u044c\\u0448\\u043e\\u0433\\u043e \\u0447\\u0443\\u0432\\u0441\\u0442\\u0432\\u0430 \\u043e\\u0442\\u0432\\u0435\\u0442\\u0441\\u0442\\u0432\\u0435\\u043d\\u043d\\u043e\\u0441\\u0442\\u0438, \\u043d\\u0430\\u0434\\u0435\\u043b\\u0435\\u043d\\u043d\\u044b\\u0439 \\u0441\\u0435\\u0440\\u0434\\u0435\\u0447\\u043d\\u043e\\u0441\\u0442\\u044c\\u044e \\u0438 \\u0434\\u0443\\u0448\\u0435\\u0432\\u043d\\u043e\\u0439 \\u0442\\u0435\\u043f\\u043b\\u043e\\u0442\\u043e\\u0439 \\u043a \\u043a\\u0430\\u0436\\u0434\\u043e\\u043c\\u0443 \\u0431\\u043e\\u043b\\u044c\\u043d\\u043e\\u043c\\u0443. \\u0412\\u043d\\u0438\\u043c\\u0430\\u0442\\u0435\\u043b\\u044c\\u043d\\u043e\\u0435, \\u0434\\u043e\\u0431\\u0440\\u043e\\u0436\\u0435\\u043b\\u0430\\u0442\\u0435\\u043b\\u044c\\u043d\\u043e\\u0435 \\u043e\\u0442\\u043d\\u043e\\u0448\\u0435\\u043d\\u0438\\u0435 \\u043a \\u043f\\u0430\\u0446\\u0438\\u0435\\u043d\\u0442\\u0430\\u043c, \\u0443\\u043c\\u0435\\u043d\\u0438\\u0435 \\u0432\\u0441\\u0435\\u043b\\u0438\\u0442\\u044c \\u0443\\u0432\\u0435\\u0440\\u0435\\u043d\\u043d\\u043e\\u0441\\u0442\\u044c \\u0432 \\u0431\\u0443\\u0434\\u0443\\u0449\\u0435\\u0435, \\u043d\\u0430\\u0434\\u0435\\u0436\\u0434\\u0443 \\u043d\\u0430 \\u0441\\u043a\\u043e\\u0440\\u043e\\u0435 \\u0432\\u044b\\u0437\\u0434\\u043e\\u0440\\u043e\\u0432\\u043b\\u0435\\u043d\\u0438\\u0435, \\u043e\\u0442\\u043b\\u0438\\u0447\\u0438\\u0442\\u0435\\u043b\\u044c\\u043d\\u0430\\u044f \\u0447\\u0435\\u0440\\u0442\\u0430 \\u0432\\u0441\\u0435\\u0445 \\u0441\\u043e\\u0442\\u0440\\u0443\\u0434\\u043d\\u0438\\u043a\\u043e\\u0432 \\u044d\\u0442\\u043e\\u0433\\u043e \\u043e\\u0442\\u0434\\u0435\\u043b\\u0435\\u043d\\u0438\\u044f. \\u0420\\u0443\\u0441\\u0430\\u043a\\u043e\\u0432\\u0430 \\u041b. \\u041d.\",\n          \"\\u041f\\u0440\\u043e\\u043f\\u0438\\u0441\\u0430\\u043d\\u044b \\u0432 \\u041a\\u0440\\u0430\\u0441\\u043d\\u043e\\u0437\\u043d\\u0430\\u043c\\u0435\\u043d\\u0441\\u043a\\u0435, \\u0436\\u0438\\u0432\\u0435\\u043c \\u0432 \\u0413\\u043e\\u0440\\u043a\\u0430\\u0445. \\u0420\\u0435\\u0448\\u0438\\u043b\\u0438 5 \\u043c\\u0435\\u0441. \\u0440\\u0435\\u0431\\u0435\\u043d\\u043a\\u0430 \\u043f\\u0440\\u0438\\u043a\\u0440\\u0435\\u043f\\u0438\\u0442\\u044c \\u0432 \\u0413\\u043e\\u0440\\u043a\\u0430\\u0445, \\u0447\\u0442\\u043e\\u0431 \\u043c\\u0435\\u043d\\u044c\\u0448\\u0435 \\u0435\\u0437\\u0434\\u0438\\u0442\\u044c, \\u0430 \\u043f\\u043e\\u043b\\u0443\\u0447\\u0430\\u0435\\u0442\\u0441\\u044f \\u0432\\u0441\\u0435 \\u0440\\u0430\\u0432\\u043d\\u043e \\u0435\\u0437\\u0434\\u0438\\u0442\\u044c \\u043d\\u0430\\u0434\\u043e \\u0432 \\u044d\\u0442\\u0443 \\u043f\\u043e\\u043b\\u0438\\u043a\\u043b\\u0438\\u043d\\u0438\\u043a\\u0443. \\u041e\\u0444\\u043e\\u0440\\u043c\\u0438\\u043b\\u0438\\u0441\\u044c. \\u041a\\u0430\\u0436\\u0434\\u044b\\u0439 \\u0440\\u0430\\u0437 \\u043a\\u043e\\u0433\\u0434\\u0430 \\u043f\\u0440\\u0438\\u0435\\u0437\\u0436\\u0430\\u0435\\u043c - \\u043d\\u0430\\u043c \\u0448\\u0432\\u044b\\u0440\\u044f\\u044e\\u0442 \\u043f\\u043e\\u043b\\u0438\\u0441 \\u043e\\u0431\\u0440\\u0430\\u0442\\u043d\\u043e \\u0438 \\u0433\\u043e\\u0432\\u043e\\u0440\\u044f\\u0442 \\u041a\\u0440\\u0430\\u0441\\u043d\\u043e\\u0437\\u043d\\u0430\\u043c\\u0435\\u043d\\u0441\\u043a \\u043d\\u0435 \\u043e\\u0431\\u0441\\u043b\\u0443\\u0436\\u0438\\u0432\\u0430\\u0435\\u043c. \\u0420\\u0435\\u0431\\u0435\\u043d\\u043a\\u0443 \\u0434\\u0430\\u043b\\u0438 \\u043d\\u0430\\u043f\\u0440\\u0430\\u0432\\u043b\\u0435\\u043d\\u0438\\u0435 \\u043a \\u0433\\u0438\\u043d\\u0435\\u043a\\u043e\\u043b\\u043e\\u0433\\u0443, \\u043d\\u0435 \\u043c\\u043e\\u0436\\u0435\\u043c \\u043f\\u0440\\u043e\\u0439\\u0442\\u0438 \\u0443\\u0436\\u0435 3 \\u043c\\u0435\\u0441. \\u0414\\u043e \\u0433\\u043e\\u0434\\u0430 \\u0442\\u043e\\u043b\\u044c\\u043a\\u043e 4 \\u0441\\u0443\\u0431\\u0431\\u043e\\u0442\\u0430 \\u043c\\u0435\\u0441\\u044f\\u0446\\u0430. \\u041f\\u0440\\u0438\\u0435\\u0437\\u0436\\u0430\\u043b\\u0438 \\u0438 \\u043a 7 \\u0443\\u0442\\u0440\\u0430, \\u0441\\u0442\\u043e\\u044f\\u043b\\u0438 \\u0432 \\u043e\\u0447\\u0435\\u0440\\u0435\\u0434\\u0438 \\u0437\\u0430 \\u0442\\u0430\\u043b\\u043e\\u043d\\u0430\\u043c\\u0438, \\u0430 \\u0432\\u0440\\u0430\\u0447\\u0438 \\u0441\\u0430\\u043c\\u043e\\u0435 \\u0438\\u043d\\u0442\\u0435\\u0440\\u0435\\u0441\\u043d\\u043e\\u0435 \\u0441 9 \\u0440\\u0430\\u0431\\u043e\\u0442\\u0430\\u044e\\u0442 \\u0438\\u043b\\u0438 \\u0432\\u043e \\u0432\\u0442\\u043e\\u0440\\u043e\\u0439 \\u043f\\u043e\\u043b\\u043e\\u0432\\u0438\\u043d\\u0435 \\u0434\\u043d\\u044f. \\u042f \\u0441\\u0447\\u0438\\u0442\\u0430\\u044e \\u044d\\u0442\\u043e \\u043f\\u0440\\u043e\\u0441\\u0442\\u043e \\u0438\\u0437\\u0434\\u0435\\u0432\\u0430\\u0442\\u0435\\u043b\\u044c\\u0441\\u0442\\u0432\\u043e \\u043d\\u0430\\u0434 \\u043b\\u044e\\u0434\\u044c\\u043c\\u0438! \\u0423\\u0436\\u0430\\u0441\\u043d\\u0430\\u044f \\u0431\\u043e\\u043b\\u044c\\u043d\\u0438\\u0446\\u0430, \\u0431\\u0443\\u0434\\u0435\\u043c \\u043e\\u0442\\u043a\\u0440\\u0435\\u043f\\u043b\\u044f\\u0442\\u044c\\u0441\\u044f. \\u0421\\u043b\\u0430\\u0432\\u0430 \\u0411\\u043e\\u0433\\u0443, \\u0447\\u0442\\u043e \\u043c\\u044b \\u0436\\u0438\\u0432\\u0435\\u043c \\u043d\\u0435 \\u0432 \\u041e\\u0434\\u0438\\u043d\\u0446\\u043e\\u0432\\u043e.\",\n          \"\\u041e\\u0433\\u0440\\u043e\\u043c\\u043d\\u043e\\u0435 \\u0441\\u043f\\u0430\\u0441\\u0438\\u0431\\u043e \\u0434\\u043e\\u043a\\u0442\\u043e\\u0440\\u0443 \\u041a\\u0430\\u0431\\u0430\\u043d\\u043e\\u0432\\u0443, \\u043d\\u0435 \\u043f\\u044c\\u044e \\u0443\\u0436\\u0435 6 \\u043b\\u0435\\u0442 (\\u0434\\u0432\\u0430 \\u0440\\u0430\\u0437\\u0430 \\u043f\\u043e 3 \\u0433\\u043e\\u0434\\u0430), \\u0438 \\u0435\\u0449\\u0435 \\u043f\\u043e\\u0441\\u043b\\u0435\\u0434\\u043d\\u0438\\u0439 \\u0440\\u0430\\u0437 \\u0437\\u0430\\u043a\\u043e\\u0434\\u0438\\u0440\\u043e\\u0432\\u0430\\u043b\\u0441\\u044f \\u043e\\u0442 \\u043e\\u0436\\u0438\\u0440\\u0435\\u043d\\u0438\\u044f, \\u0441\\u043a\\u0438\\u043d\\u0443\\u043b \\u0437\\u0430 \\u043c\\u0435\\u0441\\u044f\\u0446 12 \\u043a\\u0433. \\u0418 \\u044d\\u0442\\u043e \\u043d\\u0435 \\u043f\\u0440\\u0435\\u0434\\u0435\\u043b!\"\n        ],\n        \"semantic_type\": \"\",\n        \"description\": \"\"\n      }\n    },\n    {\n      \"column\": \"sentiment\",\n      \"properties\": {\n        \"dtype\": \"number\",\n        \"std\": 0,\n        \"min\": 0,\n        \"max\": 1,\n        \"num_unique_values\": 2,\n        \"samples\": [\n          0,\n          1\n        ],\n        \"semantic_type\": \"\",\n        \"description\": \"\"\n      }\n    },\n    {\n      \"column\": \"cleaned_content\",\n      \"properties\": {\n        \"dtype\": \"string\",\n        \"num_unique_values\": 70242,\n        \"samples\": [\n          \"\\u0445\\u043e\\u0447\\u0435\\u0442\\u0441\\u044f \\u043f\\u043e\\u0431\\u043b\\u0430\\u0433\\u043e\\u0434\\u0430\\u0440\\u0438\\u0442\\u044c \\u0447\\u0435\\u0440\\u0442\\u044e\\u043a\\u0430 \\u0432\\u0438\\u0442\\u0430\\u043b\\u0438\\u044f \\u0431\\u043e\\u0440\\u0438\\u0441\\u043e\\u0432\\u0438\\u0447\\u0430 \\u043f\\u0440\\u043e\\u0444\\u0435\\u0441\\u0441\\u0438\\u043e\\u043d\\u0430\\u043b\\u0438\\u0437\\u043c \\u0447\\u0443\\u0442\\u043a\\u043e\\u0435 \\u043e\\u0442\\u043d\\u043e\\u0448\\u0435\\u043d\\u0438\\u0435 \\u0434\\u0435\\u0442\\u044f\\u043c \\u0432\\u043d\\u0438\\u043c\\u0430\\u043d\\u0438\\u0435 \\u0432\\u044b\\u043f\\u043e\\u043b\\u043d\\u0435\\u043d\\u043d\\u0443\\u044e \\u043e\\u043f\\u0435\\u0440\\u0430\\u0446\\u0438\\u044e \\u0440\\u0435\\u0431\\u0451\\u043d\\u043e\\u043a \\u043f\\u043e\\u043d\\u044f\\u043b \\u043e\\u043f\\u0435\\u0440\\u0430\\u0446\\u0438\\u044f \\u043f\\u043e\\u0437\\u0430\\u0434\\u0438 \\u043d\\u0430\\u0440\\u043a\\u043e\\u0437 \\u043d\\u0438\\u043a\\u0430\\u043a\\u0438\\u0445 \\u043d\\u0435\\u043f\\u0440\\u0438\\u044f\\u0442\\u043d\\u044b\\u0445 \\u043e\\u0449\\u0443\\u0449\\u0435\\u043d\\u0438\\u0439 \\u043e\\u0433\\u0440\\u043e\\u043c\\u043d\\u043e\\u0435 \\u043c\\u0435\\u0434\\u043f\\u0435\\u0440\\u0441\\u043e\\u043d\\u0430\\u043b\\u0443 \\u0438\\u043d\\u0441\\u0442\\u0438\\u0442\\u0443\\u0442\\u0430 \\u0437\\u0430\\u0431\\u043e\\u0442\\u0438\\u0442\\u0441\\u044f \\u043d\\u0430\\u0448\\u0438\\u0445 \\u0434\\u0435\\u0442\\u044f\\u0445 \\u043f\\u043e\\u043c\\u043e\\u0433\\u0430\\u0435\\u0442 \\u043c\\u043e\\u0440\\u0430\\u043b\\u044c\\u043d\\u043e \\u0444\\u0438\\u0437\\u0438\\u0447\\u0435\\u0441\\u043a\\u0438 \\u043a\\u043e\\u0440\\u043c\\u0438\\u0442 \\u0436\\u0430\\u043b\\u0435\\u0435\\u0442 \\u043f\\u043e\\u0434\\u0431\\u0430\\u0434\\u0440\\u0438\\u0432\\u0430\\u0435\\u0442 \\u043f\\u043e\\u043f\\u0430\\u043b\\u0438 \\u0438\\u043d\\u0441\\u0442\\u0438\\u0442\\u0443\\u0442 \\u0443\\u0431\\u0435\\u0436\\u0434\\u0430\\u0435\\u043c\\u0441\\u044f \\u0443\\u0440\\u043e\\u0432\\u0435\\u043d\\u044c \\u0431\\u043e\\u043b\\u044c\\u043d\\u0438\\u0446\\u044b \\u0432\\u044b\\u0441\\u043e\\u043a \\u043f\\u0440\\u0438\\u044f\\u0442\\u043d\\u043e \\u043e\\u0441\\u043e\\u0437\\u043d\\u0430\\u0432\\u0430\\u0442\\u044c \\u043c\\u043e\\u043b\\u043e\\u0434\\u044b\\u0435 \\u0442\\u0430\\u043b\\u0430\\u043d\\u0442\\u043b\\u0438\\u0432\\u044b\\u0435 \\u0434\\u043e\\u043a\\u0442\\u043e\\u0440\\u0430 \\u0434\\u0443\\u0448\\u043e\\u0439 \\u043e\\u0442\\u043d\\u043e\\u0441\\u044f\\u0442\\u0441\\u044f \\u0440\\u0430\\u0431\\u043e\\u0442\\u0435 \\u0436\\u0435\\u043b\\u0430\\u0435\\u043c \\u0437\\u0434\\u043e\\u0440\\u043e\\u0432\\u044c\\u044f \\u043f\\u0440\\u043e\\u0444\\u0435\\u0441\\u0441\\u0438\\u043e\\u043d\\u0430\\u043b\\u044c\\u043d\\u044b\\u0445 \\u0443\\u0441\\u043f\\u0435\\u0445\\u043e\\u0432\",\n          \"\\u0445\\u043e\\u0447\\u0443 \\u0432\\u044b\\u0440\\u0430\\u0437\\u0438\\u0442\\u044c \\u043f\\u0440\\u0438\\u0437\\u043d\\u0430\\u0442\\u0435\\u043b\\u044c\\u043d\\u043e\\u0441\\u0442\\u044c \\u0441\\u0442\\u0430\\u0440\\u0438\\u043a\\u043e\\u0432\\u043e\\u0439 \\u043c\\u0430\\u0440\\u0438\\u043d\\u0435 \\u043d\\u0438\\u043a\\u043e\\u043b\\u0430\\u0435\\u0432\\u043d\\u0435 \\u0441\\u0442\\u0430\\u043b\\u043a\\u0438\\u0432\\u0430\\u043b\\u0430 \\u0440\\u0430\\u0437\\u0430 \\u043f\\u0440\\u0438\\u0448\\u043b\\u043e\\u0441\\u044c \\u043b\\u0435\\u0447\\u0438\\u0442\\u044c\\u0441\\u044f \\u043c\\u0438\\u043e\\u043c\\u0430 \\u043c\\u0430\\u0442\\u043a\\u0438 \\u0434\\u0438\\u0430\\u0433\\u043d\\u043e\\u0437 \\u043f\\u043e\\u0441\\u0442\\u0430\\u0432\\u043b\\u0435\\u043d \\u043f\\u0440\\u0430\\u0432\\u0438\\u043b\\u044c\\u043d\\u043e \\u043b\\u0435\\u0447\\u0435\\u043d\\u0438\\u0435 \\u043f\\u043e\\u043c\\u043e\\u0433\\u043b\\u043e \\u0443\\u0437\\u043d\\u0430\\u0432 \\u0431\\u0435\\u0440\\u0435\\u043c\\u0435\\u043d\\u043d\\u043e\\u0441\\u0442\\u0438 \\u0440\\u0435\\u0448\\u0438\\u043b\\u0430 \\u043a\\u043e\\u043d\\u0441\\u0443\\u043b\\u044c\\u0442\\u0430\\u0446\\u0438\\u044e \\u0431\\u0435\\u0440\\u0435\\u043c\\u0435\\u043d\\u043d\\u043e\\u0441\\u0442\\u044c \\u043f\\u0440\\u043e\\u0448\\u043b\\u0430 \\u043f\\u0440\\u043e\\u0431\\u043b\\u0435\\u043c \\u043c\\u0435\\u0441\\u044f\\u0446\\u0430 \\u0441\\u0447\\u0430\\u0441\\u0442\\u043b\\u0438\\u0432\\u0430\\u044f \\u043c\\u0430\\u043c\\u0430 \\u043c\\u0430\\u043b\\u0435\\u043d\\u044c\\u043a\\u043e\\u0433\\u043e \\u0441\\u0435\\u0440\\u0435\\u0436\\u0438 \\u0445\\u043e\\u0442\\u0435\\u043b\\u0430 \\u0430\\u0442\\u043c\\u043e\\u0441\\u0444\\u0435\\u0440\\u0430 \\u0441\\u043e\\u0437\\u0434\\u0430\\u043d\\u043d\\u0430\\u044f \\u043a\\u043e\\u043b\\u043b\\u0435\\u043a\\u0442\\u0438\\u0432\\u043e\\u043c \\u043c\\u0435\\u0434\\u0438\\u0446\\u0438\\u043d\\u0441\\u043a\\u043e\\u0433\\u043e \\u0446\\u0435\\u043d\\u0442\\u0440\\u0430 \\u0440\\u0430\\u0441\\u043f\\u043e\\u043b\\u0430\\u0433\\u0430\\u0435\\u0442 \\u0445\\u043e\\u0447\\u0435\\u0442\\u0441\\u044f \\u043e\\u0431\\u0440\\u0430\\u0449\\u0430\\u0442\\u044c\\u0441\\u044f \\u043f\\u043e\\u043c\\u043e\\u0449\\u044c\\u044e \\u0441\\u043b\\u0443\\u0447\\u0430\\u0435 \\u043d\\u0435\\u043e\\u0431\\u0445\\u043e\\u0434\\u0438\\u043c\\u043e\\u0441\\u0442\\u0438\"\n        ],\n        \"semantic_type\": \"\",\n        \"description\": \"\"\n      }\n    },\n    {\n      \"column\": \"Review len\",\n      \"properties\": {\n        \"dtype\": \"number\",\n        \"std\": 14,\n        \"min\": 0,\n        \"max\": 157,\n        \"num_unique_values\": 145,\n        \"samples\": [\n          87,\n          127\n        ],\n        \"semantic_type\": \"\",\n        \"description\": \"\"\n      }\n    }\n  ]\n}"
            }
          },
          "metadata": {},
          "execution_count": 26
        }
      ]
    },
    {
      "cell_type": "code",
      "source": [
        "def padding(review_int: list, seq_len: int) -> np.array:\n",
        "    features = np.zeros((len(reviews_int), seq_len), dtype = int)\n",
        "    for i, review in enumerate(review_int):\n",
        "        if len(review) <= seq_len:\n",
        "            zeros = list(np.zeros(seq_len - len(review)))\n",
        "            new = zeros + review\n",
        "        else:\n",
        "            new = review[: seq_len]\n",
        "        features[i, :] = np.array(new)\n",
        "\n",
        "    return features"
      ],
      "metadata": {
        "id": "mXmPIXOFyIRm"
      },
      "execution_count": 27,
      "outputs": []
    },
    {
      "cell_type": "code",
      "source": [
        "def preprocess_single_string(input_string: str, seq_len: int, vocab_to_int: dict = vocab_to_int) -> list:\n",
        "    preprocessed_string = data_preprocessing(input_string)\n",
        "    result_list = []\n",
        "    for word in preprocessed_string.split():\n",
        "        try:\n",
        "            result_list.append(vocab_to_int[word])\n",
        "        except KeyError as e:\n",
        "            print(f'{e}: not in dictionary!')\n",
        "    result_padded = padding([result_list], seq_len)[0]\n",
        "\n",
        "    return torch.tensor(result_padded)"
      ],
      "metadata": {
        "id": "jHmYDkoNyRpF"
      },
      "execution_count": 28,
      "outputs": []
    },
    {
      "cell_type": "code",
      "source": [
        "SEQ_LEN = 32\n",
        "features = padding(reviews_int, SEQ_LEN)\n",
        "print(features[3, :])"
      ],
      "metadata": {
        "id": "1L7ibnbzyWQY",
        "colab": {
          "base_uri": "https://localhost:8080/"
        },
        "outputId": "3543587c-2931-4035-9715-e420abe97ef4"
      },
      "execution_count": 29,
      "outputs": [
        {
          "output_type": "stream",
          "name": "stdout",
          "text": [
            "[159   5  63 155  23 177 242  86   2  20 159 163 431 313 363 112 253  78\n",
            "  58   6 313 429 333   5  63 105 372 282 314  63  25   7]\n"
          ]
        }
      ]
    },
    {
      "cell_type": "code",
      "source": [
        "X_train, X_valid, y_train, y_valid = train_test_split(features, df['sentiment'].to_numpy(), test_size=0.2, random_state=1)"
      ],
      "metadata": {
        "id": "8TI_809PyX6Z"
      },
      "execution_count": 30,
      "outputs": []
    },
    {
      "cell_type": "code",
      "source": [
        "train_data = TensorDataset(torch.from_numpy(X_train), torch.from_numpy(y_train))\n",
        "valid_data = TensorDataset(torch.from_numpy(X_valid), torch.from_numpy(y_valid))\n",
        "\n",
        "\n",
        "BATCH_SIZE = 4\n",
        "\n",
        "train_loader = DataLoader(train_data, shuffle=True, batch_size=BATCH_SIZE, drop_last=False)\n",
        "valid_loader = DataLoader(valid_data, shuffle=True, batch_size=BATCH_SIZE, drop_last=False)"
      ],
      "metadata": {
        "id": "KrdA5zTfyev4"
      },
      "execution_count": 31,
      "outputs": []
    },
    {
      "cell_type": "code",
      "source": [
        "VOCAB_SIZE = len(vocab_to_int)+1"
      ],
      "metadata": {
        "id": "C5-_NNWKyf3O"
      },
      "execution_count": 32,
      "outputs": []
    },
    {
      "cell_type": "code",
      "source": [
        "dataiter = iter(train_loader)\n",
        "sample_x, sample_y = next(dataiter)"
      ],
      "metadata": {
        "id": "0Zh6FWSwy9is"
      },
      "execution_count": 33,
      "outputs": []
    },
    {
      "cell_type": "code",
      "source": [
        "device = torch.device(\"cuda\" if torch.cuda.is_available() else \"cpu\")\n",
        "device"
      ],
      "metadata": {
        "id": "cGe0cknNy_2G",
        "colab": {
          "base_uri": "https://localhost:8080/"
        },
        "outputId": "167a4ecf-0bcb-4095-ab9e-084ab9383baa"
      },
      "execution_count": 34,
      "outputs": [
        {
          "output_type": "execute_result",
          "data": {
            "text/plain": [
              "device(type='cuda')"
            ]
          },
          "metadata": {},
          "execution_count": 34
        }
      ]
    },
    {
      "cell_type": "code",
      "source": [
        "@dataclass\n",
        "class ConfigRNN:\n",
        "    vocab_size: int\n",
        "    device: str\n",
        "    n_layers: int\n",
        "    embedding_dim: int\n",
        "    hidden_size: int\n",
        "    seq_len: int\n",
        "    bidirectional: Union[bool, int]"
      ],
      "metadata": {
        "id": "lAwFjQVhzDpU"
      },
      "execution_count": 93,
      "outputs": []
    },
    {
      "cell_type": "code",
      "source": [
        "net_config = ConfigRNN(\n",
        "    vocab_size=len(vocab_to_int) + 1,\n",
        "    device='cuda',\n",
        "    n_layers=2,\n",
        "    embedding_dim=16,\n",
        "    hidden_size=32,\n",
        "    seq_len=SEQ_LEN,\n",
        "    bidirectional=True,\n",
        ")\n",
        "net_config"
      ],
      "metadata": {
        "id": "X8HjZQaKzEjI",
        "colab": {
          "base_uri": "https://localhost:8080/"
        },
        "outputId": "04a049e1-d2ee-46ef-c429-6ce733cc760e"
      },
      "execution_count": 94,
      "outputs": [
        {
          "output_type": "execute_result",
          "data": {
            "text/plain": [
              "ConfigRNN(vocab_size=516, device='cuda', n_layers=2, embedding_dim=16, hidden_size=32, seq_len=32, bidirectional=True)"
            ]
          },
          "metadata": {},
          "execution_count": 94
        }
      ]
    },
    {
      "cell_type": "code",
      "source": [
        "class LSTMClassifier(nn.Module):\n",
        "    def __init__(self, rnn_conf=net_config) -> None:\n",
        "        super().__init__()\n",
        "\n",
        "        self.embedding_dim = rnn_conf.embedding_dim\n",
        "        self.hidden_size = rnn_conf.hidden_size\n",
        "        self.bidirectional = rnn_conf.bidirectional\n",
        "        self.n_layers = rnn_conf.n_layers\n",
        "\n",
        "        self.embedding = nn.Embedding(rnn_conf.vocab_size, self.embedding_dim)\n",
        "        self.lstm = nn.LSTM(\n",
        "            input_size=self.embedding_dim,\n",
        "            hidden_size=self.hidden_size,\n",
        "            bidirectional=self.bidirectional,\n",
        "            batch_first=True,\n",
        "            num_layers=self.n_layers,\n",
        "        )\n",
        "        self.bidirect_factor = 2 if self.bidirectional else 1\n",
        "        self.clf = nn.Sequential(\n",
        "            nn.Linear(self.hidden_size * self.bidirect_factor, 32),\n",
        "            nn.Tanh(),\n",
        "            nn.Dropout(),\n",
        "            nn.Linear(32, 1)\n",
        "        )\n",
        "\n",
        "    def model_description(self):\n",
        "        direction = \"bidirect\" if self.bidirectional else \"onedirect\"\n",
        "        return f\"lstm_{direction}_{self.n_layers}\"\n",
        "\n",
        "    def forward(self, x: torch.Tensor):\n",
        "        embeddings = self.embedding(x)\n",
        "        out, _ = self.lstm(embeddings)\n",
        "        out = out[:, -1, :]\n",
        "        out = self.clf(out)\n",
        "        return out\n",
        "\n",
        "\n",
        "model_lstm = LSTMClassifier(net_config)\n",
        "tu.get_model_summary(model_lstm, sample_x)"
      ],
      "metadata": {
        "id": "8QqsBxo3zOBH",
        "colab": {
          "base_uri": "https://localhost:8080/"
        },
        "outputId": "b0596f51-f6a8-4060-d974-fc5a8b4b8eea"
      },
      "execution_count": 95,
      "outputs": [
        {
          "output_type": "stream",
          "name": "stdout",
          "text": [
            "===============================================================\n",
            "Layer              Kernel       Output      Params        FLOPs\n",
            "===============================================================\n",
            "0_embedding       [16, 516]   [4, 32, 16]    8,256          128\n",
            "1_lstm                    -   [4, 32, 64]   37,888   27,164,672\n",
            "2_clf.Linear_0     [64, 32]       [4, 32]    2,080       16,256\n",
            "3_clf.Tanh_1              -       [4, 32]        0          640\n",
            "4_clf.Dropout_2           -       [4, 32]        0            0\n",
            "5_clf.Linear_3      [32, 1]        [4, 1]       33          252\n",
            "===============================================================\n",
            "Total params: 48,257\n",
            "Trainable params: 48,257\n",
            "Non-trainable params: 0\n",
            "Total FLOPs: 27,181,948 / 27.18 MFLOPs\n",
            "---------------------------------------------------------------\n",
            "Input size (MB): 0.00\n",
            "Forward/backward pass size (MB): 0.08\n",
            "Params size (MB): 0.18\n",
            "Estimated Total Size (MB): 0.27\n",
            "===============================================================\n"
          ]
        }
      ]
    },
    {
      "cell_type": "code",
      "source": [
        "device = torch.device(\"cuda\" if torch.cuda.is_available() else \"cpu\")\n",
        "model_lstm.to(device)"
      ],
      "metadata": {
        "colab": {
          "base_uri": "https://localhost:8080/"
        },
        "collapsed": true,
        "id": "7ZHS9T97IuFH",
        "outputId": "40c71065-47b4-4722-bcf2-4d94a4fb4437"
      },
      "execution_count": 106,
      "outputs": [
        {
          "output_type": "execute_result",
          "data": {
            "text/plain": [
              "LSTMClassifier(\n",
              "  (embedding): Embedding(516, 16)\n",
              "  (lstm): LSTM(16, 32, num_layers=2, batch_first=True, bidirectional=True)\n",
              "  (clf): Sequential(\n",
              "    (0): Linear(in_features=64, out_features=32, bias=True)\n",
              "    (1): Tanh()\n",
              "    (2): Dropout(p=0.5, inplace=False)\n",
              "    (3): Linear(in_features=32, out_features=1, bias=True)\n",
              "  )\n",
              ")"
            ]
          },
          "metadata": {},
          "execution_count": 106
        }
      ]
    },
    {
      "cell_type": "code",
      "source": [
        "optimizer_lstm = torch.optim.Adam(model_lstm.parameters(), lr=0.0001)\n",
        "criterion = nn.BCEWithLogitsLoss()\n",
        "metric = BinaryAccuracy()"
      ],
      "metadata": {
        "id": "s8A6Hxl8zOlT"
      },
      "execution_count": 96,
      "outputs": []
    },
    {
      "cell_type": "code",
      "source": [
        "def train(\n",
        "        epochs: int,\n",
        "        model: torch.nn.Module,\n",
        "        train_loader: DataLoader,\n",
        "        valid_loader: DataLoader,\n",
        "        optimizer: torch.optim.Optimizer,\n",
        "        criterion,\n",
        "        rnn_conf=None\n",
        "        ) -> tuple:\n",
        "\n",
        "    epoch_train_losses = []\n",
        "    epoch_valid_losses = []\n",
        "    epoch_train_f1 = []\n",
        "    epoch_valid_f1 = []\n",
        "    time_start = time.time()\n",
        "\n",
        "    for epoch in range(epochs):\n",
        "        batch_losses = []\n",
        "        all_preds = []\n",
        "        all_labels = []\n",
        "\n",
        "        model.train()\n",
        "        model.to(device)\n",
        "\n",
        "        for inputs, labels in train_loader:\n",
        "            inputs, labels = inputs.to(device), labels.to(device)\n",
        "\n",
        "            output = model(inputs).squeeze(-1)\n",
        "            loss = criterion(output, labels.float())\n",
        "\n",
        "            optimizer.zero_grad()\n",
        "            loss.backward()\n",
        "            optimizer.step()\n",
        "\n",
        "            batch_losses.append(loss.item())\n",
        "\n",
        "            preds = torch.round(torch.sigmoid(output))\n",
        "            all_preds.extend(preds.detach().cpu().numpy())\n",
        "            all_labels.extend(labels.cpu().numpy())\n",
        "\n",
        "        train_f1 = sklearn.metrics.f1_score(all_labels, all_preds, average='macro')\n",
        "        epoch_train_losses.append(np.mean(batch_losses))\n",
        "        epoch_train_f1.append(train_f1)\n",
        "\n",
        "        batch_losses = []\n",
        "        all_preds = []\n",
        "        all_labels = []\n",
        "\n",
        "        model.eval()\n",
        "        model.to(device)\n",
        "\n",
        "        for inputs, labels in valid_loader:\n",
        "            inputs, labels = inputs.to(device), labels.to(device)\n",
        "\n",
        "            with torch.no_grad():\n",
        "                output = model(inputs).squeeze(-1)\n",
        "\n",
        "            loss = criterion(output, labels.float())\n",
        "            batch_losses.append(loss.item())\n",
        "\n",
        "            preds = torch.round(torch.sigmoid(output))\n",
        "            all_preds.extend(preds.detach().cpu().numpy())\n",
        "            all_labels.extend(labels.cpu().numpy())\n",
        "\n",
        "        valid_f1 = sklearn.metrics.f1_score(all_labels, all_preds, average='macro')\n",
        "        epoch_valid_losses.append(np.mean(batch_losses))\n",
        "        epoch_valid_f1.append(valid_f1)\n",
        "\n",
        "        print(f'Epoch {epoch+1}')\n",
        "        print(f'Train Loss: {epoch_train_losses[-1]:.4f}, Train F1-Macro: {epoch_train_f1[-1]:.4f}')\n",
        "        print(f'Valid Loss: {epoch_valid_losses[-1]:.4f}, Valid F1-Macro: {epoch_valid_f1[-1]:.4f}')\n",
        "        print(25 * '==')\n",
        "\n",
        "    training_time = time.time() - time_start\n",
        "    return (epoch_train_losses, epoch_valid_losses, epoch_train_f1, epoch_valid_f1, training_time)"
      ],
      "metadata": {
        "id": "6wqQ_Kcvzcrp"
      },
      "execution_count": 97,
      "outputs": []
    },
    {
      "cell_type": "code",
      "source": [
        "train_losses_lstm, val_losses_lstm, train_f1_lstm, val_f1_lstm, lstm_time = train(\n",
        "    epochs=10,\n",
        "    model=model_lstm.to(device),\n",
        "    train_loader=train_loader,\n",
        "    valid_loader=valid_loader,\n",
        "    optimizer=optimizer_lstm,\n",
        "    criterion=criterion,\n",
        "    rnn_conf=net_config,\n",
        ")"
      ],
      "metadata": {
        "id": "q7B5uKnKzdK5",
        "colab": {
          "base_uri": "https://localhost:8080/"
        },
        "outputId": "88e5ce98-774c-438c-e440-84331b15008e"
      },
      "execution_count": 98,
      "outputs": [
        {
          "output_type": "stream",
          "name": "stdout",
          "text": [
            "Epoch 1\n",
            "Train Loss: 0.5073, Train F1-Macro: 0.7233\n",
            "Valid Loss: 0.3863, Valid F1-Macro: 0.8227\n",
            "==================================================\n",
            "Epoch 2\n",
            "Train Loss: 0.3593, Train F1-Macro: 0.8345\n",
            "Valid Loss: 0.3443, Valid F1-Macro: 0.8442\n",
            "==================================================\n",
            "Epoch 3\n",
            "Train Loss: 0.3233, Train F1-Macro: 0.8562\n",
            "Valid Loss: 0.3143, Valid F1-Macro: 0.8607\n",
            "==================================================\n",
            "Epoch 4\n",
            "Train Loss: 0.3056, Train F1-Macro: 0.8654\n",
            "Valid Loss: 0.3086, Valid F1-Macro: 0.8636\n",
            "==================================================\n",
            "Epoch 5\n",
            "Train Loss: 0.2942, Train F1-Macro: 0.8729\n",
            "Valid Loss: 0.2960, Valid F1-Macro: 0.8718\n",
            "==================================================\n",
            "Epoch 6\n",
            "Train Loss: 0.2873, Train F1-Macro: 0.8760\n",
            "Valid Loss: 0.2940, Valid F1-Macro: 0.8740\n",
            "==================================================\n",
            "Epoch 7\n",
            "Train Loss: 0.2827, Train F1-Macro: 0.8773\n",
            "Valid Loss: 0.2925, Valid F1-Macro: 0.8738\n",
            "==================================================\n",
            "Epoch 8\n",
            "Train Loss: 0.2787, Train F1-Macro: 0.8798\n",
            "Valid Loss: 0.2859, Valid F1-Macro: 0.8766\n",
            "==================================================\n",
            "Epoch 9\n",
            "Train Loss: 0.2750, Train F1-Macro: 0.8823\n",
            "Valid Loss: 0.2873, Valid F1-Macro: 0.8734\n",
            "==================================================\n",
            "Epoch 10\n",
            "Train Loss: 0.2715, Train F1-Macro: 0.8830\n",
            "Valid Loss: 0.2845, Valid F1-Macro: 0.8760\n",
            "==================================================\n"
          ]
        }
      ]
    },
    {
      "cell_type": "code",
      "source": [
        "lstm_time"
      ],
      "metadata": {
        "id": "8VNH5_L6zhSc",
        "colab": {
          "base_uri": "https://localhost:8080/"
        },
        "outputId": "3a7cab84-e327-47c1-949b-cedb6ba349c3"
      },
      "execution_count": 99,
      "outputs": [
        {
          "output_type": "execute_result",
          "data": {
            "text/plain": [
              "514.5222752094269"
            ]
          },
          "metadata": {},
          "execution_count": 99
        }
      ]
    },
    {
      "cell_type": "code",
      "source": [
        "def predict_sentence(text: str, model: nn.Module, seq_len: int, vocab_to_int: dict, device: str = 'cuda') -> str:\n",
        "    input_tensor = preprocess_single_string(text, seq_len, vocab_to_int).unsqueeze(0).to(device)\n",
        "    model.eval()\n",
        "    with torch.no_grad():\n",
        "        output = model(input_tensor)\n",
        "\n",
        "    prediction = torch.sigmoid(output).item()\n",
        "\n",
        "    result = \"positive\" if prediction >= 0.5 else \"negative\"\n",
        "\n",
        "    return result"
      ],
      "metadata": {
        "id": "YXqrIftIz0pe"
      },
      "execution_count": 119,
      "outputs": []
    },
    {
      "cell_type": "code",
      "source": [
        "result = predict_sentence(\"Очень хорошая поликлиника, мне все понравилось!\", model_lstm, SEQ_LEN, vocab_to_int)\n",
        "print(result)"
      ],
      "metadata": {
        "id": "pyLIqyJTz16w",
        "colab": {
          "base_uri": "https://localhost:8080/"
        },
        "outputId": "9c62d676-0678-4d49-8013-d15f93d58904"
      },
      "execution_count": 121,
      "outputs": [
        {
          "output_type": "stream",
          "name": "stdout",
          "text": [
            "positive\n"
          ]
        }
      ]
    },
    {
      "cell_type": "code",
      "source": [
        "torch.save(model_lstm.state_dict(), 'lstm_model_weights.pth')"
      ],
      "metadata": {
        "id": "4o-HEX3756Cn"
      },
      "execution_count": 118,
      "outputs": []
    },
    {
      "cell_type": "code",
      "source": [
        "with open('vocab_to_int.json', 'w') as f:\n",
        "    json.dump(vocab_to_int, f)"
      ],
      "metadata": {
        "id": "b2qZtpxcID31"
      },
      "execution_count": 122,
      "outputs": []
    },
    {
      "cell_type": "code",
      "source": [
        "import pickle"
      ],
      "metadata": {
        "id": "10X5XBr-IIyG"
      },
      "execution_count": 123,
      "outputs": []
    },
    {
      "cell_type": "code",
      "source": [
        "with open('lstm_model_config.pkl', 'wb') as f:\n",
        "    pickle.dump(net_config, f)"
      ],
      "metadata": {
        "id": "266A4vIpIIWj"
      },
      "execution_count": 124,
      "outputs": []
    },
    {
      "cell_type": "code",
      "source": [],
      "metadata": {
        "id": "ghgzEeuWJdV8"
      },
      "execution_count": null,
      "outputs": []
    }
  ]
}