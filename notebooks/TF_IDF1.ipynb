{
  "nbformat": 4,
  "nbformat_minor": 0,
  "metadata": {
    "colab": {
      "provenance": [],
      "gpuType": "T4"
    },
    "kernelspec": {
      "name": "python3",
      "display_name": "Python 3"
    },
    "language_info": {
      "name": "python"
    },
    "accelerator": "GPU"
  },
  "cells": [
    {
      "cell_type": "code",
      "source": [
        "!pip install pymorphy3"
      ],
      "metadata": {
        "colab": {
          "base_uri": "https://localhost:8080/"
        },
        "collapsed": true,
        "id": "9jyek0WsXcSi",
        "outputId": "cfab1f2f-084b-49c0-9513-69f23bb2d485"
      },
      "execution_count": 1,
      "outputs": [
        {
          "output_type": "stream",
          "name": "stdout",
          "text": [
            "Requirement already satisfied: pymorphy3 in /usr/local/lib/python3.10/dist-packages (2.0.2)\n",
            "Requirement already satisfied: dawg-python>=0.7.1 in /usr/local/lib/python3.10/dist-packages (from pymorphy3) (0.7.2)\n",
            "Requirement already satisfied: pymorphy3-dicts-ru in /usr/local/lib/python3.10/dist-packages (from pymorphy3) (2.4.417150.4580142)\n"
          ]
        }
      ]
    },
    {
      "cell_type": "code",
      "execution_count": 2,
      "metadata": {
        "id": "PoVHKPdyOkFf"
      },
      "outputs": [],
      "source": [
        "import numpy as np\n",
        "import pandas as pd\n",
        "import re\n",
        "import string\n",
        "from collections import defaultdict\n",
        "from sklearn import metrics\n",
        "from time import time\n",
        "from nltk.corpus import stopwords\n",
        "from nltk.stem import WordNetLemmatizer\n",
        "from nltk.tokenize import RegexpTokenizer\n",
        "from sklearn.feature_extraction.text import TfidfVectorizer\n",
        "from sklearn.cluster import KMeans\n",
        "from sklearn.datasets import fetch_20newsgroups\n",
        "from sklearn.decomposition import TruncatedSVD\n",
        "from sklearn.pipeline import make_pipeline, Pipeline\n",
        "from sklearn.preprocessing import Normalizer\n",
        "\n",
        "import sklearn\n",
        "sklearn.set_config(transform_output='pandas')"
      ]
    },
    {
      "cell_type": "code",
      "source": [
        "import json\n",
        "\n",
        "data = []\n",
        "with open('healthcare_facilities_reviews.jsonl', 'r') as file:\n",
        "    for line in file:\n",
        "        data.append(json.loads(line))\n",
        "\n",
        "df = pd.DataFrame(data)\n",
        "df = df[['content', 'sentiment']]\n",
        "df.head()"
      ],
      "metadata": {
        "colab": {
          "base_uri": "https://localhost:8080/",
          "height": 206
        },
        "id": "bh-mM1LOP4y-",
        "outputId": "410ef3b7-27e7-472b-a19e-bfb9bc713123"
      },
      "execution_count": 3,
      "outputs": [
        {
          "output_type": "execute_result",
          "data": {
            "text/plain": [
              "                                             content sentiment\n",
              "0  Огромное спасибо за чудесное удаление двух зуб...  positive\n",
              "1  Хочу выразить особую благодарность замечательн...  positive\n",
              "2  Добрый вечер! Хотелось бы поблагодарить сотруд...  positive\n",
              "3  Женщины советского образца в регистратуре не и...  negative\n",
              "4  У меня с детства очень плохие зубы (тонкая и х...  positive"
            ],
            "text/html": [
              "\n",
              "  <div id=\"df-d776315c-2b2e-4c70-a5d7-4d918207a417\" class=\"colab-df-container\">\n",
              "    <div>\n",
              "<style scoped>\n",
              "    .dataframe tbody tr th:only-of-type {\n",
              "        vertical-align: middle;\n",
              "    }\n",
              "\n",
              "    .dataframe tbody tr th {\n",
              "        vertical-align: top;\n",
              "    }\n",
              "\n",
              "    .dataframe thead th {\n",
              "        text-align: right;\n",
              "    }\n",
              "</style>\n",
              "<table border=\"1\" class=\"dataframe\">\n",
              "  <thead>\n",
              "    <tr style=\"text-align: right;\">\n",
              "      <th></th>\n",
              "      <th>content</th>\n",
              "      <th>sentiment</th>\n",
              "    </tr>\n",
              "  </thead>\n",
              "  <tbody>\n",
              "    <tr>\n",
              "      <th>0</th>\n",
              "      <td>Огромное спасибо за чудесное удаление двух зуб...</td>\n",
              "      <td>positive</td>\n",
              "    </tr>\n",
              "    <tr>\n",
              "      <th>1</th>\n",
              "      <td>Хочу выразить особую благодарность замечательн...</td>\n",
              "      <td>positive</td>\n",
              "    </tr>\n",
              "    <tr>\n",
              "      <th>2</th>\n",
              "      <td>Добрый вечер! Хотелось бы поблагодарить сотруд...</td>\n",
              "      <td>positive</td>\n",
              "    </tr>\n",
              "    <tr>\n",
              "      <th>3</th>\n",
              "      <td>Женщины советского образца в регистратуре не и...</td>\n",
              "      <td>negative</td>\n",
              "    </tr>\n",
              "    <tr>\n",
              "      <th>4</th>\n",
              "      <td>У меня с детства очень плохие зубы (тонкая и х...</td>\n",
              "      <td>positive</td>\n",
              "    </tr>\n",
              "  </tbody>\n",
              "</table>\n",
              "</div>\n",
              "    <div class=\"colab-df-buttons\">\n",
              "\n",
              "  <div class=\"colab-df-container\">\n",
              "    <button class=\"colab-df-convert\" onclick=\"convertToInteractive('df-d776315c-2b2e-4c70-a5d7-4d918207a417')\"\n",
              "            title=\"Convert this dataframe to an interactive table.\"\n",
              "            style=\"display:none;\">\n",
              "\n",
              "  <svg xmlns=\"http://www.w3.org/2000/svg\" height=\"24px\" viewBox=\"0 -960 960 960\">\n",
              "    <path d=\"M120-120v-720h720v720H120Zm60-500h600v-160H180v160Zm220 220h160v-160H400v160Zm0 220h160v-160H400v160ZM180-400h160v-160H180v160Zm440 0h160v-160H620v160ZM180-180h160v-160H180v160Zm440 0h160v-160H620v160Z\"/>\n",
              "  </svg>\n",
              "    </button>\n",
              "\n",
              "  <style>\n",
              "    .colab-df-container {\n",
              "      display:flex;\n",
              "      gap: 12px;\n",
              "    }\n",
              "\n",
              "    .colab-df-convert {\n",
              "      background-color: #E8F0FE;\n",
              "      border: none;\n",
              "      border-radius: 50%;\n",
              "      cursor: pointer;\n",
              "      display: none;\n",
              "      fill: #1967D2;\n",
              "      height: 32px;\n",
              "      padding: 0 0 0 0;\n",
              "      width: 32px;\n",
              "    }\n",
              "\n",
              "    .colab-df-convert:hover {\n",
              "      background-color: #E2EBFA;\n",
              "      box-shadow: 0px 1px 2px rgba(60, 64, 67, 0.3), 0px 1px 3px 1px rgba(60, 64, 67, 0.15);\n",
              "      fill: #174EA6;\n",
              "    }\n",
              "\n",
              "    .colab-df-buttons div {\n",
              "      margin-bottom: 4px;\n",
              "    }\n",
              "\n",
              "    [theme=dark] .colab-df-convert {\n",
              "      background-color: #3B4455;\n",
              "      fill: #D2E3FC;\n",
              "    }\n",
              "\n",
              "    [theme=dark] .colab-df-convert:hover {\n",
              "      background-color: #434B5C;\n",
              "      box-shadow: 0px 1px 3px 1px rgba(0, 0, 0, 0.15);\n",
              "      filter: drop-shadow(0px 1px 2px rgba(0, 0, 0, 0.3));\n",
              "      fill: #FFFFFF;\n",
              "    }\n",
              "  </style>\n",
              "\n",
              "    <script>\n",
              "      const buttonEl =\n",
              "        document.querySelector('#df-d776315c-2b2e-4c70-a5d7-4d918207a417 button.colab-df-convert');\n",
              "      buttonEl.style.display =\n",
              "        google.colab.kernel.accessAllowed ? 'block' : 'none';\n",
              "\n",
              "      async function convertToInteractive(key) {\n",
              "        const element = document.querySelector('#df-d776315c-2b2e-4c70-a5d7-4d918207a417');\n",
              "        const dataTable =\n",
              "          await google.colab.kernel.invokeFunction('convertToInteractive',\n",
              "                                                    [key], {});\n",
              "        if (!dataTable) return;\n",
              "\n",
              "        const docLinkHtml = 'Like what you see? Visit the ' +\n",
              "          '<a target=\"_blank\" href=https://colab.research.google.com/notebooks/data_table.ipynb>data table notebook</a>'\n",
              "          + ' to learn more about interactive tables.';\n",
              "        element.innerHTML = '';\n",
              "        dataTable['output_type'] = 'display_data';\n",
              "        await google.colab.output.renderOutput(dataTable, element);\n",
              "        const docLink = document.createElement('div');\n",
              "        docLink.innerHTML = docLinkHtml;\n",
              "        element.appendChild(docLink);\n",
              "      }\n",
              "    </script>\n",
              "  </div>\n",
              "\n",
              "\n",
              "<div id=\"df-879cf8ee-3487-44c3-9372-01ee56065ac1\">\n",
              "  <button class=\"colab-df-quickchart\" onclick=\"quickchart('df-879cf8ee-3487-44c3-9372-01ee56065ac1')\"\n",
              "            title=\"Suggest charts\"\n",
              "            style=\"display:none;\">\n",
              "\n",
              "<svg xmlns=\"http://www.w3.org/2000/svg\" height=\"24px\"viewBox=\"0 0 24 24\"\n",
              "     width=\"24px\">\n",
              "    <g>\n",
              "        <path d=\"M19 3H5c-1.1 0-2 .9-2 2v14c0 1.1.9 2 2 2h14c1.1 0 2-.9 2-2V5c0-1.1-.9-2-2-2zM9 17H7v-7h2v7zm4 0h-2V7h2v10zm4 0h-2v-4h2v4z\"/>\n",
              "    </g>\n",
              "</svg>\n",
              "  </button>\n",
              "\n",
              "<style>\n",
              "  .colab-df-quickchart {\n",
              "      --bg-color: #E8F0FE;\n",
              "      --fill-color: #1967D2;\n",
              "      --hover-bg-color: #E2EBFA;\n",
              "      --hover-fill-color: #174EA6;\n",
              "      --disabled-fill-color: #AAA;\n",
              "      --disabled-bg-color: #DDD;\n",
              "  }\n",
              "\n",
              "  [theme=dark] .colab-df-quickchart {\n",
              "      --bg-color: #3B4455;\n",
              "      --fill-color: #D2E3FC;\n",
              "      --hover-bg-color: #434B5C;\n",
              "      --hover-fill-color: #FFFFFF;\n",
              "      --disabled-bg-color: #3B4455;\n",
              "      --disabled-fill-color: #666;\n",
              "  }\n",
              "\n",
              "  .colab-df-quickchart {\n",
              "    background-color: var(--bg-color);\n",
              "    border: none;\n",
              "    border-radius: 50%;\n",
              "    cursor: pointer;\n",
              "    display: none;\n",
              "    fill: var(--fill-color);\n",
              "    height: 32px;\n",
              "    padding: 0;\n",
              "    width: 32px;\n",
              "  }\n",
              "\n",
              "  .colab-df-quickchart:hover {\n",
              "    background-color: var(--hover-bg-color);\n",
              "    box-shadow: 0 1px 2px rgba(60, 64, 67, 0.3), 0 1px 3px 1px rgba(60, 64, 67, 0.15);\n",
              "    fill: var(--button-hover-fill-color);\n",
              "  }\n",
              "\n",
              "  .colab-df-quickchart-complete:disabled,\n",
              "  .colab-df-quickchart-complete:disabled:hover {\n",
              "    background-color: var(--disabled-bg-color);\n",
              "    fill: var(--disabled-fill-color);\n",
              "    box-shadow: none;\n",
              "  }\n",
              "\n",
              "  .colab-df-spinner {\n",
              "    border: 2px solid var(--fill-color);\n",
              "    border-color: transparent;\n",
              "    border-bottom-color: var(--fill-color);\n",
              "    animation:\n",
              "      spin 1s steps(1) infinite;\n",
              "  }\n",
              "\n",
              "  @keyframes spin {\n",
              "    0% {\n",
              "      border-color: transparent;\n",
              "      border-bottom-color: var(--fill-color);\n",
              "      border-left-color: var(--fill-color);\n",
              "    }\n",
              "    20% {\n",
              "      border-color: transparent;\n",
              "      border-left-color: var(--fill-color);\n",
              "      border-top-color: var(--fill-color);\n",
              "    }\n",
              "    30% {\n",
              "      border-color: transparent;\n",
              "      border-left-color: var(--fill-color);\n",
              "      border-top-color: var(--fill-color);\n",
              "      border-right-color: var(--fill-color);\n",
              "    }\n",
              "    40% {\n",
              "      border-color: transparent;\n",
              "      border-right-color: var(--fill-color);\n",
              "      border-top-color: var(--fill-color);\n",
              "    }\n",
              "    60% {\n",
              "      border-color: transparent;\n",
              "      border-right-color: var(--fill-color);\n",
              "    }\n",
              "    80% {\n",
              "      border-color: transparent;\n",
              "      border-right-color: var(--fill-color);\n",
              "      border-bottom-color: var(--fill-color);\n",
              "    }\n",
              "    90% {\n",
              "      border-color: transparent;\n",
              "      border-bottom-color: var(--fill-color);\n",
              "    }\n",
              "  }\n",
              "</style>\n",
              "\n",
              "  <script>\n",
              "    async function quickchart(key) {\n",
              "      const quickchartButtonEl =\n",
              "        document.querySelector('#' + key + ' button');\n",
              "      quickchartButtonEl.disabled = true;  // To prevent multiple clicks.\n",
              "      quickchartButtonEl.classList.add('colab-df-spinner');\n",
              "      try {\n",
              "        const charts = await google.colab.kernel.invokeFunction(\n",
              "            'suggestCharts', [key], {});\n",
              "      } catch (error) {\n",
              "        console.error('Error during call to suggestCharts:', error);\n",
              "      }\n",
              "      quickchartButtonEl.classList.remove('colab-df-spinner');\n",
              "      quickchartButtonEl.classList.add('colab-df-quickchart-complete');\n",
              "    }\n",
              "    (() => {\n",
              "      let quickchartButtonEl =\n",
              "        document.querySelector('#df-879cf8ee-3487-44c3-9372-01ee56065ac1 button');\n",
              "      quickchartButtonEl.style.display =\n",
              "        google.colab.kernel.accessAllowed ? 'block' : 'none';\n",
              "    })();\n",
              "  </script>\n",
              "</div>\n",
              "\n",
              "    </div>\n",
              "  </div>\n"
            ],
            "application/vnd.google.colaboratory.intrinsic+json": {
              "type": "dataframe",
              "variable_name": "df",
              "summary": "{\n  \"name\": \"df\",\n  \"rows\": 70597,\n  \"fields\": [\n    {\n      \"column\": \"content\",\n      \"properties\": {\n        \"dtype\": \"string\",\n        \"num_unique_values\": 70388,\n        \"samples\": [\n          \"\\u0425\\u043e\\u0447\\u0443 \\u0432\\u044b\\u0440\\u0430\\u0437\\u0438\\u0442\\u044c \\u0441\\u0435\\u0440\\u0434\\u0435\\u0447\\u043d\\u0443\\u044e \\u0431\\u043b\\u0430\\u0433\\u043e\\u0434\\u0430\\u0440\\u043d\\u043e\\u0441\\u0442\\u044c \\u043a\\u043e\\u043b\\u043b\\u0435\\u043a\\u0442\\u0438\\u0432\\u0443 \\u0433\\u0438\\u043d\\u0435\\u043a\\u043e\\u043b\\u043e\\u0433\\u0438\\u0447\\u0435\\u0441\\u043a\\u043e\\u0433\\u043e \\u043e\\u0442\\u0434\\u0435\\u043b\\u0435\\u043d\\u0438\\u044f \\u0424\\u0413\\u0411\\u0423 \\u0413\\u041d\\u0426 \\u0424\\u041c\\u0411\\u0426 \\u0438\\u043c \\u0410. \\u0418. \\u0411\\u0443\\u0440\\u043d\\u0430\\u0437\\u044f\\u043d\\u0430 \\u0424\\u041c\\u0411\\u0410 \\u0437\\u0430 \\u0447\\u0443\\u0442\\u043a\\u043e\\u0441\\u0442\\u044c, \\u043f\\u043e\\u043d\\u0438\\u043c\\u0430\\u043d\\u0438\\u0435, \\u0442\\u0430\\u043a\\u0442 \\u0438 \\u0432\\u044b\\u0441\\u043e\\u043a\\u0438\\u0439 \\u043f\\u0440\\u043e\\u0444\\u0435\\u0441\\u0441\\u0438\\u043e\\u043d\\u0430\\u043b\\u0438\\u0437\\u043c. \\u0412 \\u043e\\u0442\\u0434\\u0435\\u043b\\u0435\\u043d\\u0438\\u0438, \\u0440\\u0443\\u043a\\u043e\\u0432\\u043e\\u0434\\u0438\\u043c\\u044b\\u043c \\u0411\\u0443\\u0448\\u043a\\u043e\\u0432\\u043e\\u0439 \\u041e\\u043b\\u044c\\u0433\\u043e\\u0439 \\u041d\\u0438\\u043a\\u043e\\u043b\\u0430\\u0435\\u0432\\u043d\\u043e\\u0439, \\u0440\\u0430\\u0431\\u043e\\u0442\\u0430\\u0435\\u0442 \\u043a\\u043e\\u043b\\u043b\\u0435\\u043a\\u0442\\u0438\\u0432 \\u0432\\u044b\\u0441\\u043e\\u043a\\u043e\\u0433\\u043e \\u043f\\u0440\\u043e\\u0444\\u0435\\u0441\\u0441\\u0438\\u043e\\u043d\\u0430\\u043b\\u044c\\u043d\\u043e\\u0433\\u043e \\u043c\\u0430\\u0441\\u0442\\u0435\\u0440\\u0441\\u0442\\u0432\\u0430, \\u0431\\u043e\\u043b\\u044c\\u0448\\u043e\\u0433\\u043e \\u0447\\u0443\\u0432\\u0441\\u0442\\u0432\\u0430 \\u043e\\u0442\\u0432\\u0435\\u0442\\u0441\\u0442\\u0432\\u0435\\u043d\\u043d\\u043e\\u0441\\u0442\\u0438, \\u043d\\u0430\\u0434\\u0435\\u043b\\u0435\\u043d\\u043d\\u044b\\u0439 \\u0441\\u0435\\u0440\\u0434\\u0435\\u0447\\u043d\\u043e\\u0441\\u0442\\u044c\\u044e \\u0438 \\u0434\\u0443\\u0448\\u0435\\u0432\\u043d\\u043e\\u0439 \\u0442\\u0435\\u043f\\u043b\\u043e\\u0442\\u043e\\u0439 \\u043a \\u043a\\u0430\\u0436\\u0434\\u043e\\u043c\\u0443 \\u0431\\u043e\\u043b\\u044c\\u043d\\u043e\\u043c\\u0443. \\u0412\\u043d\\u0438\\u043c\\u0430\\u0442\\u0435\\u043b\\u044c\\u043d\\u043e\\u0435, \\u0434\\u043e\\u0431\\u0440\\u043e\\u0436\\u0435\\u043b\\u0430\\u0442\\u0435\\u043b\\u044c\\u043d\\u043e\\u0435 \\u043e\\u0442\\u043d\\u043e\\u0448\\u0435\\u043d\\u0438\\u0435 \\u043a \\u043f\\u0430\\u0446\\u0438\\u0435\\u043d\\u0442\\u0430\\u043c, \\u0443\\u043c\\u0435\\u043d\\u0438\\u0435 \\u0432\\u0441\\u0435\\u043b\\u0438\\u0442\\u044c \\u0443\\u0432\\u0435\\u0440\\u0435\\u043d\\u043d\\u043e\\u0441\\u0442\\u044c \\u0432 \\u0431\\u0443\\u0434\\u0443\\u0449\\u0435\\u0435, \\u043d\\u0430\\u0434\\u0435\\u0436\\u0434\\u0443 \\u043d\\u0430 \\u0441\\u043a\\u043e\\u0440\\u043e\\u0435 \\u0432\\u044b\\u0437\\u0434\\u043e\\u0440\\u043e\\u0432\\u043b\\u0435\\u043d\\u0438\\u0435, \\u043e\\u0442\\u043b\\u0438\\u0447\\u0438\\u0442\\u0435\\u043b\\u044c\\u043d\\u0430\\u044f \\u0447\\u0435\\u0440\\u0442\\u0430 \\u0432\\u0441\\u0435\\u0445 \\u0441\\u043e\\u0442\\u0440\\u0443\\u0434\\u043d\\u0438\\u043a\\u043e\\u0432 \\u044d\\u0442\\u043e\\u0433\\u043e \\u043e\\u0442\\u0434\\u0435\\u043b\\u0435\\u043d\\u0438\\u044f. \\u0420\\u0443\\u0441\\u0430\\u043a\\u043e\\u0432\\u0430 \\u041b. \\u041d.\",\n          \"\\u041f\\u0440\\u043e\\u043f\\u0438\\u0441\\u0430\\u043d\\u044b \\u0432 \\u041a\\u0440\\u0430\\u0441\\u043d\\u043e\\u0437\\u043d\\u0430\\u043c\\u0435\\u043d\\u0441\\u043a\\u0435, \\u0436\\u0438\\u0432\\u0435\\u043c \\u0432 \\u0413\\u043e\\u0440\\u043a\\u0430\\u0445. \\u0420\\u0435\\u0448\\u0438\\u043b\\u0438 5 \\u043c\\u0435\\u0441. \\u0440\\u0435\\u0431\\u0435\\u043d\\u043a\\u0430 \\u043f\\u0440\\u0438\\u043a\\u0440\\u0435\\u043f\\u0438\\u0442\\u044c \\u0432 \\u0413\\u043e\\u0440\\u043a\\u0430\\u0445, \\u0447\\u0442\\u043e\\u0431 \\u043c\\u0435\\u043d\\u044c\\u0448\\u0435 \\u0435\\u0437\\u0434\\u0438\\u0442\\u044c, \\u0430 \\u043f\\u043e\\u043b\\u0443\\u0447\\u0430\\u0435\\u0442\\u0441\\u044f \\u0432\\u0441\\u0435 \\u0440\\u0430\\u0432\\u043d\\u043e \\u0435\\u0437\\u0434\\u0438\\u0442\\u044c \\u043d\\u0430\\u0434\\u043e \\u0432 \\u044d\\u0442\\u0443 \\u043f\\u043e\\u043b\\u0438\\u043a\\u043b\\u0438\\u043d\\u0438\\u043a\\u0443. \\u041e\\u0444\\u043e\\u0440\\u043c\\u0438\\u043b\\u0438\\u0441\\u044c. \\u041a\\u0430\\u0436\\u0434\\u044b\\u0439 \\u0440\\u0430\\u0437 \\u043a\\u043e\\u0433\\u0434\\u0430 \\u043f\\u0440\\u0438\\u0435\\u0437\\u0436\\u0430\\u0435\\u043c - \\u043d\\u0430\\u043c \\u0448\\u0432\\u044b\\u0440\\u044f\\u044e\\u0442 \\u043f\\u043e\\u043b\\u0438\\u0441 \\u043e\\u0431\\u0440\\u0430\\u0442\\u043d\\u043e \\u0438 \\u0433\\u043e\\u0432\\u043e\\u0440\\u044f\\u0442 \\u041a\\u0440\\u0430\\u0441\\u043d\\u043e\\u0437\\u043d\\u0430\\u043c\\u0435\\u043d\\u0441\\u043a \\u043d\\u0435 \\u043e\\u0431\\u0441\\u043b\\u0443\\u0436\\u0438\\u0432\\u0430\\u0435\\u043c. \\u0420\\u0435\\u0431\\u0435\\u043d\\u043a\\u0443 \\u0434\\u0430\\u043b\\u0438 \\u043d\\u0430\\u043f\\u0440\\u0430\\u0432\\u043b\\u0435\\u043d\\u0438\\u0435 \\u043a \\u0433\\u0438\\u043d\\u0435\\u043a\\u043e\\u043b\\u043e\\u0433\\u0443, \\u043d\\u0435 \\u043c\\u043e\\u0436\\u0435\\u043c \\u043f\\u0440\\u043e\\u0439\\u0442\\u0438 \\u0443\\u0436\\u0435 3 \\u043c\\u0435\\u0441. \\u0414\\u043e \\u0433\\u043e\\u0434\\u0430 \\u0442\\u043e\\u043b\\u044c\\u043a\\u043e 4 \\u0441\\u0443\\u0431\\u0431\\u043e\\u0442\\u0430 \\u043c\\u0435\\u0441\\u044f\\u0446\\u0430. \\u041f\\u0440\\u0438\\u0435\\u0437\\u0436\\u0430\\u043b\\u0438 \\u0438 \\u043a 7 \\u0443\\u0442\\u0440\\u0430, \\u0441\\u0442\\u043e\\u044f\\u043b\\u0438 \\u0432 \\u043e\\u0447\\u0435\\u0440\\u0435\\u0434\\u0438 \\u0437\\u0430 \\u0442\\u0430\\u043b\\u043e\\u043d\\u0430\\u043c\\u0438, \\u0430 \\u0432\\u0440\\u0430\\u0447\\u0438 \\u0441\\u0430\\u043c\\u043e\\u0435 \\u0438\\u043d\\u0442\\u0435\\u0440\\u0435\\u0441\\u043d\\u043e\\u0435 \\u0441 9 \\u0440\\u0430\\u0431\\u043e\\u0442\\u0430\\u044e\\u0442 \\u0438\\u043b\\u0438 \\u0432\\u043e \\u0432\\u0442\\u043e\\u0440\\u043e\\u0439 \\u043f\\u043e\\u043b\\u043e\\u0432\\u0438\\u043d\\u0435 \\u0434\\u043d\\u044f. \\u042f \\u0441\\u0447\\u0438\\u0442\\u0430\\u044e \\u044d\\u0442\\u043e \\u043f\\u0440\\u043e\\u0441\\u0442\\u043e \\u0438\\u0437\\u0434\\u0435\\u0432\\u0430\\u0442\\u0435\\u043b\\u044c\\u0441\\u0442\\u0432\\u043e \\u043d\\u0430\\u0434 \\u043b\\u044e\\u0434\\u044c\\u043c\\u0438! \\u0423\\u0436\\u0430\\u0441\\u043d\\u0430\\u044f \\u0431\\u043e\\u043b\\u044c\\u043d\\u0438\\u0446\\u0430, \\u0431\\u0443\\u0434\\u0435\\u043c \\u043e\\u0442\\u043a\\u0440\\u0435\\u043f\\u043b\\u044f\\u0442\\u044c\\u0441\\u044f. \\u0421\\u043b\\u0430\\u0432\\u0430 \\u0411\\u043e\\u0433\\u0443, \\u0447\\u0442\\u043e \\u043c\\u044b \\u0436\\u0438\\u0432\\u0435\\u043c \\u043d\\u0435 \\u0432 \\u041e\\u0434\\u0438\\u043d\\u0446\\u043e\\u0432\\u043e.\",\n          \"\\u041e\\u0433\\u0440\\u043e\\u043c\\u043d\\u043e\\u0435 \\u0441\\u043f\\u0430\\u0441\\u0438\\u0431\\u043e \\u0434\\u043e\\u043a\\u0442\\u043e\\u0440\\u0443 \\u041a\\u0430\\u0431\\u0430\\u043d\\u043e\\u0432\\u0443, \\u043d\\u0435 \\u043f\\u044c\\u044e \\u0443\\u0436\\u0435 6 \\u043b\\u0435\\u0442 (\\u0434\\u0432\\u0430 \\u0440\\u0430\\u0437\\u0430 \\u043f\\u043e 3 \\u0433\\u043e\\u0434\\u0430), \\u0438 \\u0435\\u0449\\u0435 \\u043f\\u043e\\u0441\\u043b\\u0435\\u0434\\u043d\\u0438\\u0439 \\u0440\\u0430\\u0437 \\u0437\\u0430\\u043a\\u043e\\u0434\\u0438\\u0440\\u043e\\u0432\\u0430\\u043b\\u0441\\u044f \\u043e\\u0442 \\u043e\\u0436\\u0438\\u0440\\u0435\\u043d\\u0438\\u044f, \\u0441\\u043a\\u0438\\u043d\\u0443\\u043b \\u0437\\u0430 \\u043c\\u0435\\u0441\\u044f\\u0446 12 \\u043a\\u0433. \\u0418 \\u044d\\u0442\\u043e \\u043d\\u0435 \\u043f\\u0440\\u0435\\u0434\\u0435\\u043b!\"\n        ],\n        \"semantic_type\": \"\",\n        \"description\": \"\"\n      }\n    },\n    {\n      \"column\": \"sentiment\",\n      \"properties\": {\n        \"dtype\": \"category\",\n        \"num_unique_values\": 2,\n        \"samples\": [\n          \"negative\",\n          \"positive\"\n        ],\n        \"semantic_type\": \"\",\n        \"description\": \"\"\n      }\n    }\n  ]\n}"
            }
          },
          "metadata": {},
          "execution_count": 3
        }
      ]
    },
    {
      "cell_type": "code",
      "source": [
        "df.info()"
      ],
      "metadata": {
        "colab": {
          "base_uri": "https://localhost:8080/"
        },
        "id": "Ju9KpZCWVexk",
        "outputId": "33323abe-7593-4e50-b2a6-4ae652c353b5"
      },
      "execution_count": 4,
      "outputs": [
        {
          "output_type": "stream",
          "name": "stdout",
          "text": [
            "<class 'pandas.core.frame.DataFrame'>\n",
            "RangeIndex: 70597 entries, 0 to 70596\n",
            "Data columns (total 2 columns):\n",
            " #   Column     Non-Null Count  Dtype \n",
            "---  ------     --------------  ----- \n",
            " 0   content    70597 non-null  object\n",
            " 1   sentiment  70597 non-null  object\n",
            "dtypes: object(2)\n",
            "memory usage: 1.1+ MB\n"
          ]
        }
      ]
    },
    {
      "cell_type": "code",
      "source": [
        "import nltk\n",
        "from nltk.tokenize import RegexpTokenizer\n",
        "from nltk.corpus import stopwords\n",
        "import pymorphy3"
      ],
      "metadata": {
        "id": "FMy6r9AYSfeI"
      },
      "execution_count": 5,
      "outputs": []
    },
    {
      "cell_type": "code",
      "source": [
        "nltk.download('stopwords')"
      ],
      "metadata": {
        "colab": {
          "base_uri": "https://localhost:8080/"
        },
        "id": "ShqJD74lS6ND",
        "outputId": "cf0e86c0-d0a0-407d-b89a-162a2223f779"
      },
      "execution_count": 6,
      "outputs": [
        {
          "output_type": "stream",
          "name": "stderr",
          "text": [
            "[nltk_data] Downloading package stopwords to /root/nltk_data...\n",
            "[nltk_data]   Package stopwords is already up-to-date!\n"
          ]
        },
        {
          "output_type": "execute_result",
          "data": {
            "text/plain": [
              "True"
            ]
          },
          "metadata": {},
          "execution_count": 6
        }
      ]
    },
    {
      "cell_type": "code",
      "source": [
        "morph = pymorphy3.MorphAnalyzer()\n",
        "\n",
        "russian_stop_words = pd.read_csv('stopwords-ru.txt', header=None)\n",
        "russian_stop_words = set(russian_stop_words[0])"
      ],
      "metadata": {
        "id": "40AB554WRdm5"
      },
      "execution_count": 7,
      "outputs": []
    },
    {
      "cell_type": "code",
      "source": [
        "def clean_text_transformer(X):\n",
        "    return X.apply(clean_text)\n",
        "\n",
        "def tokenize_text_transformer(X):\n",
        "    return X.apply(tokenize_text)\n",
        "\n",
        "def remove_stopwords_transformer(X):\n",
        "    return X.apply(remove_stopwords)\n",
        "\n",
        "def lemmatize_tokens_transformer(X):\n",
        "    return X.apply(lemmatize_tokens)\n",
        "\n",
        "def join_tokens_transformer(X):\n",
        "    return X.apply(join_tokens)"
      ],
      "metadata": {
        "id": "bvIDkZwGpZGR"
      },
      "execution_count": 65,
      "outputs": []
    },
    {
      "cell_type": "code",
      "source": [
        "def remove_emojis(text):\n",
        "    emoji_pattern = re.compile(\n",
        "        \"[\"\n",
        "        \"\\U0001F600-\\U0001F64F\"  # emoticons\n",
        "        \"\\U0001F300-\\U0001F5FF\"  # symbols & pictographs\n",
        "        \"\\U0001F680-\\U0001F6FF\"  # transport & map symbols\n",
        "        \"\\U0001F1E0-\\U0001F1FF\"  # flags (iOS)\n",
        "        \"\\U00002702-\\U000027B0\"\n",
        "        \"\\U000024C2-\\U0001F251\"\n",
        "        \"]+\", flags=re.UNICODE\n",
        "    )\n",
        "    return emoji_pattern.sub(r' ', text)\n",
        "\n",
        "def clean_text(text):\n",
        "    text = text.lower()\n",
        "    text = re.sub(r'http\\S+', \" \", text)\n",
        "    text = re.sub(r'@\\w+', ' ', text)\n",
        "    text = re.sub(r'#\\w+', ' ', text)\n",
        "    text = re.sub(r'\\d+', ' ', text)\n",
        "    text = remove_emojis(text)\n",
        "    text = re.sub(r'\\s+', ' ', text).strip()  # extra white-space\n",
        "    text = text.translate(str.maketrans('', '', string.punctuation))\n",
        "    text = re.sub(r'<.*?>', ' ', text)  # html tags\n",
        "    return text\n",
        "\n",
        "def tokenize_text(text):\n",
        "    tokenizer = RegexpTokenizer('\\w+')\n",
        "    return tokenizer.tokenize(text)\n",
        "\n",
        "def remove_stopwords(tokens):\n",
        "    stop_words = set(set(stopwords.words('english')).union(russian_stop_words))\n",
        "\n",
        "    return [word for word in tokens if word not in stop_words]\n",
        "\n",
        "def lemmatize_tokens(tokens):\n",
        "    return [morph.parse(token)[0].normal_form for token in tokens]\n",
        "\n",
        "def join_tokens(tokens):\n",
        "    return ' '.join(tokens)\n",
        "\n",
        "pipeline = Pipeline([\n",
        "    ('clean_text', sklearn.preprocessing.FunctionTransformer(clean_text_transformer)),\n",
        "    ('tokenize_text', sklearn.preprocessing.FunctionTransformer(tokenize_text_transformer)),\n",
        "    ('remove_stopwords', sklearn.preprocessing.FunctionTransformer(remove_stopwords_transformer)),\n",
        "    ('lemmatize_tokens', sklearn.preprocessing.FunctionTransformer(lemmatize_tokens_transformer)),\n",
        "    ('join_tokens', sklearn.preprocessing.FunctionTransformer(join_tokens_transformer)),\n",
        "    ('vectorizer', TfidfVectorizer(ngram_range=(1, 2), max_df=0.95, min_df=2, stop_words=list(russian_stop_words))),\n",
        "    ('svd', make_pipeline(TruncatedSVD(n_components=100, random_state=42), Normalizer(copy=False))),\n",
        "    ('classifier', sklearn.linear_model.LogisticRegression(class_weight='balanced', max_iter=1000, random_state=42))\n",
        "])"
      ],
      "metadata": {
        "id": "ElHvRMiCTFzv"
      },
      "execution_count": 66,
      "outputs": []
    },
    {
      "cell_type": "code",
      "source": [
        "X_train, X_test, y_train, y_test = sklearn.model_selection.train_test_split(df['content'],\n",
        "                                                                           df['sentiment'], test_size=0.2, random_state=42)"
      ],
      "metadata": {
        "id": "UShd3WgQZsa9"
      },
      "execution_count": 67,
      "outputs": []
    },
    {
      "cell_type": "code",
      "source": [
        "label_mapping = {'negative': 0, 'positive': 1}\n",
        "y_train_numeric = y_train.map(label_mapping)"
      ],
      "metadata": {
        "id": "8_bBLi9YfETZ"
      },
      "execution_count": 68,
      "outputs": []
    },
    {
      "cell_type": "code",
      "source": [
        "pipeline.fit(X_train, y_train_numeric)"
      ],
      "metadata": {
        "colab": {
          "base_uri": "https://localhost:8080/",
          "height": 450
        },
        "id": "PrnSyTLzZs45",
        "outputId": "4602c439-edf4-472e-ef33-fa5dcea6c1b4"
      },
      "execution_count": 69,
      "outputs": [
        {
          "output_type": "stream",
          "name": "stderr",
          "text": [
            "/usr/local/lib/python3.10/dist-packages/sklearn/feature_extraction/text.py:408: UserWarning: Your stop_words may be inconsistent with your preprocessing. Tokenizing the stop words generated tokens ['хотел'] not in stop_words.\n",
            "  warnings.warn(\n"
          ]
        },
        {
          "output_type": "execute_result",
          "data": {
            "text/plain": [
              "Pipeline(steps=[('clean_text',\n",
              "                 FunctionTransformer(func=<function clean_text_transformer at 0x7a948b62c550>)),\n",
              "                ('tokenize_text',\n",
              "                 FunctionTransformer(func=<function tokenize_text_transformer at 0x7a948b62c310>)),\n",
              "                ('remove_stopwords',\n",
              "                 FunctionTransformer(func=<function remove_stopwords_transformer at 0x7a948b62c280>)),\n",
              "                ('lemmatize_tokens',\n",
              "                 FunctionTransformer(func=<...\n",
              "                                             'жена', 'не', 'видел', 'спросить',\n",
              "                                             'менее', 'ими', 'всюду', 'будто',\n",
              "                                             'человек', 'хотя', 'ней', 'самим',\n",
              "                                             'мой', 'душа', 'каждая', 'далекий',\n",
              "                                             'всех', ...])),\n",
              "                ('svd',\n",
              "                 Pipeline(steps=[('truncatedsvd',\n",
              "                                  TruncatedSVD(n_components=100,\n",
              "                                               random_state=42)),\n",
              "                                 ('normalizer', Normalizer(copy=False))])),\n",
              "                ('classifier',\n",
              "                 LogisticRegression(class_weight='balanced', max_iter=1000,\n",
              "                                    random_state=42))])"
            ],
            "text/html": [
              "<style>#sk-container-id-4 {color: black;}#sk-container-id-4 pre{padding: 0;}#sk-container-id-4 div.sk-toggleable {background-color: white;}#sk-container-id-4 label.sk-toggleable__label {cursor: pointer;display: block;width: 100%;margin-bottom: 0;padding: 0.3em;box-sizing: border-box;text-align: center;}#sk-container-id-4 label.sk-toggleable__label-arrow:before {content: \"▸\";float: left;margin-right: 0.25em;color: #696969;}#sk-container-id-4 label.sk-toggleable__label-arrow:hover:before {color: black;}#sk-container-id-4 div.sk-estimator:hover label.sk-toggleable__label-arrow:before {color: black;}#sk-container-id-4 div.sk-toggleable__content {max-height: 0;max-width: 0;overflow: hidden;text-align: left;background-color: #f0f8ff;}#sk-container-id-4 div.sk-toggleable__content pre {margin: 0.2em;color: black;border-radius: 0.25em;background-color: #f0f8ff;}#sk-container-id-4 input.sk-toggleable__control:checked~div.sk-toggleable__content {max-height: 200px;max-width: 100%;overflow: auto;}#sk-container-id-4 input.sk-toggleable__control:checked~label.sk-toggleable__label-arrow:before {content: \"▾\";}#sk-container-id-4 div.sk-estimator input.sk-toggleable__control:checked~label.sk-toggleable__label {background-color: #d4ebff;}#sk-container-id-4 div.sk-label input.sk-toggleable__control:checked~label.sk-toggleable__label {background-color: #d4ebff;}#sk-container-id-4 input.sk-hidden--visually {border: 0;clip: rect(1px 1px 1px 1px);clip: rect(1px, 1px, 1px, 1px);height: 1px;margin: -1px;overflow: hidden;padding: 0;position: absolute;width: 1px;}#sk-container-id-4 div.sk-estimator {font-family: monospace;background-color: #f0f8ff;border: 1px dotted black;border-radius: 0.25em;box-sizing: border-box;margin-bottom: 0.5em;}#sk-container-id-4 div.sk-estimator:hover {background-color: #d4ebff;}#sk-container-id-4 div.sk-parallel-item::after {content: \"\";width: 100%;border-bottom: 1px solid gray;flex-grow: 1;}#sk-container-id-4 div.sk-label:hover label.sk-toggleable__label {background-color: #d4ebff;}#sk-container-id-4 div.sk-serial::before {content: \"\";position: absolute;border-left: 1px solid gray;box-sizing: border-box;top: 0;bottom: 0;left: 50%;z-index: 0;}#sk-container-id-4 div.sk-serial {display: flex;flex-direction: column;align-items: center;background-color: white;padding-right: 0.2em;padding-left: 0.2em;position: relative;}#sk-container-id-4 div.sk-item {position: relative;z-index: 1;}#sk-container-id-4 div.sk-parallel {display: flex;align-items: stretch;justify-content: center;background-color: white;position: relative;}#sk-container-id-4 div.sk-item::before, #sk-container-id-4 div.sk-parallel-item::before {content: \"\";position: absolute;border-left: 1px solid gray;box-sizing: border-box;top: 0;bottom: 0;left: 50%;z-index: -1;}#sk-container-id-4 div.sk-parallel-item {display: flex;flex-direction: column;z-index: 1;position: relative;background-color: white;}#sk-container-id-4 div.sk-parallel-item:first-child::after {align-self: flex-end;width: 50%;}#sk-container-id-4 div.sk-parallel-item:last-child::after {align-self: flex-start;width: 50%;}#sk-container-id-4 div.sk-parallel-item:only-child::after {width: 0;}#sk-container-id-4 div.sk-dashed-wrapped {border: 1px dashed gray;margin: 0 0.4em 0.5em 0.4em;box-sizing: border-box;padding-bottom: 0.4em;background-color: white;}#sk-container-id-4 div.sk-label label {font-family: monospace;font-weight: bold;display: inline-block;line-height: 1.2em;}#sk-container-id-4 div.sk-label-container {text-align: center;}#sk-container-id-4 div.sk-container {/* jupyter's `normalize.less` sets `[hidden] { display: none; }` but bootstrap.min.css set `[hidden] { display: none !important; }` so we also need the `!important` here to be able to override the default hidden behavior on the sphinx rendered scikit-learn.org. See: https://github.com/scikit-learn/scikit-learn/issues/21755 */display: inline-block !important;position: relative;}#sk-container-id-4 div.sk-text-repr-fallback {display: none;}</style><div id=\"sk-container-id-4\" class=\"sk-top-container\"><div class=\"sk-text-repr-fallback\"><pre>Pipeline(steps=[(&#x27;clean_text&#x27;,\n",
              "                 FunctionTransformer(func=&lt;function clean_text_transformer at 0x7a948b62c550&gt;)),\n",
              "                (&#x27;tokenize_text&#x27;,\n",
              "                 FunctionTransformer(func=&lt;function tokenize_text_transformer at 0x7a948b62c310&gt;)),\n",
              "                (&#x27;remove_stopwords&#x27;,\n",
              "                 FunctionTransformer(func=&lt;function remove_stopwords_transformer at 0x7a948b62c280&gt;)),\n",
              "                (&#x27;lemmatize_tokens&#x27;,\n",
              "                 FunctionTransformer(func=&lt;...\n",
              "                                             &#x27;жена&#x27;, &#x27;не&#x27;, &#x27;видел&#x27;, &#x27;спросить&#x27;,\n",
              "                                             &#x27;менее&#x27;, &#x27;ими&#x27;, &#x27;всюду&#x27;, &#x27;будто&#x27;,\n",
              "                                             &#x27;человек&#x27;, &#x27;хотя&#x27;, &#x27;ней&#x27;, &#x27;самим&#x27;,\n",
              "                                             &#x27;мой&#x27;, &#x27;душа&#x27;, &#x27;каждая&#x27;, &#x27;далекий&#x27;,\n",
              "                                             &#x27;всех&#x27;, ...])),\n",
              "                (&#x27;svd&#x27;,\n",
              "                 Pipeline(steps=[(&#x27;truncatedsvd&#x27;,\n",
              "                                  TruncatedSVD(n_components=100,\n",
              "                                               random_state=42)),\n",
              "                                 (&#x27;normalizer&#x27;, Normalizer(copy=False))])),\n",
              "                (&#x27;classifier&#x27;,\n",
              "                 LogisticRegression(class_weight=&#x27;balanced&#x27;, max_iter=1000,\n",
              "                                    random_state=42))])</pre><b>In a Jupyter environment, please rerun this cell to show the HTML representation or trust the notebook. <br />On GitHub, the HTML representation is unable to render, please try loading this page with nbviewer.org.</b></div><div class=\"sk-container\" hidden><div class=\"sk-item sk-dashed-wrapped\"><div class=\"sk-label-container\"><div class=\"sk-label sk-toggleable\"><input class=\"sk-toggleable__control sk-hidden--visually\" id=\"sk-estimator-id-34\" type=\"checkbox\" ><label for=\"sk-estimator-id-34\" class=\"sk-toggleable__label sk-toggleable__label-arrow\">Pipeline</label><div class=\"sk-toggleable__content\"><pre>Pipeline(steps=[(&#x27;clean_text&#x27;,\n",
              "                 FunctionTransformer(func=&lt;function clean_text_transformer at 0x7a948b62c550&gt;)),\n",
              "                (&#x27;tokenize_text&#x27;,\n",
              "                 FunctionTransformer(func=&lt;function tokenize_text_transformer at 0x7a948b62c310&gt;)),\n",
              "                (&#x27;remove_stopwords&#x27;,\n",
              "                 FunctionTransformer(func=&lt;function remove_stopwords_transformer at 0x7a948b62c280&gt;)),\n",
              "                (&#x27;lemmatize_tokens&#x27;,\n",
              "                 FunctionTransformer(func=&lt;...\n",
              "                                             &#x27;жена&#x27;, &#x27;не&#x27;, &#x27;видел&#x27;, &#x27;спросить&#x27;,\n",
              "                                             &#x27;менее&#x27;, &#x27;ими&#x27;, &#x27;всюду&#x27;, &#x27;будто&#x27;,\n",
              "                                             &#x27;человек&#x27;, &#x27;хотя&#x27;, &#x27;ней&#x27;, &#x27;самим&#x27;,\n",
              "                                             &#x27;мой&#x27;, &#x27;душа&#x27;, &#x27;каждая&#x27;, &#x27;далекий&#x27;,\n",
              "                                             &#x27;всех&#x27;, ...])),\n",
              "                (&#x27;svd&#x27;,\n",
              "                 Pipeline(steps=[(&#x27;truncatedsvd&#x27;,\n",
              "                                  TruncatedSVD(n_components=100,\n",
              "                                               random_state=42)),\n",
              "                                 (&#x27;normalizer&#x27;, Normalizer(copy=False))])),\n",
              "                (&#x27;classifier&#x27;,\n",
              "                 LogisticRegression(class_weight=&#x27;balanced&#x27;, max_iter=1000,\n",
              "                                    random_state=42))])</pre></div></div></div><div class=\"sk-serial\"><div class=\"sk-item\"><div class=\"sk-estimator sk-toggleable\"><input class=\"sk-toggleable__control sk-hidden--visually\" id=\"sk-estimator-id-35\" type=\"checkbox\" ><label for=\"sk-estimator-id-35\" class=\"sk-toggleable__label sk-toggleable__label-arrow\">FunctionTransformer</label><div class=\"sk-toggleable__content\"><pre>FunctionTransformer(func=&lt;function clean_text_transformer at 0x7a948b62c550&gt;)</pre></div></div></div><div class=\"sk-item\"><div class=\"sk-estimator sk-toggleable\"><input class=\"sk-toggleable__control sk-hidden--visually\" id=\"sk-estimator-id-36\" type=\"checkbox\" ><label for=\"sk-estimator-id-36\" class=\"sk-toggleable__label sk-toggleable__label-arrow\">FunctionTransformer</label><div class=\"sk-toggleable__content\"><pre>FunctionTransformer(func=&lt;function tokenize_text_transformer at 0x7a948b62c310&gt;)</pre></div></div></div><div class=\"sk-item\"><div class=\"sk-estimator sk-toggleable\"><input class=\"sk-toggleable__control sk-hidden--visually\" id=\"sk-estimator-id-37\" type=\"checkbox\" ><label for=\"sk-estimator-id-37\" class=\"sk-toggleable__label sk-toggleable__label-arrow\">FunctionTransformer</label><div class=\"sk-toggleable__content\"><pre>FunctionTransformer(func=&lt;function remove_stopwords_transformer at 0x7a948b62c280&gt;)</pre></div></div></div><div class=\"sk-item\"><div class=\"sk-estimator sk-toggleable\"><input class=\"sk-toggleable__control sk-hidden--visually\" id=\"sk-estimator-id-38\" type=\"checkbox\" ><label for=\"sk-estimator-id-38\" class=\"sk-toggleable__label sk-toggleable__label-arrow\">FunctionTransformer</label><div class=\"sk-toggleable__content\"><pre>FunctionTransformer(func=&lt;function lemmatize_tokens_transformer at 0x7a948b62c430&gt;)</pre></div></div></div><div class=\"sk-item\"><div class=\"sk-estimator sk-toggleable\"><input class=\"sk-toggleable__control sk-hidden--visually\" id=\"sk-estimator-id-39\" type=\"checkbox\" ><label for=\"sk-estimator-id-39\" class=\"sk-toggleable__label sk-toggleable__label-arrow\">FunctionTransformer</label><div class=\"sk-toggleable__content\"><pre>FunctionTransformer(func=&lt;function join_tokens_transformer at 0x7a948b62c4c0&gt;)</pre></div></div></div><div class=\"sk-item\"><div class=\"sk-estimator sk-toggleable\"><input class=\"sk-toggleable__control sk-hidden--visually\" id=\"sk-estimator-id-40\" type=\"checkbox\" ><label for=\"sk-estimator-id-40\" class=\"sk-toggleable__label sk-toggleable__label-arrow\">TfidfVectorizer</label><div class=\"sk-toggleable__content\"><pre>TfidfVectorizer(max_df=0.95, min_df=2, ngram_range=(1, 2),\n",
              "                stop_words=[&#x27;даром&#x27;, &#x27;бывь&#x27;, &#x27;земля&#x27;, &#x27;никогда&#x27;, &#x27;кого&#x27;, &#x27;само&#x27;,\n",
              "                            &#x27;обычно&#x27;, &#x27;каждое&#x27;, &#x27;между&#x27;, &#x27;вам&#x27;, &#x27;наши&#x27;, &#x27;делаю&#x27;,\n",
              "                            &#x27;последний&#x27;, &#x27;жена&#x27;, &#x27;не&#x27;, &#x27;видел&#x27;, &#x27;спросить&#x27;,\n",
              "                            &#x27;менее&#x27;, &#x27;ими&#x27;, &#x27;всюду&#x27;, &#x27;будто&#x27;, &#x27;человек&#x27;, &#x27;хотя&#x27;,\n",
              "                            &#x27;ней&#x27;, &#x27;самим&#x27;, &#x27;мой&#x27;, &#x27;душа&#x27;, &#x27;каждая&#x27;, &#x27;далекий&#x27;,\n",
              "                            &#x27;всех&#x27;, ...])</pre></div></div></div><div class=\"sk-item\"><div class=\"sk-label-container\"><div class=\"sk-label sk-toggleable\"><input class=\"sk-toggleable__control sk-hidden--visually\" id=\"sk-estimator-id-41\" type=\"checkbox\" ><label for=\"sk-estimator-id-41\" class=\"sk-toggleable__label sk-toggleable__label-arrow\">svd: Pipeline</label><div class=\"sk-toggleable__content\"><pre>Pipeline(steps=[(&#x27;truncatedsvd&#x27;,\n",
              "                 TruncatedSVD(n_components=100, random_state=42)),\n",
              "                (&#x27;normalizer&#x27;, Normalizer(copy=False))])</pre></div></div></div><div class=\"sk-serial\"><div class=\"sk-item\"><div class=\"sk-estimator sk-toggleable\"><input class=\"sk-toggleable__control sk-hidden--visually\" id=\"sk-estimator-id-42\" type=\"checkbox\" ><label for=\"sk-estimator-id-42\" class=\"sk-toggleable__label sk-toggleable__label-arrow\">TruncatedSVD</label><div class=\"sk-toggleable__content\"><pre>TruncatedSVD(n_components=100, random_state=42)</pre></div></div></div><div class=\"sk-item\"><div class=\"sk-estimator sk-toggleable\"><input class=\"sk-toggleable__control sk-hidden--visually\" id=\"sk-estimator-id-43\" type=\"checkbox\" ><label for=\"sk-estimator-id-43\" class=\"sk-toggleable__label sk-toggleable__label-arrow\">Normalizer</label><div class=\"sk-toggleable__content\"><pre>Normalizer(copy=False)</pre></div></div></div></div></div><div class=\"sk-item\"><div class=\"sk-estimator sk-toggleable\"><input class=\"sk-toggleable__control sk-hidden--visually\" id=\"sk-estimator-id-44\" type=\"checkbox\" ><label for=\"sk-estimator-id-44\" class=\"sk-toggleable__label sk-toggleable__label-arrow\">LogisticRegression</label><div class=\"sk-toggleable__content\"><pre>LogisticRegression(class_weight=&#x27;balanced&#x27;, max_iter=1000, random_state=42)</pre></div></div></div></div></div></div></div>"
            ]
          },
          "metadata": {},
          "execution_count": 69
        }
      ]
    },
    {
      "cell_type": "code",
      "source": [
        "y_pred = pipeline.predict(X_test)"
      ],
      "metadata": {
        "id": "4bG-BbJ8aU8q"
      },
      "execution_count": 70,
      "outputs": []
    },
    {
      "cell_type": "code",
      "source": [
        "y_pred"
      ],
      "metadata": {
        "colab": {
          "base_uri": "https://localhost:8080/"
        },
        "id": "HZ17J2R9izUK",
        "outputId": "87b3f725-a3e3-4bf6-b492-b4a38e5d712e"
      },
      "execution_count": 71,
      "outputs": [
        {
          "output_type": "execute_result",
          "data": {
            "text/plain": [
              "array([0, 1, 0, ..., 0, 1, 0])"
            ]
          },
          "metadata": {},
          "execution_count": 71
        }
      ]
    },
    {
      "cell_type": "code",
      "source": [
        "y_pred_labels = [('negative' if pred == 0 else 'positive') for pred in y_pred]"
      ],
      "metadata": {
        "id": "vp2IwjxkfOF8"
      },
      "execution_count": 72,
      "outputs": []
    },
    {
      "cell_type": "code",
      "source": [
        "y_pred_labels[:3], y_pred_labels[-3:]"
      ],
      "metadata": {
        "colab": {
          "base_uri": "https://localhost:8080/"
        },
        "id": "HX8RHRCZi1aj",
        "outputId": "d7bbcef9-2533-4140-a6cf-afb97d7cea7d"
      },
      "execution_count": 73,
      "outputs": [
        {
          "output_type": "execute_result",
          "data": {
            "text/plain": [
              "(['negative', 'positive', 'negative'], ['negative', 'positive', 'negative'])"
            ]
          },
          "metadata": {},
          "execution_count": 73
        }
      ]
    },
    {
      "cell_type": "code",
      "source": [
        "f1_macro = sklearn.metrics.f1_score(y_test, y_pred_labels, average='macro')"
      ],
      "metadata": {
        "id": "PHJqlWQxo3O1"
      },
      "execution_count": 74,
      "outputs": []
    },
    {
      "cell_type": "code",
      "source": [
        "print(\"Accuracy:\", sklearn.metrics.accuracy_score(y_test, y_pred_labels))\n",
        "print(sklearn.metrics.classification_report(y_test, y_pred_labels))\n",
        "print(f\"F1 Macro Score: {f1_macro}\")"
      ],
      "metadata": {
        "colab": {
          "base_uri": "https://localhost:8080/"
        },
        "id": "iEUySalEafwE",
        "outputId": "4220a05d-b073-4ec3-b047-f054e3b0079f"
      },
      "execution_count": 75,
      "outputs": [
        {
          "output_type": "stream",
          "name": "stdout",
          "text": [
            "Accuracy: 0.9102691218130312\n",
            "              precision    recall  f1-score   support\n",
            "\n",
            "    negative       0.87      0.92      0.89      5778\n",
            "    positive       0.94      0.90      0.92      8342\n",
            "\n",
            "    accuracy                           0.91     14120\n",
            "   macro avg       0.91      0.91      0.91     14120\n",
            "weighted avg       0.91      0.91      0.91     14120\n",
            "\n",
            "F1 Macro Score: 0.9079969163762083\n"
          ]
        }
      ]
    },
    {
      "cell_type": "code",
      "source": [
        "reverse_label_mapping = {v: k for k, v in label_mapping.items()}\n",
        "new_review = \"Очень хорошая поликлиника, мне все понравилось!\"\n",
        "review_series = pd.Series([new_review])\n",
        "predicted_numeric = pipeline.predict(review_series)[0]\n",
        "predicted_label = reverse_label_mapping[predicted_numeric]\n",
        "predicted_numeric, predicted_label"
      ],
      "metadata": {
        "colab": {
          "base_uri": "https://localhost:8080/"
        },
        "id": "Dsf9moA1ic6Y",
        "outputId": "72efccf0-734c-487b-d466-76bc435a291f"
      },
      "execution_count": 76,
      "outputs": [
        {
          "output_type": "execute_result",
          "data": {
            "text/plain": [
              "(1, 'positive')"
            ]
          },
          "metadata": {},
          "execution_count": 76
        }
      ]
    },
    {
      "cell_type": "code",
      "source": [
        "import joblib\n",
        "import json\n",
        "\n",
        "joblib.dump(pipeline, 'sentiment_model_pipeline.pkl')\n",
        "with open('label_mapping.json', 'w') as f:\n",
        "    json.dump(label_mapping, f)"
      ],
      "metadata": {
        "id": "B2EMosWjlu6T"
      },
      "execution_count": 77,
      "outputs": []
    },
    {
      "cell_type": "code",
      "source": [],
      "metadata": {
        "id": "JR7LNnTQocAn"
      },
      "execution_count": 77,
      "outputs": []
    }
  ]
}